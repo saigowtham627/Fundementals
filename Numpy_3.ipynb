{
  "nbformat": 4,
  "nbformat_minor": 0,
  "metadata": {
    "colab": {
      "provenance": [],
      "authorship_tag": "ABX9TyMUnk5n92t+KA8eLeE/oM5W",
      "include_colab_link": true
    },
    "kernelspec": {
      "name": "python3",
      "display_name": "Python 3"
    },
    "language_info": {
      "name": "python"
    }
  },
  "cells": [
    {
      "cell_type": "markdown",
      "metadata": {
        "id": "view-in-github",
        "colab_type": "text"
      },
      "source": [
        "<a href=\"https://colab.research.google.com/github/saigowtham627/Fundementals/blob/main/Numpy_3.ipynb\" target=\"_parent\"><img src=\"https://colab.research.google.com/assets/colab-badge.svg\" alt=\"Open In Colab\"/></a>"
      ]
    },
    {
      "cell_type": "code",
      "source": [
        "import numpy as np"
      ],
      "metadata": {
        "id": "qZSFMJBR2tSO"
      },
      "execution_count": null,
      "outputs": []
    },
    {
      "cell_type": "code",
      "execution_count": null,
      "metadata": {
        "colab": {
          "base_uri": "https://localhost:8080/"
        },
        "id": "haJZkyRczTbd",
        "outputId": "68d693f7-afd2-46a8-862a-0d8e9780134e"
      },
      "outputs": [
        {
          "output_type": "execute_result",
          "data": {
            "text/plain": [
              "array([ 1, 26, 51, 76])"
            ]
          },
          "metadata": {},
          "execution_count": 5
        }
      ],
      "source": [
        "#np.sort\n",
        "#Python sort gives the sorted array in the form of Python list\n",
        "#np.sort gives numpy array in the sorted form\n",
        "\n",
        "a = np.arange(1,100,25) #Produces numbers between 1 to 100 with a difference of 25\n",
        "a"
      ]
    },
    {
      "cell_type": "code",
      "source": [
        "a = np.random.randint(1,100,25)\n",
        "a\n",
        "np.sort(a) #Defaultly sorts in ASCENDING order, from small maginitude to larger magnitude"
      ],
      "metadata": {
        "colab": {
          "base_uri": "https://localhost:8080/"
        },
        "id": "OsDr12Sw2-3Q",
        "outputId": "72f907fb-ce0f-41c5-ca2c-aa35e577ccd1"
      },
      "execution_count": null,
      "outputs": [
        {
          "output_type": "execute_result",
          "data": {
            "text/plain": [
              "array([ 1,  2,  5,  6,  7, 12, 12, 16, 18, 24, 28, 31, 32, 32, 42, 43, 55,\n",
              "       55, 59, 72, 75, 83, 91, 93, 97])"
            ]
          },
          "metadata": {},
          "execution_count": 7
        }
      ]
    },
    {
      "cell_type": "code",
      "source": [
        "b = np.random.randint(200,300,25).reshape(5,5)\n",
        "b"
      ],
      "metadata": {
        "colab": {
          "base_uri": "https://localhost:8080/"
        },
        "id": "PRqPQ9723PHw",
        "outputId": "6e321a4d-9002-44ee-e363-dfc2f0f00ee7"
      },
      "execution_count": 114,
      "outputs": [
        {
          "output_type": "execute_result",
          "data": {
            "text/plain": [
              "array([[272, 253, 264, 202, 209],\n",
              "       [226, 265, 212, 294, 221],\n",
              "       [298, 237, 299, 226, 229],\n",
              "       [256, 270, 291, 227, 255],\n",
              "       [260, 255, 210, 253, 222]])"
            ]
          },
          "metadata": {},
          "execution_count": 114
        }
      ]
    },
    {
      "cell_type": "code",
      "source": [
        "np.sort(b) #Default is row wise sorting, Performs sorting on each row"
      ],
      "metadata": {
        "colab": {
          "base_uri": "https://localhost:8080/"
        },
        "id": "Kgy3Xiai3aXR",
        "outputId": "d10faf09-618d-46dd-dc50-06cab41b5048"
      },
      "execution_count": null,
      "outputs": [
        {
          "output_type": "execute_result",
          "data": {
            "text/plain": [
              "array([[216, 222, 262, 277, 293],\n",
              "       [220, 223, 232, 283, 295],\n",
              "       [248, 268, 271, 281, 287],\n",
              "       [212, 222, 251, 271, 295],\n",
              "       [234, 251, 269, 279, 299]])"
            ]
          },
          "metadata": {},
          "execution_count": 9
        }
      ]
    },
    {
      "cell_type": "code",
      "source": [
        "np.sort(b, axis=0) #Performs sorting on each column"
      ],
      "metadata": {
        "colab": {
          "base_uri": "https://localhost:8080/"
        },
        "id": "KBRGwTa83uzd",
        "outputId": "836b904f-74c0-4a1f-bd67-82cdd142da31"
      },
      "execution_count": null,
      "outputs": [
        {
          "output_type": "execute_result",
          "data": {
            "text/plain": [
              "array([[234, 222, 212, 222, 251],\n",
              "       [248, 223, 216, 232, 271],\n",
              "       [262, 251, 220, 268, 271],\n",
              "       [295, 269, 279, 277, 283],\n",
              "       [295, 281, 287, 299, 293]])"
            ]
          },
          "metadata": {},
          "execution_count": 12
        }
      ]
    },
    {
      "cell_type": "code",
      "source": [
        "#If we want to sort in descending order, i.e; From Larger magnitude to Smaller magnitude\n",
        "np.sort(a)[::-1] #[::-1] is used to reverse the array which is sorted in ascending order, which gives us the descending order\n"
      ],
      "metadata": {
        "colab": {
          "base_uri": "https://localhost:8080/"
        },
        "id": "3r7vgzCv4FqW",
        "outputId": "739d7f2b-aa67-4366-ea7e-1fe58e5e179d"
      },
      "execution_count": null,
      "outputs": [
        {
          "output_type": "execute_result",
          "data": {
            "text/plain": [
              "array([97, 93, 91, 83, 75, 72, 59, 55, 55, 43, 42, 32, 32, 31, 28, 24, 18,\n",
              "       16, 12, 12,  7,  6,  5,  2,  1])"
            ]
          },
          "metadata": {},
          "execution_count": 13
        }
      ]
    },
    {
      "cell_type": "code",
      "source": [
        "#np.append\n",
        "#Similar to append in Python, appends the elements at the end of the array\n",
        "a"
      ],
      "metadata": {
        "colab": {
          "base_uri": "https://localhost:8080/"
        },
        "id": "riBdtqMN49-Y",
        "outputId": "65d5643e-cb92-4707-e2aa-63ae66e9e557"
      },
      "execution_count": null,
      "outputs": [
        {
          "output_type": "execute_result",
          "data": {
            "text/plain": [
              "array([ 2, 31,  6, 12, 32, 83, 72, 24, 12,  7, 55, 18, 42, 93, 16,  1, 43,\n",
              "        5, 75, 59, 55, 97, 28, 91, 32])"
            ]
          },
          "metadata": {},
          "execution_count": 14
        }
      ]
    },
    {
      "cell_type": "code",
      "source": [
        "np.append(a,200) #We have to pass the name of the list and the number we want to append"
      ],
      "metadata": {
        "colab": {
          "base_uri": "https://localhost:8080/"
        },
        "id": "chsANE6Y5Pbo",
        "outputId": "39c75212-1837-4cfe-efdc-638bcb1fd19e"
      },
      "execution_count": null,
      "outputs": [
        {
          "output_type": "execute_result",
          "data": {
            "text/plain": [
              "array([  2,  31,   6,  12,  32,  83,  72,  24,  12,   7,  55,  18,  42,\n",
              "        93,  16,   1,  43,   5,  75,  59,  55,  97,  28,  91,  32, 200])"
            ]
          },
          "metadata": {},
          "execution_count": 16
        }
      ]
    },
    {
      "cell_type": "code",
      "source": [
        "b"
      ],
      "metadata": {
        "colab": {
          "base_uri": "https://localhost:8080/"
        },
        "id": "gTZZO7NY5kwo",
        "outputId": "88433535-408e-4a32-d779-b9e926706e37"
      },
      "execution_count": null,
      "outputs": [
        {
          "output_type": "execute_result",
          "data": {
            "text/plain": [
              "array([[262, 222, 216, 277, 293],\n",
              "       [295, 223, 220, 232, 283],\n",
              "       [248, 281, 287, 268, 271],\n",
              "       [295, 251, 212, 222, 271],\n",
              "       [234, 269, 279, 299, 251]])"
            ]
          },
          "metadata": {},
          "execution_count": 32
        }
      ]
    },
    {
      "cell_type": "code",
      "source": [
        "b.shape #Gives the shape of array\n",
        "b.shape[0] #Gives the first element of shape of the array, which is basically number of Rows\n",
        "b.shape[1] #Gives second element of shape of the array, which is number of columns"
      ],
      "metadata": {
        "colab": {
          "base_uri": "https://localhost:8080/"
        },
        "id": "a5mePKUB6876",
        "outputId": "6d2873bb-7890-49d8-aa3f-bcb5fd2a8a32"
      },
      "execution_count": null,
      "outputs": [
        {
          "output_type": "execute_result",
          "data": {
            "text/plain": [
              "5"
            ]
          },
          "metadata": {},
          "execution_count": 35
        }
      ]
    },
    {
      "cell_type": "code",
      "source": [
        "#Append a column of 1's at the end of b\n",
        "c = np.ones(5,dtype=np.int32).reshape(5,1)\n",
        "c"
      ],
      "metadata": {
        "colab": {
          "base_uri": "https://localhost:8080/"
        },
        "id": "JAjQr4Dl500Z",
        "outputId": "205ce8d1-f4d9-477c-8c76-1a5be210d64e"
      },
      "execution_count": null,
      "outputs": [
        {
          "output_type": "execute_result",
          "data": {
            "text/plain": [
              "array([[1],\n",
              "       [1],\n",
              "       [1],\n",
              "       [1],\n",
              "       [1]], dtype=int32)"
            ]
          },
          "metadata": {},
          "execution_count": 29
        }
      ]
    },
    {
      "cell_type": "code",
      "source": [
        "np.append(b,c,axis=1)"
      ],
      "metadata": {
        "colab": {
          "base_uri": "https://localhost:8080/"
        },
        "id": "G6BDrEIZ6Coh",
        "outputId": "365f0479-2aa7-466d-f6d9-0d6859963d23"
      },
      "execution_count": null,
      "outputs": [
        {
          "output_type": "execute_result",
          "data": {
            "text/plain": [
              "array([[262, 222, 216, 277, 293,   1],\n",
              "       [295, 223, 220, 232, 283,   1],\n",
              "       [248, 281, 287, 268, 271,   1],\n",
              "       [295, 251, 212, 222, 271,   1],\n",
              "       [234, 269, 279, 299, 251,   1]])"
            ]
          },
          "metadata": {},
          "execution_count": 31
        }
      ]
    },
    {
      "cell_type": "code",
      "source": [
        "b"
      ],
      "metadata": {
        "colab": {
          "base_uri": "https://localhost:8080/"
        },
        "id": "0pEOeh0R8Ygq",
        "outputId": "a264dd07-8d78-4f16-c844-0873e8afd569"
      },
      "execution_count": null,
      "outputs": [
        {
          "output_type": "execute_result",
          "data": {
            "text/plain": [
              "array([[262, 222, 216, 277, 293],\n",
              "       [295, 223, 220, 232, 283],\n",
              "       [248, 281, 287, 268, 271],\n",
              "       [295, 251, 212, 222, 271],\n",
              "       [234, 269, 279, 299, 251]])"
            ]
          },
          "metadata": {},
          "execution_count": 45
        }
      ]
    },
    {
      "cell_type": "code",
      "source": [
        "#We can perform the above operation directly also\n",
        "np.append(b, np.ones((b.shape[0],1)), axis = 1)"
      ],
      "metadata": {
        "colab": {
          "base_uri": "https://localhost:8080/"
        },
        "id": "gCkCJ5jS7aEZ",
        "outputId": "56bc0a17-87ad-4007-b005-f355c0d5302e"
      },
      "execution_count": null,
      "outputs": [
        {
          "output_type": "execute_result",
          "data": {
            "text/plain": [
              "array([[262., 222., 216., 277., 293.,   1.],\n",
              "       [295., 223., 220., 232., 283.,   1.],\n",
              "       [248., 281., 287., 268., 271.,   1.],\n",
              "       [295., 251., 212., 222., 271.,   1.],\n",
              "       [234., 269., 279., 299., 251.,   1.]])"
            ]
          },
          "metadata": {},
          "execution_count": 47
        }
      ]
    },
    {
      "cell_type": "code",
      "source": [
        "#np.concatenate\n",
        "#numpy.concatenate() function concatenates a sequence of arrays along existing axis\n",
        "#Mostly used in Tabular data\n",
        "\n",
        "c = np.arange(6).reshape(2,3)\n",
        "d = np.arange(6,12).reshape(2,3)\n",
        "\n",
        "print(c)\n",
        "print(d)\n",
        "\n",
        "#Concatenate is a replacement for stacking\n",
        "\"\"\"While using Concatenate we have to pass the arrays in a tuple\"\"\"\n",
        "\n",
        "np.concatenate((c,d), axis = 1) #Row wise concatenation\n",
        "#We combine 2 rows, by taking each row from one matrix and joining with other row in other matrix"
      ],
      "metadata": {
        "id": "G36gF_fM87i4",
        "colab": {
          "base_uri": "https://localhost:8080/"
        },
        "outputId": "f4549dc4-8a43-43c1-fdf0-f0e85897b69f"
      },
      "execution_count": null,
      "outputs": [
        {
          "output_type": "stream",
          "name": "stdout",
          "text": [
            "[[0 1 2]\n",
            " [3 4 5]]\n",
            "[[ 6  7  8]\n",
            " [ 9 10 11]]\n"
          ]
        },
        {
          "output_type": "execute_result",
          "data": {
            "text/plain": [
              "array([[ 0,  1,  2,  6,  7,  8],\n",
              "       [ 3,  4,  5,  9, 10, 11]])"
            ]
          },
          "metadata": {},
          "execution_count": 51
        }
      ]
    },
    {
      "cell_type": "code",
      "source": [
        "np.concatenate((c,d),axis=0)\n",
        "\n",
        "#We join each columns"
      ],
      "metadata": {
        "colab": {
          "base_uri": "https://localhost:8080/"
        },
        "id": "Nd2XNKY3BfvI",
        "outputId": "5ccd5c56-0a5c-4704-dd19-4d0f53ff6e73"
      },
      "execution_count": null,
      "outputs": [
        {
          "output_type": "execute_result",
          "data": {
            "text/plain": [
              "array([[ 0,  1,  2],\n",
              "       [ 3,  4,  5],\n",
              "       [ 6,  7,  8],\n",
              "       [ 9, 10, 11]])"
            ]
          },
          "metadata": {},
          "execution_count": 52
        }
      ]
    },
    {
      "cell_type": "code",
      "source": [
        "#np.unique\n",
        "#np.unique() method gives us the unique values from an array given as parameter in np.unique method\n",
        "\n",
        "e = [1,1,1,1,1,1,1,2,2,2,2,2,2,2,2,3,3,3,3,3,3,4]\n",
        "np.unique(e)"
      ],
      "metadata": {
        "id": "YV0CBPSqCcDH",
        "colab": {
          "base_uri": "https://localhost:8080/"
        },
        "outputId": "a4de186d-aa67-4f47-f5b5-57549fe00879"
      },
      "execution_count": 54,
      "outputs": [
        {
          "output_type": "execute_result",
          "data": {
            "text/plain": [
              "array([1, 2, 3, 4])"
            ]
          },
          "metadata": {},
          "execution_count": 54
        }
      ]
    },
    {
      "cell_type": "code",
      "source": [
        "#expand_dims\n",
        "#Used to make row vector or column vector in linear algebra\n",
        "#It is used to pass the data in batches but not as Single value.\n",
        "\n",
        "a.shape #(25,)\n",
        "a = np.expand_dims(a, axis=1)\n",
        "a.shape #(25,1)\n"
      ],
      "metadata": {
        "colab": {
          "base_uri": "https://localhost:8080/"
        },
        "id": "tRJaF9sJDRMD",
        "outputId": "a3c28ca9-91a5-411f-b06d-0d5bf6b0b32f"
      },
      "execution_count": 59,
      "outputs": [
        {
          "output_type": "execute_result",
          "data": {
            "text/plain": [
              "(25, 1)"
            ]
          },
          "metadata": {},
          "execution_count": 59
        }
      ]
    },
    {
      "cell_type": "code",
      "source": [
        "k = np.arange(10,30,5)\n",
        "print(k)\n",
        "k = np.expand_dims(k, axis=1)\n",
        "k"
      ],
      "metadata": {
        "colab": {
          "base_uri": "https://localhost:8080/"
        },
        "id": "fsPS2otyE77l",
        "outputId": "ffdf04a4-ec9d-4a7c-8fe6-2e642bfa3b77"
      },
      "execution_count": 67,
      "outputs": [
        {
          "output_type": "stream",
          "name": "stdout",
          "text": [
            "[10 15 20 25]\n"
          ]
        },
        {
          "output_type": "execute_result",
          "data": {
            "text/plain": [
              "array([[10],\n",
              "       [15],\n",
              "       [20],\n",
              "       [25]])"
            ]
          },
          "metadata": {},
          "execution_count": 67
        }
      ]
    },
    {
      "cell_type": "code",
      "source": [
        "x = np.random.randint(1,100,25)\n",
        "x"
      ],
      "metadata": {
        "colab": {
          "base_uri": "https://localhost:8080/"
        },
        "id": "bpvnfIJXF7P3",
        "outputId": "d9bc9d15-f3ae-44db-9f31-8f03e2f45fe9"
      },
      "execution_count": 85,
      "outputs": [
        {
          "output_type": "execute_result",
          "data": {
            "text/plain": [
              "array([24, 62, 85, 79, 47,  9, 54, 39, 30,  3,  9, 42, 40, 82, 85, 29, 97,\n",
              "       79, 87, 35, 19, 89, 87, 94, 38])"
            ]
          },
          "metadata": {},
          "execution_count": 85
        }
      ]
    },
    {
      "cell_type": "code",
      "source": [
        "#np.where\n",
        "#np.where() function returns the \"\"\"INDICES\"\"\" of the elements in an input array, where the condition passed is satisfied\n",
        "\n",
        "np.where(x>50)\n"
      ],
      "metadata": {
        "colab": {
          "base_uri": "https://localhost:8080/"
        },
        "id": "XF6-RaiEFVB-",
        "outputId": "54aef30b-0c96-4d26-b280-accb457a93d5"
      },
      "execution_count": 76,
      "outputs": [
        {
          "output_type": "execute_result",
          "data": {
            "text/plain": [
              "(array([ 2,  3,  5,  6, 10, 11, 16, 19, 22, 24]),)"
            ]
          },
          "metadata": {},
          "execution_count": 76
        }
      ]
    },
    {
      "cell_type": "code",
      "source": [
        "#Replace all values>50 in x with 0\n",
        "#np.where syntax - np.where(condition,If true replace with,If false what to do)\n",
        "\n",
        "np.where(x>50,0,x) #If the number at index x is greater then 50, Replace it with 0\n",
        "#Else keep it as it is like x\n"
      ],
      "metadata": {
        "colab": {
          "base_uri": "https://localhost:8080/"
        },
        "id": "z66SvbvZGMUr",
        "outputId": "ca74c431-7e68-49de-cf09-fe8d96e2750a"
      },
      "execution_count": 89,
      "outputs": [
        {
          "output_type": "execute_result",
          "data": {
            "text/plain": [
              "array([24,  0,  0,  0, 47,  9,  0, 39, 30,  3,  9, 42, 40,  0,  0, 29,  0,\n",
              "        0,  0, 35, 19,  0,  0,  0, 38])"
            ]
          },
          "metadata": {},
          "execution_count": 89
        }
      ]
    },
    {
      "cell_type": "code",
      "source": [
        "#Replace all even numbers with 0 and odd numbers with -1\n",
        "np.where(x%2==0,0,-1)"
      ],
      "metadata": {
        "colab": {
          "base_uri": "https://localhost:8080/"
        },
        "id": "sWkdo52ZHDKX",
        "outputId": "d61751e2-08b5-4d85-a68b-ba7d0aa3e641"
      },
      "execution_count": 92,
      "outputs": [
        {
          "output_type": "execute_result",
          "data": {
            "text/plain": [
              "array([ 0,  0, -1, -1, -1, -1,  0, -1,  0, -1, -1,  0,  0,  0, -1, -1, -1,\n",
              "       -1, -1, -1, -1, -1, -1,  0,  0])"
            ]
          },
          "metadata": {},
          "execution_count": 92
        }
      ]
    },
    {
      "cell_type": "code",
      "source": [
        "#np.argmax() returns/gives the \"INDEX\" of the largest element in the array\n",
        "np.argmax(b, axis=1) #returns the indices of the max element in each row\n",
        "np.argmax(b, axis=0) #returns the indices of the max element in each column\n",
        "np.argmax(b) #Index of the largest element in the whole matrix"
      ],
      "metadata": {
        "colab": {
          "base_uri": "https://localhost:8080/"
        },
        "id": "8c-5VhDRLwkK",
        "outputId": "cdf939af-8d95-4fe4-9d27-e9ae6b2a0dfe"
      },
      "execution_count": 101,
      "outputs": [
        {
          "output_type": "execute_result",
          "data": {
            "text/plain": [
              "23"
            ]
          },
          "metadata": {},
          "execution_count": 101
        }
      ]
    },
    {
      "cell_type": "code",
      "source": [
        "#np.argmin() , Opposite of argmax(), gives the \"Index\" of the minimum element\n",
        "np.argmin(b,axis=0)\n",
        "np.argmin(b,axis=1)"
      ],
      "metadata": {
        "colab": {
          "base_uri": "https://localhost:8080/"
        },
        "id": "kHV0BO58Mq2t",
        "outputId": "66593443-6eff-4135-c2ec-b614773358aa"
      },
      "execution_count": 103,
      "outputs": [
        {
          "output_type": "execute_result",
          "data": {
            "text/plain": [
              "array([4, 0, 3, 3, 4])"
            ]
          },
          "metadata": {},
          "execution_count": 103
        }
      ]
    },
    {
      "cell_type": "code",
      "source": [
        "z = np.random.randint(1,10,10).reshape(2,5) #random.randint can produce duplicate/repeated values also\n",
        "z"
      ],
      "metadata": {
        "colab": {
          "base_uri": "https://localhost:8080/"
        },
        "id": "1HuPf_sTQra5",
        "outputId": "7794cdfd-3804-400c-92ae-9d9ac529a027"
      },
      "execution_count": 118,
      "outputs": [
        {
          "output_type": "execute_result",
          "data": {
            "text/plain": [
              "array([[1, 5, 2, 7, 1],\n",
              "       [1, 3, 1, 3, 5]])"
            ]
          },
          "metadata": {},
          "execution_count": 118
        }
      ]
    },
    {
      "cell_type": "code",
      "source": [
        "#np.cumsum\n",
        "#np.cumsum() is used to when we want to compute the cumulative sum of the elements over a given axis\n",
        "np.cumsum(z, axis=0) #Last element of the each column is updated with Cumulative sum of all the elements of the column\n",
        "np.cumsum(z, axis=1) #Last elment of the each row is updated with cuulative sum of all the elements of the row\n"
      ],
      "metadata": {
        "colab": {
          "base_uri": "https://localhost:8080/"
        },
        "id": "PUHiG3OsPrdI",
        "outputId": "4e04cfb3-e150-4ff6-f685-0aaf4f7a8aa8"
      },
      "execution_count": 120,
      "outputs": [
        {
          "output_type": "execute_result",
          "data": {
            "text/plain": [
              "array([[ 1,  6,  8, 15, 16],\n",
              "       [ 1,  4,  5,  8, 13]])"
            ]
          },
          "metadata": {},
          "execution_count": 120
        }
      ]
    },
    {
      "cell_type": "code",
      "source": [
        "#CumProd is similar to cumSum, it gives the prod of elements\n",
        "np.cumprod(z, axis=0) #Prod along column, result is replaced with last element\n",
        "np.cumprod(z, axis=1) #Prod along rows, result is replaced with last element\n"
      ],
      "metadata": {
        "colab": {
          "base_uri": "https://localhost:8080/"
        },
        "id": "0gHgKQKVPRFA",
        "outputId": "a507268d-a9de-4708-ca01-821336151167"
      },
      "execution_count": 122,
      "outputs": [
        {
          "output_type": "execute_result",
          "data": {
            "text/plain": [
              "array([[ 1,  5, 10, 70, 70],\n",
              "       [ 1,  3,  3,  9, 45]])"
            ]
          },
          "metadata": {},
          "execution_count": 122
        }
      ]
    },
    {
      "cell_type": "code",
      "source": [
        "#np.percentile\n",
        "#np.percentile() function is used to compute the nth percenile of the given data(array elements) along the specified axis.\n",
        "#99Percentile means you are ahead of 99% of the people\n",
        "\n",
        "p = np.random.randint(1,1000,250)\n",
        "p"
      ],
      "metadata": {
        "colab": {
          "base_uri": "https://localhost:8080/"
        },
        "id": "3ESbsfprTckx",
        "outputId": "be7eb39c-daf4-4379-b103-7476ce5b88e2"
      },
      "execution_count": 124,
      "outputs": [
        {
          "output_type": "execute_result",
          "data": {
            "text/plain": [
              "array([125, 991, 990, 900, 480, 835, 685, 722, 985,  31, 842, 721, 626,\n",
              "       690, 173, 945,  59,  21, 271, 148, 832, 323, 837, 917, 940, 851,\n",
              "       951, 784, 320, 483, 710, 412, 658, 183, 987, 231, 375, 408, 564,\n",
              "       387, 297, 912,  19, 174, 702, 153, 741, 252, 143, 592, 502, 895,\n",
              "       129, 584, 791, 639,  22,  22, 138, 307, 377, 147, 972, 509, 546,\n",
              "       526, 329, 624,  85, 506, 485, 434, 538, 289, 943, 954, 131, 826,\n",
              "        35, 991, 961, 990, 902, 304,  34, 817, 460, 499, 512,  15, 797,\n",
              "       904, 394, 604,  29, 441, 498, 819, 656, 217, 213, 894, 258, 959,\n",
              "       741, 498, 195, 945,  17, 406, 331, 345, 846, 965, 403, 549, 457,\n",
              "       486, 345, 237, 917, 263, 142, 430, 816, 281, 328, 347, 501, 939,\n",
              "       241, 395, 961, 264, 597, 860, 669, 476, 252, 668, 860, 693, 938,\n",
              "       698, 525, 644, 138, 635,  88, 573, 719, 552, 728, 145, 621, 663,\n",
              "       321, 917, 941, 546, 833, 323,  95, 121, 589, 839, 842,  91, 580,\n",
              "        95, 234, 686, 310, 110, 907, 593, 855, 392,  90, 146, 222, 881,\n",
              "        56, 175, 576, 430,  45, 579, 588, 623, 144, 698, 969, 542, 827,\n",
              "       315, 821, 134, 754, 326, 607, 951, 263, 875, 652, 697, 433, 993,\n",
              "         1, 874, 541, 389, 407, 937, 990, 286, 633, 553, 568, 280, 534,\n",
              "       840, 981, 902, 887, 622, 440, 209, 882, 243, 904, 335, 906, 125,\n",
              "       329, 687,  94, 610, 834, 808, 154, 441, 820, 935, 838,  86, 123,\n",
              "       729, 803, 456])"
            ]
          },
          "metadata": {},
          "execution_count": 124
        }
      ]
    },
    {
      "cell_type": "code",
      "source": [
        "np.percentile(p,100) #100 Percentile means-The highest number, 100% of the people are behind him\n",
        "np.percentile(p,0) #0 Percentile means - 100% of the mmebers are greater than the number we are looking for and So it will be the minimum\n",
        "np.percentile(p,50) #50 Percentile means, 50% of numbers are greater than the number and 50% of the numbers are less than the number. So it will be the median\n",
        "#When the median is calculated, it first aranges the numbers in ascending order and returns the middle number\n",
        "\n",
        "np.percentile(p,90)\n",
        "\n",
        "\"\"\"Produes 937.1, It may not be in the array, its just the\n",
        "measure that 90% of the numbers are less than 937.1 and 10% of the numbers are\n",
        "greater than 937.1\"\"\"\n"
      ],
      "metadata": {
        "colab": {
          "base_uri": "https://localhost:8080/",
          "height": 36
        },
        "id": "eOi1cmscVF4Q",
        "outputId": "83d375d8-2ad8-48df-e65e-d59aa217745c"
      },
      "execution_count": 132,
      "outputs": [
        {
          "output_type": "execute_result",
          "data": {
            "text/plain": [
              "'Produes 937.1, It may not be in the array, its just the \\nmeasure that 90% of the numbers are less than 937.1 and 10% of the numbers are \\ngreater than 937.1'"
            ],
            "application/vnd.google.colaboratory.intrinsic+json": {
              "type": "string"
            }
          },
          "metadata": {},
          "execution_count": 132
        }
      ]
    },
    {
      "cell_type": "code",
      "source": [
        "#np.histogram\n",
        "#np.histogram() function represents the frequency of data distribution in the graphical form\n",
        "\n",
        "p"
      ],
      "metadata": {
        "colab": {
          "base_uri": "https://localhost:8080/"
        },
        "id": "9RH2XFpXZCS0",
        "outputId": "5ae2ada6-2ad2-4c7b-81ec-c43e3a613f21"
      },
      "execution_count": 133,
      "outputs": [
        {
          "output_type": "execute_result",
          "data": {
            "text/plain": [
              "array([125, 991, 990, 900, 480, 835, 685, 722, 985,  31, 842, 721, 626,\n",
              "       690, 173, 945,  59,  21, 271, 148, 832, 323, 837, 917, 940, 851,\n",
              "       951, 784, 320, 483, 710, 412, 658, 183, 987, 231, 375, 408, 564,\n",
              "       387, 297, 912,  19, 174, 702, 153, 741, 252, 143, 592, 502, 895,\n",
              "       129, 584, 791, 639,  22,  22, 138, 307, 377, 147, 972, 509, 546,\n",
              "       526, 329, 624,  85, 506, 485, 434, 538, 289, 943, 954, 131, 826,\n",
              "        35, 991, 961, 990, 902, 304,  34, 817, 460, 499, 512,  15, 797,\n",
              "       904, 394, 604,  29, 441, 498, 819, 656, 217, 213, 894, 258, 959,\n",
              "       741, 498, 195, 945,  17, 406, 331, 345, 846, 965, 403, 549, 457,\n",
              "       486, 345, 237, 917, 263, 142, 430, 816, 281, 328, 347, 501, 939,\n",
              "       241, 395, 961, 264, 597, 860, 669, 476, 252, 668, 860, 693, 938,\n",
              "       698, 525, 644, 138, 635,  88, 573, 719, 552, 728, 145, 621, 663,\n",
              "       321, 917, 941, 546, 833, 323,  95, 121, 589, 839, 842,  91, 580,\n",
              "        95, 234, 686, 310, 110, 907, 593, 855, 392,  90, 146, 222, 881,\n",
              "        56, 175, 576, 430,  45, 579, 588, 623, 144, 698, 969, 542, 827,\n",
              "       315, 821, 134, 754, 326, 607, 951, 263, 875, 652, 697, 433, 993,\n",
              "         1, 874, 541, 389, 407, 937, 990, 286, 633, 553, 568, 280, 534,\n",
              "       840, 981, 902, 887, 622, 440, 209, 882, 243, 904, 335, 906, 125,\n",
              "       329, 687,  94, 610, 834, 808, 154, 441, 820, 935, 838,  86, 123,\n",
              "       729, 803, 456])"
            ]
          },
          "metadata": {},
          "execution_count": 133
        }
      ]
    },
    {
      "cell_type": "code",
      "source": [
        "#While using np.histogram() function, we have to pass the array as well as specify the bin size\n",
        "\n",
        "np.histogram(p, bins=[i for i in range(0,1000,250)])\n",
        "\n",
        "#Interpretation:\n",
        "#There are 22 numbers between 0 and 100\n",
        "# So on\n",
        "#There are 32 numbers between 800 and 900"
      ],
      "metadata": {
        "colab": {
          "base_uri": "https://localhost:8080/"
        },
        "id": "3NQYmueeZesb",
        "outputId": "8bc80d4d-1092-4b42-838b-12e7f02dcc7a"
      },
      "execution_count": 138,
      "outputs": [
        {
          "output_type": "execute_result",
          "data": {
            "text/plain": [
              "(array([55, 59, 63]), array([  0, 250, 500, 750]))"
            ]
          },
          "metadata": {},
          "execution_count": 138
        }
      ]
    },
    {
      "cell_type": "code",
      "source": [
        "#np.corrcoef\n",
        "#The corrcoef is measures Pearson correlation, across columns/Features\n",
        "#The corrcoef ranges from -1 to +1\n",
        "#+1 denotes, Positive correlation, Like Corr between Exp and Salary, If One increases other also increases\n",
        "#0 indicates no correlation and the features are independent\n",
        "#-1 indicates, negative correlation. If the value of one feature increases then other decreases\n",
        "\n",
        "salary = np.array([2000, 4000, 6000, 8000, 10000])\n",
        "exp = np.array([0, 12, 4, 6, 18])\n",
        "\n",
        "np.corrcoef(salary,exp)"
      ],
      "metadata": {
        "colab": {
          "base_uri": "https://localhost:8080/"
        },
        "id": "X-wsI28jab-h",
        "outputId": "c272191c-6d60-48b6-c5e6-c237aa7ade15"
      },
      "execution_count": 140,
      "outputs": [
        {
          "output_type": "execute_result",
          "data": {
            "text/plain": [
              "array([[1.        , 0.67082039],\n",
              "       [0.67082039, 1.        ]])"
            ]
          },
          "metadata": {},
          "execution_count": 140
        }
      ]
    },
    {
      "cell_type": "code",
      "source": [
        "#np.isin\n",
        "#np.isin is used to know whether multiple items are present in the array or not\n",
        "\n",
        "items = [i for i in range(50)]\n",
        "\n",
        "\"\"\"np.isin(p,items)\"\"\"\n",
        " #Generates a bool Mask, which can be overlapped with actual array to get the numbers\n",
        "#Which are present\n",
        "\n",
        "p[~(np.isin(p, items))] #Gives the elements which are not present in the items\n",
        "p[(np.isin(p, items))]"
      ],
      "metadata": {
        "colab": {
          "base_uri": "https://localhost:8080/"
        },
        "id": "ZeaZl1jLdiFV",
        "outputId": "1c00e199-15ea-474c-f230-97be2b54a4bf"
      },
      "execution_count": 145,
      "outputs": [
        {
          "output_type": "execute_result",
          "data": {
            "text/plain": [
              "array([31, 21, 19, 22, 22, 35, 34, 15, 29, 17, 45,  1])"
            ]
          },
          "metadata": {},
          "execution_count": 145
        }
      ]
    },
    {
      "cell_type": "code",
      "source": [
        "#np.flip\n",
        "#np.flip function reverses the order of the elements along the specified axis, preserving the shape of the array\n",
        "\n",
        "print(salary)\n",
        "print(np.flip(salary))"
      ],
      "metadata": {
        "colab": {
          "base_uri": "https://localhost:8080/"
        },
        "id": "sWkuapP6e8Y6",
        "outputId": "a10129a1-5247-4d57-a3b3-8622ae743eaf"
      },
      "execution_count": 148,
      "outputs": [
        {
          "output_type": "stream",
          "name": "stdout",
          "text": [
            "[ 2000  4000  6000  8000 10000]\n",
            "[10000  8000  6000  4000  2000]\n"
          ]
        }
      ]
    },
    {
      "cell_type": "code",
      "source": [
        "#np.flip can also be used for matrices\n",
        "matrix = np.arange(15).reshape(5,3)\n",
        "matrix"
      ],
      "metadata": {
        "colab": {
          "base_uri": "https://localhost:8080/"
        },
        "id": "vtn7uleFfdr5",
        "outputId": "a75cd1f2-7a45-4e9f-e9d4-3c26bfee3521"
      },
      "execution_count": 150,
      "outputs": [
        {
          "output_type": "execute_result",
          "data": {
            "text/plain": [
              "array([[ 0,  1,  2],\n",
              "       [ 3,  4,  5],\n",
              "       [ 6,  7,  8],\n",
              "       [ 9, 10, 11],\n",
              "       [12, 13, 14]])"
            ]
          },
          "metadata": {},
          "execution_count": 150
        }
      ]
    },
    {
      "cell_type": "code",
      "source": [
        "np.flip(matrix) #1st row has been brough to last row and then elements are flipped(Column)\n",
        "np.flip(matrix, axis=0) #Columns only are flipped\n",
        "np.flip(matrix, axis=1) #Rows only are flipped"
      ],
      "metadata": {
        "colab": {
          "base_uri": "https://localhost:8080/"
        },
        "id": "7Poi4Q-6jDfW",
        "outputId": "44851d30-3aaa-4c4a-b9c2-58990a6d6cb4"
      },
      "execution_count": 154,
      "outputs": [
        {
          "output_type": "execute_result",
          "data": {
            "text/plain": [
              "array([[ 2,  1,  0],\n",
              "       [ 5,  4,  3],\n",
              "       [ 8,  7,  6],\n",
              "       [11, 10,  9],\n",
              "       [14, 13, 12]])"
            ]
          },
          "metadata": {},
          "execution_count": 154
        }
      ]
    },
    {
      "cell_type": "code",
      "source": [
        "#np.put is used for editing the array\n",
        "#Note:It permanently, replaces the elements of the array\n",
        "test = np.arange(1,100,15)\n",
        "test"
      ],
      "metadata": {
        "colab": {
          "base_uri": "https://localhost:8080/"
        },
        "id": "m1tenOEKjjQ2",
        "outputId": "9f1ce923-c5f1-4223-e043-338af78f6765"
      },
      "execution_count": 162,
      "outputs": [
        {
          "output_type": "execute_result",
          "data": {
            "text/plain": [
              "array([ 1, 16, 31, 46, 61, 76, 91])"
            ]
          },
          "metadata": {},
          "execution_count": 162
        }
      ]
    },
    {
      "cell_type": "code",
      "source": [
        "np.put(test,[0,1],[4,9]) #We are replacing elements at index position 0 and 1 with 4 and 9\n",
        "\n",
        "\"\"\"Note: We must pass the indices, where we want to replace with the elements which we pass\"\"\"\n",
        "\n",
        "#Syntax : np.put(array,[indices],[values])"
      ],
      "metadata": {
        "colab": {
          "base_uri": "https://localhost:8080/",
          "height": 36
        },
        "id": "W-0oWoUEkoNL",
        "outputId": "14c14f58-2fbe-4435-ebab-7c3c99167162"
      },
      "execution_count": 166,
      "outputs": [
        {
          "output_type": "execute_result",
          "data": {
            "text/plain": [
              "'Note: We must pass the indices, where we want to replace with the elements which we pass'"
            ],
            "application/vnd.google.colaboratory.intrinsic+json": {
              "type": "string"
            }
          },
          "metadata": {},
          "execution_count": 166
        }
      ]
    },
    {
      "cell_type": "code",
      "source": [
        "test"
      ],
      "metadata": {
        "colab": {
          "base_uri": "https://localhost:8080/"
        },
        "id": "laCjE1frl2Dg",
        "outputId": "351542ad-cde5-4090-cc50-5d896e747928"
      },
      "execution_count": 167,
      "outputs": [
        {
          "output_type": "execute_result",
          "data": {
            "text/plain": [
              "array([ 4,  9, 31, 46, 61, 76, 91])"
            ]
          },
          "metadata": {},
          "execution_count": 167
        }
      ]
    },
    {
      "cell_type": "code",
      "source": [
        "#np.delete, Deletes the element from the specified INDEX/INDICES\n",
        "\n",
        "np.delete(test,[1,2])"
      ],
      "metadata": {
        "colab": {
          "base_uri": "https://localhost:8080/"
        },
        "id": "5ABAXuuJl6Ud",
        "outputId": "bd36c1ca-89fd-47d5-a90d-3f228eb799f3"
      },
      "execution_count": 172,
      "outputs": [
        {
          "output_type": "execute_result",
          "data": {
            "text/plain": [
              "array([ 4, 46, 61, 76, 91])"
            ]
          },
          "metadata": {},
          "execution_count": 172
        }
      ]
    },
    {
      "cell_type": "code",
      "source": [
        "#np.clip,\n",
        "\"\"\"Can be used in Gradient Clipping\"\"\"\n",
        "#Keep only the values between specified range\n",
        "np.clip(test,30,60)"
      ],
      "metadata": {
        "colab": {
          "base_uri": "https://localhost:8080/"
        },
        "id": "V7rq4BIHmbCq",
        "outputId": "6b873511-b54b-4994-9193-ba1ce1061146"
      },
      "execution_count": 173,
      "outputs": [
        {
          "output_type": "execute_result",
          "data": {
            "text/plain": [
              "array([30, 30, 31, 46, 60, 60, 60])"
            ]
          },
          "metadata": {},
          "execution_count": 173
        }
      ]
    },
    {
      "cell_type": "code",
      "source": [],
      "metadata": {
        "id": "ff0r0nNhneGW"
      },
      "execution_count": null,
      "outputs": []
    }
  ]
}