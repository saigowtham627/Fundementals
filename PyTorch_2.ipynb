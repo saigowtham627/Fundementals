{
  "nbformat": 4,
  "nbformat_minor": 0,
  "metadata": {
    "colab": {
      "provenance": [],
      "gpuType": "T4",
      "authorship_tag": "ABX9TyNYsbtzw4eTaYZkyiqjMeG3",
      "include_colab_link": true
    },
    "kernelspec": {
      "name": "python3",
      "display_name": "Python 3"
    },
    "language_info": {
      "name": "python"
    },
    "accelerator": "GPU"
  },
  "cells": [
    {
      "cell_type": "markdown",
      "metadata": {
        "id": "view-in-github",
        "colab_type": "text"
      },
      "source": [
        "<a href=\"https://colab.research.google.com/github/saigowtham627/Fundementals/blob/main/PyTorch_2.ipynb\" target=\"_parent\"><img src=\"https://colab.research.google.com/assets/colab-badge.svg\" alt=\"Open In Colab\"/></a>"
      ]
    },
    {
      "cell_type": "markdown",
      "source": [
        "#What are tensors ?\n",
        "\n",
        "**Tensors are like data structures**\n",
        "\n",
        "**Tensors are specialized multidimensional array designed for mathematical and computational efficiency**\n",
        "\n",
        "**Dimension can be defined as the number of directions in which tensors are spanning**"
      ],
      "metadata": {
        "id": "bzaqhjfSMvaJ"
      }
    },
    {
      "cell_type": "markdown",
      "source": [
        "#Real World examples\n",
        "\n",
        "**1. SCALARS : 0 dimensional tensors(A single number)**\n",
        "\n",
        "*Scalars are not spreaded in any direction*\n",
        "\n",
        "*Scalars represent a single value, often used for simple metrics or constants*\n",
        "\n",
        "**Example**\n",
        "\n",
        "*Loss value : After a forward pass, the loss function computes a loss value which is a scalar value, indicating the difference between Predicted and Target value*\n",
        "\n",
        "*Ex: 5.0 or 3.14*"
      ],
      "metadata": {
        "id": "M3d6YAScNyqj"
      }
    },
    {
      "cell_type": "markdown",
      "source": [
        "**2. Vectors : 1 dimensional tensors**\n",
        "\n",
        "*Represents a sequence or collection of values*\n",
        "\n",
        "**Example**\n",
        "\n",
        "*Feature Vector : In NLP, each word in a sentance may be represented as a 1D vector using embeddings*\n",
        "\n",
        "*Ex: [1.02, -3.14] a word embedding from a pre trained model like Glove Or Word2Vec*"
      ],
      "metadata": {
        "id": "1yivLj3yPfCW"
      }
    },
    {
      "cell_type": "markdown",
      "source": [
        "**Matrices : 2 dimensional tensors**\n",
        "\n",
        "*Represents a tabular or grid like data*\n",
        "\n",
        "**Example**\n",
        "\n",
        "*Grayscale Image : A gray scale image from MNIST dataset can be represented as a 2D tensor, where each entry corresponds to the Pixel intensity*\n",
        "\n",
        "*Ex*: *[[0.5, 0.75]*\n",
        "\n",
        " *[0.90, 0.56]]*\n",
        "      "
      ],
      "metadata": {
        "id": "f1v1CNxoQgTS"
      }
    },
    {
      "cell_type": "markdown",
      "source": [
        "**3D Tensors: Colour Images**\n",
        "\n",
        "*Adds a third dimension, often used for stacking of data*\n",
        "\n",
        "**Example**\n",
        "\n",
        "*RGB Images : A single RGB images is represented as a 3D tnsor (width x height x channels)*\n",
        "\n",
        "*Ex: RGB image of size 256x256: Shape : [256 256 3]*"
      ],
      "metadata": {
        "id": "un3DnIeESh1b"
      }
    },
    {
      "cell_type": "markdown",
      "source": [
        "**4D Tensors : Batches of RGB images**\n",
        "\n",
        "*Adds the batch size as an additional dimension to 3D data*\n",
        "\n",
        "**Example**\n",
        "\n",
        "*Batches of RGB images : A dataset of colored images is represented as a 4D tensor*\n",
        "\n",
        "*Ex: A batch of 32 color images, each of size 1024 x 1024 with 3 channels(RGB), would have a shape of [32, 1024, 1024, 3]*"
      ],
      "metadata": {
        "id": "VUVKqjK_VR6N"
      }
    },
    {
      "cell_type": "markdown",
      "source": [
        "**5D Tensors : Video Data**\n",
        "\n",
        "*Adds a time dimension to the data, that changes over time (eg: Video frames)*\n",
        "\n",
        "**Example**\n",
        "\n",
        "*Video Clips: Represented as sequence of frames, where each frame is an RGB image*\n",
        "\n",
        "**Ex: A batch of 10 video clips with 16 frames of size 64x64 and 3 channels(RGB), would have shape of [10, 16, 64, 64, 3]"
      ],
      "metadata": {
        "id": "PPT72SEnXAyy"
      }
    },
    {
      "cell_type": "markdown",
      "source": [
        "#why are tensors useful ?\n",
        "\n",
        "**Mathematical Operations**\n",
        "\n",
        "*Tensors enable mathematical computations(Addition, Multiplication, Dot Product etc) necessary for neural network operations*\n",
        "\n",
        "**Representation of Real World data**\n",
        "\n",
        "*All the modalities like Image, Video, Audio can be represented as tensors*\n",
        "\n",
        "*EX: Images represented as 3D tensors(Width x Height x channels)*\n",
        "\n",
        "**Efficient computations**\n",
        "\n",
        "*Tensors are optimized for hardware accelaration, allowing for performing computations on GPU and TPU, which are crucial for deep learning models*\n"
      ],
      "metadata": {
        "id": "Y6EV59VAbAmW"
      }
    },
    {
      "cell_type": "markdown",
      "source": [
        "#Where are tensors used in Deep Learning\n",
        "\n",
        "**1. Data Storage**\n",
        "\n",
        "*Training data like Images, text etc are stored in tensors*\n",
        "\n",
        "**2. Weights and Biases**\n",
        "\n",
        "*The learnable parameters of neural networks (Weights and Biases) are stored as tensors*\n",
        "\n",
        "**3. Matrix Operations**\n",
        "\n",
        "*Neural networks involve operations like matrix multiplications, dot products and broadcasting - All are perfomed using tensors*\n",
        "\n",
        "**4. Training process**\n",
        "\n",
        "*During forward pass tensors flow through the network*\n",
        "\n",
        "*Gradients, represented as tensors, are calculated using backward pass**\n"
      ],
      "metadata": {
        "id": "IuoHcVPJe_3r"
      }
    },
    {
      "cell_type": "markdown",
      "source": [
        "#PyTorch comes pre installed on Google colab, no need to install it again..Just import it"
      ],
      "metadata": {
        "id": "RJx-5coLhMaD"
      }
    },
    {
      "cell_type": "code",
      "source": [
        "import torch\n",
        "print(torch.__version__)"
      ],
      "metadata": {
        "id": "tdQiXpQSi88z",
        "colab": {
          "base_uri": "https://localhost:8080/"
        },
        "outputId": "5e5c7faf-3fbc-4bde-ac8c-9834e920b5ea"
      },
      "execution_count": 1,
      "outputs": [
        {
          "output_type": "stream",
          "name": "stdout",
          "text": [
            "2.5.1+cu121\n"
          ]
        }
      ]
    },
    {
      "cell_type": "code",
      "source": [
        "if torch.cuda.is_available():\n",
        "  print(\"GPU is available\")\n",
        "  print(f\"Using GPU : {torch.cuda.get_device_name(0)}\")\n",
        "else:\n",
        "  print(\"GPU is not available, using CPU\")"
      ],
      "metadata": {
        "colab": {
          "base_uri": "https://localhost:8080/"
        },
        "id": "M9KMRWlfnSKM",
        "outputId": "c4afa003-95ee-4cfb-ccdf-a8ba2d883027"
      },
      "execution_count": null,
      "outputs": [
        {
          "output_type": "stream",
          "name": "stdout",
          "text": [
            "GPU is not available, using CPU\n"
          ]
        }
      ]
    },
    {
      "cell_type": "markdown",
      "source": [
        "##Creating tensors"
      ],
      "metadata": {
        "id": "62-nOXkFp1wK"
      }
    },
    {
      "cell_type": "code",
      "source": [
        "#Using empty\n",
        "a = torch.empty(2,3) #Creates a 2x3 tensor with garbage values"
      ],
      "metadata": {
        "id": "WzGm4fZypyZV"
      },
      "execution_count": null,
      "outputs": []
    },
    {
      "cell_type": "code",
      "source": [
        "type(a) #Returns the type of variable"
      ],
      "metadata": {
        "colab": {
          "base_uri": "https://localhost:8080/"
        },
        "id": "iZuBO_7pqenv",
        "outputId": "436ea808-cbfb-4f62-9667-e822fcc0b771"
      },
      "execution_count": null,
      "outputs": [
        {
          "output_type": "execute_result",
          "data": {
            "text/plain": [
              "torch.Tensor"
            ]
          },
          "metadata": {},
          "execution_count": 6
        }
      ]
    },
    {
      "cell_type": "code",
      "source": [
        "#Using zeros\n",
        "torch.zeros(2,3) #Creates a tensor of shape 2x3 initialized with zeros"
      ],
      "metadata": {
        "colab": {
          "base_uri": "https://localhost:8080/"
        },
        "id": "PZdjeS2Aqk-L",
        "outputId": "ea7981b5-b568-47be-cdc2-c37ecbf2809d"
      },
      "execution_count": null,
      "outputs": [
        {
          "output_type": "execute_result",
          "data": {
            "text/plain": [
              "tensor([[0., 0., 0.],\n",
              "        [0., 0., 0.]])"
            ]
          },
          "metadata": {},
          "execution_count": 7
        }
      ]
    },
    {
      "cell_type": "code",
      "source": [
        "torch.ones(2,3) #Creates a tensor of shape 2x3 with all the values initialized with ones"
      ],
      "metadata": {
        "colab": {
          "base_uri": "https://localhost:8080/"
        },
        "id": "US6Vnullq4Pv",
        "outputId": "191fd889-31c1-42dc-95cf-c4ab3b6edcdd"
      },
      "execution_count": null,
      "outputs": [
        {
          "output_type": "execute_result",
          "data": {
            "text/plain": [
              "tensor([[1., 1., 1.],\n",
              "        [1., 1., 1.]])"
            ]
          },
          "metadata": {},
          "execution_count": 8
        }
      ]
    },
    {
      "cell_type": "code",
      "source": [
        "torch.rand(2,3) #Creates a tensor of shape 2x3 in which all the values are initialized with random numbers between 0 and 1\n",
        "\n",
        "#rand function does not have reproducibility\n",
        "#But there occur some scenarios where we need reproducibility.\n",
        "#So we can use seed in such scenarios"
      ],
      "metadata": {
        "colab": {
          "base_uri": "https://localhost:8080/"
        },
        "id": "KGYQvNF6rE3v",
        "outputId": "6eba1785-c973-4128-8d7e-ec44822df044"
      },
      "execution_count": null,
      "outputs": [
        {
          "output_type": "execute_result",
          "data": {
            "text/plain": [
              "tensor([[0.5555, 0.7047, 0.0170],\n",
              "        [0.8073, 0.3981, 0.1955]])"
            ]
          },
          "metadata": {},
          "execution_count": 9
        }
      ]
    },
    {
      "cell_type": "code",
      "source": [
        "#manual seed to produce same outputs every time\n",
        "torch.manual_seed(143)\n",
        "\n",
        "torch.rand(2,3) #Every time I run this code cell, I get the same output"
      ],
      "metadata": {
        "colab": {
          "base_uri": "https://localhost:8080/"
        },
        "id": "_9p0f-K7rVhV",
        "outputId": "6e0a9dfb-6343-4bd2-b908-8253ff11378c"
      },
      "execution_count": null,
      "outputs": [
        {
          "output_type": "execute_result",
          "data": {
            "text/plain": [
              "tensor([[0.8653, 0.0099, 0.0284],\n",
              "        [0.4898, 0.8311, 0.6590]])"
            ]
          },
          "metadata": {},
          "execution_count": 19
        }
      ]
    },
    {
      "cell_type": "code",
      "source": [
        "torch.manual_seed(143)\n",
        "\n",
        "torch.rand(2,3) #Seed is same, so tensor created will also be the same"
      ],
      "metadata": {
        "colab": {
          "base_uri": "https://localhost:8080/"
        },
        "id": "u0ERFN9Ww1b3",
        "outputId": "d7681a93-7131-42f3-c0ba-b570e5c0892a"
      },
      "execution_count": null,
      "outputs": [
        {
          "output_type": "execute_result",
          "data": {
            "text/plain": [
              "tensor([[0.8653, 0.0099, 0.0284],\n",
              "        [0.4898, 0.8311, 0.6590]])"
            ]
          },
          "metadata": {},
          "execution_count": 22
        }
      ]
    },
    {
      "cell_type": "code",
      "source": [
        "#manual seed to produce same outputs every time\n",
        "torch.manual_seed(99)\n",
        "\n",
        "torch.rand(2,3) #The values are changed because the seed is changed from 143 to 99"
      ],
      "metadata": {
        "colab": {
          "base_uri": "https://localhost:8080/"
        },
        "id": "IHw1rfdUwBoV",
        "outputId": "20a3bc34-4ccd-47cb-9872-4b4545d3e800"
      },
      "execution_count": null,
      "outputs": [
        {
          "output_type": "execute_result",
          "data": {
            "text/plain": [
              "tensor([[0.8961, 0.4005, 0.0814],\n",
              "        [0.8735, 0.0440, 0.3929]])"
            ]
          },
          "metadata": {},
          "execution_count": 21
        }
      ]
    },
    {
      "cell_type": "code",
      "source": [
        "#We can create tensor with user specified values\n",
        "\n",
        "torch.tensor([\n",
        "    [1, 2, 3],\n",
        "    [4, 5, 6]\n",
        "])\n",
        "\n",
        "#Multiple lists in a single list"
      ],
      "metadata": {
        "colab": {
          "base_uri": "https://localhost:8080/"
        },
        "id": "sZN1-9dAxC5a",
        "outputId": "2313b850-edbb-48c4-8dbd-7eb86044d97d"
      },
      "execution_count": null,
      "outputs": [
        {
          "output_type": "execute_result",
          "data": {
            "text/plain": [
              "tensor([[1, 2, 3],\n",
              "        [4, 5, 6]])"
            ]
          },
          "metadata": {},
          "execution_count": 23
        }
      ]
    },
    {
      "cell_type": "code",
      "source": [
        "#Other ways\n",
        "\n",
        "#Arange\n",
        "print(\"Using Arange:\", torch.arange(0,10, 2)) #2 is the step size\n",
        "\n",
        "#LinSpace\n",
        "print(\"Usiing Linspace\", torch.linspace(0, 10, 10)) #10 equally spaced values between 0 and 10\n",
        "\n",
        "#Eye, Eye for Identity matrix\n",
        "print(\"Using Eye\", torch.eye(5))\n",
        "\n",
        "#Using full, creating a tensor in which each item will be the specified number\n",
        "print(\"Usig full\", torch.full((3,3), 5)) #3x3 is the shape of the tensor, in which each number is 5"
      ],
      "metadata": {
        "colab": {
          "base_uri": "https://localhost:8080/"
        },
        "id": "j-H9FnEFx44Q",
        "outputId": "5bb6f664-4a64-47be-df88-158a18836732"
      },
      "execution_count": null,
      "outputs": [
        {
          "output_type": "stream",
          "name": "stdout",
          "text": [
            "Using Arange: tensor([0, 2, 4, 6, 8])\n",
            "Usiing Linspace tensor([ 0.0000,  1.1111,  2.2222,  3.3333,  4.4444,  5.5556,  6.6667,  7.7778,\n",
            "         8.8889, 10.0000])\n",
            "Using Eye tensor([[1., 0., 0., 0., 0.],\n",
            "        [0., 1., 0., 0., 0.],\n",
            "        [0., 0., 1., 0., 0.],\n",
            "        [0., 0., 0., 1., 0.],\n",
            "        [0., 0., 0., 0., 1.]])\n",
            "Usig full tensor([[5, 5, 5],\n",
            "        [5, 5, 5],\n",
            "        [5, 5, 5]])\n"
          ]
        }
      ]
    },
    {
      "cell_type": "markdown",
      "source": [
        "#Tensor Shapes"
      ],
      "metadata": {
        "id": "k0ku2G1e1apG"
      }
    },
    {
      "cell_type": "code",
      "source": [
        "#Since Pytorch is based on Python, we can use its attributes like shape to find the shape of the tensor\n",
        "x = torch.tensor([\n",
        "  [12, 13, 14],\n",
        "  [15, 16, 17],\n",
        "  [18, 19, 20]\n",
        "])\n",
        "\n",
        "x"
      ],
      "metadata": {
        "colab": {
          "base_uri": "https://localhost:8080/"
        },
        "id": "wL1YtmeM1dGz",
        "outputId": "7b5829fb-4bb0-4054-9f72-ef8aa828a6e2"
      },
      "execution_count": null,
      "outputs": [
        {
          "output_type": "execute_result",
          "data": {
            "text/plain": [
              "tensor([[12, 13, 14],\n",
              "        [15, 16, 17],\n",
              "        [18, 19, 20]])"
            ]
          },
          "metadata": {},
          "execution_count": 29
        }
      ]
    },
    {
      "cell_type": "code",
      "source": [
        "x.shape"
      ],
      "metadata": {
        "colab": {
          "base_uri": "https://localhost:8080/"
        },
        "id": "aGfL4ptV2ivj",
        "outputId": "cf76fb58-7663-4c3a-da9e-c6276bc4ee4e"
      },
      "execution_count": null,
      "outputs": [
        {
          "output_type": "execute_result",
          "data": {
            "text/plain": [
              "torch.Size([3, 3])"
            ]
          },
          "metadata": {},
          "execution_count": 30
        }
      ]
    },
    {
      "cell_type": "code",
      "source": [
        "#There will be some scenarios, where we want to create same tensor like the previously created one\n",
        "\n",
        "torch.empty_like(x) #By passing x, we are specifying to copy the SHAPE OF X, BUT NOT X"
      ],
      "metadata": {
        "colab": {
          "base_uri": "https://localhost:8080/"
        },
        "id": "6f8NTWyO2psM",
        "outputId": "a159c6a6-f60a-466c-e081-3396db42c736"
      },
      "execution_count": null,
      "outputs": [
        {
          "output_type": "execute_result",
          "data": {
            "text/plain": [
              "tensor([[137044225748368,  94332618300240,  94330366722048],\n",
              "        [            161, 137044225748336, 137044225748336],\n",
              "        [ 94332595454992, 137040633846480,               1]])"
            ]
          },
          "metadata": {},
          "execution_count": 31
        }
      ]
    },
    {
      "cell_type": "code",
      "source": [
        "torch.zeros_like(x) #Create a tensor with zero values, the tensor should have shape of x"
      ],
      "metadata": {
        "colab": {
          "base_uri": "https://localhost:8080/"
        },
        "id": "NWdzDxKE3ESI",
        "outputId": "2b34bdca-4961-4d7c-c10b-f1cbebd36b84"
      },
      "execution_count": null,
      "outputs": [
        {
          "output_type": "execute_result",
          "data": {
            "text/plain": [
              "tensor([[0, 0, 0],\n",
              "        [0, 0, 0],\n",
              "        [0, 0, 0]])"
            ]
          },
          "metadata": {},
          "execution_count": 32
        }
      ]
    },
    {
      "cell_type": "code",
      "source": [
        "torch.ones_like(x)"
      ],
      "metadata": {
        "colab": {
          "base_uri": "https://localhost:8080/"
        },
        "id": "huc83_fw4cwk",
        "outputId": "bb86a2ed-0166-4358-f60a-432abdd6db5c"
      },
      "execution_count": null,
      "outputs": [
        {
          "output_type": "execute_result",
          "data": {
            "text/plain": [
              "tensor([[1, 1, 1],\n",
              "        [1, 1, 1],\n",
              "        [1, 1, 1]])"
            ]
          },
          "metadata": {},
          "execution_count": 33
        }
      ]
    },
    {
      "cell_type": "code",
      "source": [
        "#torch.rand_like(x)\n",
        "#Will not work because, in tensor x all are integers.\n",
        "#But rand function initializes tensor values with random float values\n",
        "#So, we need to explicitly specify the type of numbers that rand should produce\n",
        "\n",
        "torch.rand_like(x, dtype = torch.float32) #We have to explicitly specify the datatype of the numbers, we want to create"
      ],
      "metadata": {
        "colab": {
          "base_uri": "https://localhost:8080/"
        },
        "id": "ItbDeSAP4icI",
        "outputId": "df18991d-3000-4353-cee4-81e5fc32802a"
      },
      "execution_count": null,
      "outputs": [
        {
          "output_type": "execute_result",
          "data": {
            "text/plain": [
              "tensor([[0.5281, 0.7090, 0.4898],\n",
              "        [0.9040, 0.6079, 0.2030],\n",
              "        [0.4850, 0.3860, 0.2487]])"
            ]
          },
          "metadata": {},
          "execution_count": 44
        }
      ]
    },
    {
      "cell_type": "markdown",
      "source": [
        "#Tensor Datatypes"
      ],
      "metadata": {
        "id": "q67wFqTV5X7S"
      }
    },
    {
      "cell_type": "code",
      "source": [
        "#Find data type\n",
        "\n",
        "x.dtype #dtype is an attribute, it gives the datatype of the tensor\n"
      ],
      "metadata": {
        "colab": {
          "base_uri": "https://localhost:8080/"
        },
        "id": "0qPsEOi35bho",
        "outputId": "ed64d2df-a87d-4a8a-9c5b-fbb091daadce"
      },
      "execution_count": null,
      "outputs": [
        {
          "output_type": "execute_result",
          "data": {
            "text/plain": [
              "torch.int64"
            ]
          },
          "metadata": {},
          "execution_count": 37
        }
      ]
    },
    {
      "cell_type": "code",
      "source": [
        "#What if while creating a tensor, we have to specify the data type ?\n",
        "\n",
        "torch.tensor([[\n",
        "    [1,2,3],\n",
        "    [4,5,6]\n",
        "]], dtype = torch.int16)"
      ],
      "metadata": {
        "colab": {
          "base_uri": "https://localhost:8080/"
        },
        "id": "K36wrmhK6Vuj",
        "outputId": "53e7ce68-46a4-4d0c-dbab-d6221a7b28f5"
      },
      "execution_count": null,
      "outputs": [
        {
          "output_type": "execute_result",
          "data": {
            "text/plain": [
              "tensor([[[1, 2, 3],\n",
              "         [4, 5, 6]]], dtype=torch.int16)"
            ]
          },
          "metadata": {},
          "execution_count": 39
        }
      ]
    },
    {
      "cell_type": "code",
      "source": [
        "torch.tensor([1,2,3], dtype = torch.float64)"
      ],
      "metadata": {
        "colab": {
          "base_uri": "https://localhost:8080/"
        },
        "id": "JbAYx2Mh7JPA",
        "outputId": "989833d9-9015-46b1-b975-6b5800cfe3f9"
      },
      "execution_count": null,
      "outputs": [
        {
          "output_type": "execute_result",
          "data": {
            "text/plain": [
              "tensor([1., 2., 3.], dtype=torch.float64)"
            ]
          },
          "metadata": {},
          "execution_count": 40
        }
      ]
    },
    {
      "cell_type": "code",
      "source": [
        "#We can also, change the datatype of already created tensor\n",
        "x.to(torch.float32)"
      ],
      "metadata": {
        "colab": {
          "base_uri": "https://localhost:8080/"
        },
        "id": "GELuOW-17Y_3",
        "outputId": "b5e83ac6-74b7-4f24-b377-f02ac44cdb86"
      },
      "execution_count": null,
      "outputs": [
        {
          "output_type": "execute_result",
          "data": {
            "text/plain": [
              "tensor([[12., 13., 14.],\n",
              "        [15., 16., 17.],\n",
              "        [18., 19., 20.]])"
            ]
          },
          "metadata": {},
          "execution_count": 41
        }
      ]
    },
    {
      "cell_type": "markdown",
      "source": [
        "#Mathematical Operations on Tensors"
      ],
      "metadata": {
        "id": "sPCKmh988iTx"
      }
    },
    {
      "cell_type": "markdown",
      "source": [
        "*1. Scalar Operation*"
      ],
      "metadata": {
        "id": "8EQFi2cv8nYO"
      }
    },
    {
      "cell_type": "code",
      "source": [
        "b = torch.rand(4, 4)\n",
        "b"
      ],
      "metadata": {
        "colab": {
          "base_uri": "https://localhost:8080/"
        },
        "id": "VVPuMyH879WR",
        "outputId": "62accad8-8e02-41a8-9dce-a44e76a04510"
      },
      "execution_count": null,
      "outputs": [
        {
          "output_type": "execute_result",
          "data": {
            "text/plain": [
              "tensor([[0.4202, 0.4106, 0.5983, 0.6427],\n",
              "        [0.8562, 0.8896, 0.3385, 0.2666],\n",
              "        [0.0758, 0.4729, 0.8209, 0.3007],\n",
              "        [0.8803, 0.5988, 0.8614, 0.6859]])"
            ]
          },
          "metadata": {},
          "execution_count": 54
        }
      ]
    },
    {
      "cell_type": "code",
      "source": [
        "#Addition\n",
        "b = b + 100\n",
        "b\n",
        "\n",
        "#Subtraction\n",
        "b = b - 100\n",
        "b\n",
        "\n",
        "#Multiplication\n",
        "b = b * b\n",
        "b\n",
        "\n",
        "#Division\n",
        "b = b / 2\n",
        "b\n",
        "\n",
        "#Int division\n",
        "b = b//2\n",
        "b\n",
        "\n",
        "#Mod\n",
        "b = b % 2\n",
        "b\n",
        "\n",
        "#Power\n",
        "b = b ** 2\n",
        "b"
      ],
      "metadata": {
        "colab": {
          "base_uri": "https://localhost:8080/"
        },
        "id": "bweCDNYA9Pbs",
        "outputId": "4d8b9255-2620-404f-d8f3-1ca434a3f9b4"
      },
      "execution_count": null,
      "outputs": [
        {
          "output_type": "execute_result",
          "data": {
            "text/plain": [
              "tensor([[0., 0., 0., 0.],\n",
              "        [0., 0., 0., 0.],\n",
              "        [0., 0., 0., 0.],\n",
              "        [0., 0., 0., 0.]])"
            ]
          },
          "metadata": {},
          "execution_count": 62
        }
      ]
    },
    {
      "cell_type": "markdown",
      "source": [
        "*Between tensors*"
      ],
      "metadata": {
        "id": "OPIXMI-O-Ynk"
      }
    },
    {
      "cell_type": "code",
      "source": [
        "torch.manual_seed(14)\n",
        "p = torch.rand(3,3)\n",
        "\n",
        "torch.manual_seed(15)\n",
        "q = torch.rand(3,3)\n",
        "\n",
        "print(p)\n",
        "print(q)"
      ],
      "metadata": {
        "colab": {
          "base_uri": "https://localhost:8080/"
        },
        "id": "8pLGEwQJ9xnT",
        "outputId": "e1e65434-d0b4-4ad4-bd78-5fe31f24bda0"
      },
      "execution_count": null,
      "outputs": [
        {
          "output_type": "stream",
          "name": "stdout",
          "text": [
            "tensor([[0.5695, 0.0047, 0.9303],\n",
            "        [0.7257, 0.8295, 0.7683],\n",
            "        [0.0600, 0.1453, 0.2924]])\n",
            "tensor([[0.2973, 0.2766, 0.7974],\n",
            "        [0.3869, 0.9170, 0.4125],\n",
            "        [0.5538, 0.5646, 0.5026]])\n"
          ]
        }
      ]
    },
    {
      "cell_type": "code",
      "source": [
        "#Adding p and q\n",
        "p + q\n",
        "\n",
        "#Subtracting p from q\n",
        "q - p\n",
        "\n",
        "#Multiply\n",
        "p * q\n",
        "\n",
        "#Division\n",
        "p/q\n",
        "\n",
        "#Int division\n",
        "p // q\n",
        "\n",
        "#Power\n",
        "p ** q\n",
        "\n",
        "#Mod\n",
        "p % q"
      ],
      "metadata": {
        "colab": {
          "base_uri": "https://localhost:8080/"
        },
        "id": "1s0GtNJC_YDU",
        "outputId": "d6cb2c9b-ec51-4c0b-de3d-332e17600072"
      },
      "execution_count": null,
      "outputs": [
        {
          "output_type": "execute_result",
          "data": {
            "text/plain": [
              "tensor([[0.2722, 0.0047, 0.1329],\n",
              "        [0.3389, 0.8295, 0.3558],\n",
              "        [0.0600, 0.1453, 0.2924]])"
            ]
          },
          "metadata": {},
          "execution_count": 72
        }
      ]
    },
    {
      "cell_type": "code",
      "source": [
        "c = torch.linspace(-10, 10, 10)\n",
        "c"
      ],
      "metadata": {
        "colab": {
          "base_uri": "https://localhost:8080/"
        },
        "id": "xl68jV1R_7d2",
        "outputId": "8446ba19-2d4a-4d41-c6ec-91747ac69413"
      },
      "execution_count": null,
      "outputs": [
        {
          "output_type": "execute_result",
          "data": {
            "text/plain": [
              "tensor([-10.0000,  -7.7778,  -5.5556,  -3.3333,  -1.1111,   1.1111,   3.3333,\n",
              "          5.5556,   7.7778,  10.0000])"
            ]
          },
          "metadata": {},
          "execution_count": 4
        }
      ]
    },
    {
      "cell_type": "code",
      "source": [
        "torch.abs(c) #Turn all the negative values into positive values\n",
        "\n",
        "#To turn all the positive values into negative values"
      ],
      "metadata": {
        "colab": {
          "base_uri": "https://localhost:8080/"
        },
        "id": "AI_RHXLRANA_",
        "outputId": "5c3630aa-d174-4d02-e7e6-0212ef517621"
      },
      "execution_count": null,
      "outputs": [
        {
          "output_type": "execute_result",
          "data": {
            "text/plain": [
              "tensor([10.0000,  7.7778,  5.5556,  3.3333,  1.1111,  1.1111,  3.3333,  5.5556,\n",
              "         7.7778, 10.0000])"
            ]
          },
          "metadata": {},
          "execution_count": 77
        }
      ]
    },
    {
      "cell_type": "code",
      "source": [
        "#Negative\n",
        "#To turn all the positive values into negative values\n",
        "\n",
        "torch.neg(c)\n",
        "\n",
        "#Multiplies every value in the tensor with -ve"
      ],
      "metadata": {
        "id": "RLNdLrcuAQhj",
        "colab": {
          "base_uri": "https://localhost:8080/"
        },
        "outputId": "ce7f7911-ae26-4f5d-f457-5cdab06bb8eb"
      },
      "execution_count": null,
      "outputs": [
        {
          "output_type": "execute_result",
          "data": {
            "text/plain": [
              "tensor([ 10.0000,   7.7778,   5.5556,   3.3333,   1.1111,  -1.1111,  -3.3333,\n",
              "         -5.5556,  -7.7778, -10.0000])"
            ]
          },
          "metadata": {},
          "execution_count": 5
        }
      ]
    },
    {
      "cell_type": "code",
      "source": [
        "#Round\n",
        "torch.round(c)"
      ],
      "metadata": {
        "colab": {
          "base_uri": "https://localhost:8080/"
        },
        "id": "Js0SqkpfWNHR",
        "outputId": "70faf7b7-623a-4b30-bd48-dd0f58b4571f"
      },
      "execution_count": null,
      "outputs": [
        {
          "output_type": "execute_result",
          "data": {
            "text/plain": [
              "tensor([-10.,  -8.,  -6.,  -3.,  -1.,   1.,   3.,   6.,   8.,  10.])"
            ]
          },
          "metadata": {},
          "execution_count": 8
        }
      ]
    },
    {
      "cell_type": "code",
      "source": [
        "#Ceil\n",
        "torch.ceil(c)"
      ],
      "metadata": {
        "colab": {
          "base_uri": "https://localhost:8080/"
        },
        "id": "TPsaiWM-Wq1I",
        "outputId": "12ef3d4c-5724-43ab-e245-6de528287bdd"
      },
      "execution_count": null,
      "outputs": [
        {
          "output_type": "execute_result",
          "data": {
            "text/plain": [
              "tensor([-10.,  -7.,  -5.,  -3.,  -1.,   2.,   4.,   6.,   8.,  10.])"
            ]
          },
          "metadata": {},
          "execution_count": 9
        }
      ]
    },
    {
      "cell_type": "code",
      "source": [
        "#Floor\n",
        "torch.floor(c)"
      ],
      "metadata": {
        "colab": {
          "base_uri": "https://localhost:8080/"
        },
        "id": "4ZORWqR_W-Rr",
        "outputId": "cb247a1a-f66c-4ad4-92fd-5c57434fcba3"
      },
      "execution_count": null,
      "outputs": [
        {
          "output_type": "execute_result",
          "data": {
            "text/plain": [
              "tensor([-10.,  -8.,  -6.,  -4.,  -2.,   1.,   3.,   5.,   7.,  10.])"
            ]
          },
          "metadata": {},
          "execution_count": 10
        }
      ]
    },
    {
      "cell_type": "code",
      "source": [
        "#clamp\n",
        "\"\"\"By using clamp, we can put all the values in a specified range\"\"\"\n",
        "\n",
        "torch.clamp(c, min = 2, max = 3) #All the values below 2 will be replced with 2 and all the values above 3, will be resplaced with 3\n"
      ],
      "metadata": {
        "colab": {
          "base_uri": "https://localhost:8080/"
        },
        "id": "XBelQuIEXEOi",
        "outputId": "fc7842ff-f24b-4655-affb-5e0176157fd5"
      },
      "execution_count": null,
      "outputs": [
        {
          "output_type": "execute_result",
          "data": {
            "text/plain": [
              "tensor([2., 2., 2., 2., 2., 2., 3., 3., 3., 3.])"
            ]
          },
          "metadata": {},
          "execution_count": 5
        }
      ]
    },
    {
      "cell_type": "markdown",
      "source": [
        "#Reduction Operatiion"
      ],
      "metadata": {
        "id": "YjQchM5rZm7n"
      }
    },
    {
      "cell_type": "code",
      "source": [
        "torch.manual_seed(170)\n",
        "e = torch.randint(size=(2,3), low = 0, high = 10, dtype = torch.float16)\n",
        "#Generates a tensor whose values lie 0 and 10\n",
        "\n",
        "e"
      ],
      "metadata": {
        "colab": {
          "base_uri": "https://localhost:8080/"
        },
        "id": "gedMxLwcYP5k",
        "outputId": "c0d8df15-6965-4311-b20d-86e2a395f51f"
      },
      "execution_count": null,
      "outputs": [
        {
          "output_type": "execute_result",
          "data": {
            "text/plain": [
              "tensor([[2., 5., 0.],\n",
              "        [6., 0., 2.]], dtype=torch.float16)"
            ]
          },
          "metadata": {},
          "execution_count": 19
        }
      ]
    },
    {
      "cell_type": "code",
      "source": [
        "#We can do all the mathematical operations at opnce on the whole tensor\n",
        "\n",
        "torch.sum(e)"
      ],
      "metadata": {
        "colab": {
          "base_uri": "https://localhost:8080/"
        },
        "id": "jwizLWenagIm",
        "outputId": "a9352d02-2319-49c0-fae1-6f1b733d6433"
      },
      "execution_count": null,
      "outputs": [
        {
          "output_type": "execute_result",
          "data": {
            "text/plain": [
              "tensor(15)"
            ]
          },
          "metadata": {},
          "execution_count": 15
        }
      ]
    },
    {
      "cell_type": "code",
      "source": [
        "#Sum along columns\n",
        "#Similar to numpy, row ---> 1 and coulmns ---> 0\n",
        "torch.sum(e, dim = 0) #Column wise sum"
      ],
      "metadata": {
        "colab": {
          "base_uri": "https://localhost:8080/"
        },
        "id": "R-7XZKbca-QO",
        "outputId": "71c65fbb-6005-44d4-dc09-4e51d828ae96"
      },
      "execution_count": null,
      "outputs": [
        {
          "output_type": "execute_result",
          "data": {
            "text/plain": [
              "tensor([8, 5, 2])"
            ]
          },
          "metadata": {},
          "execution_count": 16
        }
      ]
    },
    {
      "cell_type": "code",
      "source": [
        "#Sum along rows\n",
        "#Similar to numpy, row ---> 1 and columns ---> 0\n",
        "torch.sum(e, dim = 1)"
      ],
      "metadata": {
        "colab": {
          "base_uri": "https://localhost:8080/"
        },
        "id": "25jsd1robZpo",
        "outputId": "b9731f4a-bf67-4f3f-d6f9-619f3dcd0832"
      },
      "execution_count": null,
      "outputs": [
        {
          "output_type": "execute_result",
          "data": {
            "text/plain": [
              "tensor([7, 8])"
            ]
          },
          "metadata": {},
          "execution_count": 17
        }
      ]
    },
    {
      "cell_type": "code",
      "source": [
        "#Mean\n",
        "torch.mean(e)"
      ],
      "metadata": {
        "colab": {
          "base_uri": "https://localhost:8080/"
        },
        "id": "cOb1xAfxbmiJ",
        "outputId": "ee7f3ee9-09b5-4b55-bc6a-dc4c9eb6d846"
      },
      "execution_count": null,
      "outputs": [
        {
          "output_type": "execute_result",
          "data": {
            "text/plain": [
              "tensor(2.5000, dtype=torch.float16)"
            ]
          },
          "metadata": {},
          "execution_count": 20
        }
      ]
    },
    {
      "cell_type": "code",
      "source": [
        "#Mean along columns\n",
        "torch.mean(e, dim = 0)"
      ],
      "metadata": {
        "colab": {
          "base_uri": "https://localhost:8080/"
        },
        "id": "sWWzIy-pb_61",
        "outputId": "2338ab7a-c8f3-466d-9897-bf18ae726145"
      },
      "execution_count": null,
      "outputs": [
        {
          "output_type": "execute_result",
          "data": {
            "text/plain": [
              "tensor([4.0000, 2.5000, 1.0000], dtype=torch.float16)"
            ]
          },
          "metadata": {},
          "execution_count": 21
        }
      ]
    },
    {
      "cell_type": "code",
      "source": [
        "#Mean along rows\n",
        "torch.mean(e, dim = 1)"
      ],
      "metadata": {
        "colab": {
          "base_uri": "https://localhost:8080/"
        },
        "id": "iyCVv2-EcJva",
        "outputId": "8309811e-869d-4818-f67e-6bde69a25bf0"
      },
      "execution_count": null,
      "outputs": [
        {
          "output_type": "execute_result",
          "data": {
            "text/plain": [
              "tensor([2.3340, 2.6660], dtype=torch.float16)"
            ]
          },
          "metadata": {},
          "execution_count": 22
        }
      ]
    },
    {
      "cell_type": "code",
      "source": [
        "#Median\n",
        "torch.median(e)"
      ],
      "metadata": {
        "colab": {
          "base_uri": "https://localhost:8080/"
        },
        "id": "NheC15ktcPYk",
        "outputId": "c88b77af-f5eb-48a5-f64f-f15fdadb8740"
      },
      "execution_count": null,
      "outputs": [
        {
          "output_type": "execute_result",
          "data": {
            "text/plain": [
              "tensor(2., dtype=torch.float16)"
            ]
          },
          "metadata": {},
          "execution_count": 23
        }
      ]
    },
    {
      "cell_type": "code",
      "source": [
        "#Median along rows\n",
        "torch.median(e, dim = 1)"
      ],
      "metadata": {
        "colab": {
          "base_uri": "https://localhost:8080/"
        },
        "id": "1Pw5j7w7cYXZ",
        "outputId": "48b429e3-c550-4030-fc0d-0fc17887c108"
      },
      "execution_count": null,
      "outputs": [
        {
          "output_type": "execute_result",
          "data": {
            "text/plain": [
              "torch.return_types.median(\n",
              "values=tensor([2., 2.], dtype=torch.float16),\n",
              "indices=tensor([0, 2]))"
            ]
          },
          "metadata": {},
          "execution_count": 24
        }
      ]
    },
    {
      "cell_type": "code",
      "source": [
        "#Median along columns\n",
        "torch.median(e, dim = 0)"
      ],
      "metadata": {
        "colab": {
          "base_uri": "https://localhost:8080/"
        },
        "id": "ghQOalWPcg1b",
        "outputId": "1b63b3e7-89e3-434a-8c82-aea6036f18a5"
      },
      "execution_count": null,
      "outputs": [
        {
          "output_type": "execute_result",
          "data": {
            "text/plain": [
              "torch.return_types.median(\n",
              "values=tensor([2., 0., 0.], dtype=torch.float16),\n",
              "indices=tensor([0, 1, 0]))"
            ]
          },
          "metadata": {},
          "execution_count": 25
        }
      ]
    },
    {
      "cell_type": "code",
      "source": [
        "#Max and Min\n",
        "torch.max(e)\n",
        "\n",
        "torch.min(e)"
      ],
      "metadata": {
        "colab": {
          "base_uri": "https://localhost:8080/"
        },
        "id": "DJJFiCuBcnqU",
        "outputId": "b508a209-75cf-481d-8e43-61846b1371a8"
      },
      "execution_count": null,
      "outputs": [
        {
          "output_type": "execute_result",
          "data": {
            "text/plain": [
              "tensor(0., dtype=torch.float16)"
            ]
          },
          "metadata": {},
          "execution_count": 28
        }
      ]
    },
    {
      "cell_type": "code",
      "source": [
        "#Tensor Product\n",
        "torch.prod(e)"
      ],
      "metadata": {
        "colab": {
          "base_uri": "https://localhost:8080/"
        },
        "id": "PITRfNYqdEkm",
        "outputId": "45517693-6f09-4bd0-9fa6-1519e807c16e"
      },
      "execution_count": null,
      "outputs": [
        {
          "output_type": "execute_result",
          "data": {
            "text/plain": [
              "tensor(0., dtype=torch.float16)"
            ]
          },
          "metadata": {},
          "execution_count": 29
        }
      ]
    },
    {
      "cell_type": "code",
      "source": [
        "#Torch Variance\n",
        "torch.var(e)"
      ],
      "metadata": {
        "colab": {
          "base_uri": "https://localhost:8080/"
        },
        "id": "AW5Yz_OZdI7H",
        "outputId": "d1697039-1f06-4145-ca93-d3bea311e170"
      },
      "execution_count": null,
      "outputs": [
        {
          "output_type": "execute_result",
          "data": {
            "text/plain": [
              "tensor(6.3008, dtype=torch.float16)"
            ]
          },
          "metadata": {},
          "execution_count": 30
        }
      ]
    },
    {
      "cell_type": "code",
      "source": [
        "#Standard deviation\n",
        "torch.std(e)"
      ],
      "metadata": {
        "colab": {
          "base_uri": "https://localhost:8080/"
        },
        "id": "Y8m5FTC3dNNb",
        "outputId": "7bad1999-9cfe-4108-e3e3-f08f66119fce"
      },
      "execution_count": null,
      "outputs": [
        {
          "output_type": "execute_result",
          "data": {
            "text/plain": [
              "tensor(2.5098, dtype=torch.float16)"
            ]
          },
          "metadata": {},
          "execution_count": 31
        }
      ]
    },
    {
      "cell_type": "code",
      "source": [
        "#Argmax\n",
        "torch.argmax(e) \"\"\"Gives the POSITION of the maximum element, but not the max elemnent\"\"\""
      ],
      "metadata": {
        "colab": {
          "base_uri": "https://localhost:8080/"
        },
        "id": "9uN5W6ZpdTyV",
        "outputId": "bd9d55fc-b4df-4c49-863f-cb579262ce73"
      },
      "execution_count": null,
      "outputs": [
        {
          "output_type": "execute_result",
          "data": {
            "text/plain": [
              "tensor(3)"
            ]
          },
          "metadata": {},
          "execution_count": 32
        }
      ]
    },
    {
      "cell_type": "code",
      "source": [
        "#Argmin\n",
        "torch.argmin(e) \"\"\"Gives the position of the minimum element, but not the min element\"\"\""
      ],
      "metadata": {
        "colab": {
          "base_uri": "https://localhost:8080/"
        },
        "id": "J_0IKJhcdsEm",
        "outputId": "ed61743a-22be-4db8-f044-d551293aafd1"
      },
      "execution_count": null,
      "outputs": [
        {
          "output_type": "execute_result",
          "data": {
            "text/plain": [
              "tensor(2)"
            ]
          },
          "metadata": {},
          "execution_count": 33
        }
      ]
    },
    {
      "cell_type": "markdown",
      "source": [
        "#Matrix Operations"
      ],
      "metadata": {
        "id": "nLkg8YLRd3Vl"
      }
    },
    {
      "cell_type": "code",
      "source": [
        "torch.manual_seed(1)\n",
        "f = torch.randint(size = (2, 3), low = 0, high = 10, dtype = torch.float16)\n",
        "g = torch.randint(size = (3, 2), low = 10, high = 20, dtype = torch.float16)"
      ],
      "metadata": {
        "id": "96FoHUlZdx1x"
      },
      "execution_count": null,
      "outputs": []
    },
    {
      "cell_type": "code",
      "source": [
        "print(f)\n",
        "print(g)"
      ],
      "metadata": {
        "colab": {
          "base_uri": "https://localhost:8080/"
        },
        "id": "xAChUcLmeyG5",
        "outputId": "5a505071-a766-4998-92ff-51d912ff9d8c"
      },
      "execution_count": null,
      "outputs": [
        {
          "output_type": "stream",
          "name": "stdout",
          "text": [
            "tensor([[5., 9., 4.],\n",
            "        [8., 3., 3.]], dtype=torch.float16)\n",
            "tensor([[11., 11.],\n",
            "        [19., 12.],\n",
            "        [18., 19.]], dtype=torch.float16)\n"
          ]
        }
      ]
    },
    {
      "cell_type": "code",
      "source": [
        "#Matrix Multiplication\n",
        "torch.matmul(f,g)"
      ],
      "metadata": {
        "colab": {
          "base_uri": "https://localhost:8080/"
        },
        "id": "AuRhhQese1vr",
        "outputId": "7334444e-c9e9-4f57-97b8-01f93358301f"
      },
      "execution_count": null,
      "outputs": [
        {
          "output_type": "execute_result",
          "data": {
            "text/plain": [
              "tensor([[298., 239.],\n",
              "        [199., 181.]], dtype=torch.float16)"
            ]
          },
          "metadata": {},
          "execution_count": 42
        }
      ]
    },
    {
      "cell_type": "code",
      "source": [
        "#Dot product between vectors\n",
        "vector1 = torch.tensor([1, 2])\n",
        "vector2 = torch.tensor([4, 5])\n",
        "\n",
        "#Dot product\n",
        "torch.dot(vector1, vector2)"
      ],
      "metadata": {
        "colab": {
          "base_uri": "https://localhost:8080/"
        },
        "id": "nPTzLK9-gAxQ",
        "outputId": "8b777379-a04a-4041-d630-c682a33d28b1"
      },
      "execution_count": null,
      "outputs": [
        {
          "output_type": "execute_result",
          "data": {
            "text/plain": [
              "tensor(14)"
            ]
          },
          "metadata": {},
          "execution_count": 43
        }
      ]
    },
    {
      "cell_type": "code",
      "source": [
        "#Transpose\n",
        "torch.transpose(f, dim0 = 0, dim1 = -1)"
      ],
      "metadata": {
        "colab": {
          "base_uri": "https://localhost:8080/"
        },
        "id": "ByH1QGQLgw1o",
        "outputId": "3f74648c-f1d7-4cff-c523-efc5b8612c74"
      },
      "execution_count": null,
      "outputs": [
        {
          "output_type": "execute_result",
          "data": {
            "text/plain": [
              "tensor([[5., 8.],\n",
              "        [9., 3.],\n",
              "        [4., 3.]], dtype=torch.float16)"
            ]
          },
          "metadata": {},
          "execution_count": 52
        }
      ]
    },
    {
      "cell_type": "code",
      "source": [
        "square = torch.randint(size = (3,3), low = 0, high = 10, dtype = torch.float64)\n",
        "square"
      ],
      "metadata": {
        "colab": {
          "base_uri": "https://localhost:8080/"
        },
        "id": "nYABwJlXhoWj",
        "outputId": "5706fd19-aafa-4c42-f08d-db2a2578284a"
      },
      "execution_count": null,
      "outputs": [
        {
          "output_type": "execute_result",
          "data": {
            "text/plain": [
              "tensor([[2., 7., 3.],\n",
              "        [3., 3., 6.],\n",
              "        [6., 6., 0.]], dtype=torch.float64)"
            ]
          },
          "metadata": {},
          "execution_count": 69
        }
      ]
    },
    {
      "cell_type": "code",
      "source": [
        "#Determinant of a tensor\n",
        "torch.det(square) #When we are using Det or Inverse, we should have a matrix of atleast of float 64 precison, we SHOULDn't use lower precision"
      ],
      "metadata": {
        "colab": {
          "base_uri": "https://localhost:8080/"
        },
        "id": "nkKuCrwshgep",
        "outputId": "bd6a2739-30b6-46db-f95d-f46fab78d5e7"
      },
      "execution_count": null,
      "outputs": [
        {
          "output_type": "execute_result",
          "data": {
            "text/plain": [
              "tensor(180., dtype=torch.float64)"
            ]
          },
          "metadata": {},
          "execution_count": 70
        }
      ]
    },
    {
      "cell_type": "code",
      "source": [
        "torch.inverse(square)"
      ],
      "metadata": {
        "colab": {
          "base_uri": "https://localhost:8080/"
        },
        "id": "9R_j9usZiiNy",
        "outputId": "463cd107-44d4-4a63-83e8-76f8b792519b"
      },
      "execution_count": null,
      "outputs": [
        {
          "output_type": "execute_result",
          "data": {
            "text/plain": [
              "tensor([[-2.0000e-01,  1.0000e-01,  1.8333e-01],\n",
              "        [ 2.0000e-01, -1.0000e-01, -1.6667e-02],\n",
              "        [-5.0465e-19,  1.6667e-01, -8.3333e-02]], dtype=torch.float64)"
            ]
          },
          "metadata": {},
          "execution_count": 71
        }
      ]
    },
    {
      "cell_type": "markdown",
      "source": [
        "#Comparision Operations"
      ],
      "metadata": {
        "id": "45FyK_dTjGEa"
      }
    },
    {
      "cell_type": "code",
      "source": [
        "torch.manual_seed(1999)\n",
        "i = torch.randint(size = (5,5), low = 0, high = 100, dtype = torch.float64)\n",
        "j = torch.randint(size = (5,5), low = 0, high = 10000, dtype = torch.float64)\n",
        "print(i)\n",
        "print(j)"
      ],
      "metadata": {
        "colab": {
          "base_uri": "https://localhost:8080/"
        },
        "id": "_n8t7HGajEZu",
        "outputId": "2a9f736b-f963-4b19-eeec-74a3d0633483"
      },
      "execution_count": null,
      "outputs": [
        {
          "output_type": "stream",
          "name": "stdout",
          "text": [
            "tensor([[71., 32., 12., 24., 75.],\n",
            "        [77., 47.,  6., 30., 19.],\n",
            "        [ 6., 85., 70., 44., 36.],\n",
            "        [ 4., 81., 64.,  0., 31.],\n",
            "        [21., 32., 82., 94.,  7.]], dtype=torch.float64)\n",
            "tensor([[5910., 4068., 6251., 6925., 9902.],\n",
            "        [6837., 5661., 1946., 7978., 1912.],\n",
            "        [5562., 4199., 1228., 9745., 4585.],\n",
            "        [3031., 4354., 1372.,  891., 5841.],\n",
            "        [2528., 7613., 3259., 4993., 7295.]], dtype=torch.float64)\n"
          ]
        }
      ]
    },
    {
      "cell_type": "code",
      "source": [
        "#Greater than\n",
        "i > j\n",
        "\n",
        "#Less than\n",
        "i < j\n",
        "\n",
        "#Equal to\n",
        "i == j\n",
        "\n",
        "#Not equal to\n",
        "i != j\n",
        "\n",
        "#Greater than equal to\n",
        "i >= j\n",
        "\n",
        "#Less than equal to\n",
        "i <= j"
      ],
      "metadata": {
        "colab": {
          "base_uri": "https://localhost:8080/"
        },
        "id": "tjH6DNrsju77",
        "outputId": "aa957c49-fe57-4937-ab43-52effb17068f"
      },
      "execution_count": null,
      "outputs": [
        {
          "output_type": "execute_result",
          "data": {
            "text/plain": [
              "tensor([[True, True, True, True, True],\n",
              "        [True, True, True, True, True],\n",
              "        [True, True, True, True, True],\n",
              "        [True, True, True, True, True],\n",
              "        [True, True, True, True, True]])"
            ]
          },
          "metadata": {},
          "execution_count": 6
        }
      ]
    },
    {
      "cell_type": "markdown",
      "source": [
        "#Special Operations"
      ],
      "metadata": {
        "id": "fGFfp9ruwIxs"
      }
    },
    {
      "cell_type": "code",
      "source": [
        "torch.manual_seed(90)\n",
        "\n",
        "s = torch.randint(size = (3,3), low = 10, high = 1000, dtype = torch.float64)\n",
        "\n",
        "s"
      ],
      "metadata": {
        "colab": {
          "base_uri": "https://localhost:8080/"
        },
        "id": "Q2hf1Ev7wdog",
        "outputId": "c625c2ad-b647-4450-a407-ee7006c76c0a"
      },
      "execution_count": null,
      "outputs": [
        {
          "output_type": "execute_result",
          "data": {
            "text/plain": [
              "tensor([[809., 385., 730.],\n",
              "        [ 61., 169., 759.],\n",
              "        [454.,  18., 767.]], dtype=torch.float64)"
            ]
          },
          "metadata": {},
          "execution_count": 10
        }
      ]
    },
    {
      "cell_type": "code",
      "source": [
        "#Log\n",
        "torch.log(s)"
      ],
      "metadata": {
        "id": "7vjiIbAClSpm",
        "colab": {
          "base_uri": "https://localhost:8080/"
        },
        "outputId": "cd6ba677-5445-47a4-cbc2-ad2a7da73ef8"
      },
      "execution_count": null,
      "outputs": [
        {
          "output_type": "execute_result",
          "data": {
            "text/plain": [
              "tensor([[6.6958, 5.9532, 6.5930],\n",
              "        [4.1109, 5.1299, 6.6320],\n",
              "        [6.1181, 2.8904, 6.6425]], dtype=torch.float64)"
            ]
          },
          "metadata": {},
          "execution_count": 11
        }
      ]
    },
    {
      "cell_type": "code",
      "source": [
        "#Exponenet(Exp)\n",
        "torch.exp(s) #E Power every element"
      ],
      "metadata": {
        "colab": {
          "base_uri": "https://localhost:8080/"
        },
        "id": "LDB1wEy2w3fk",
        "outputId": "1f5c521b-5dd4-404a-e275-3d7e1251bfb8"
      },
      "execution_count": null,
      "outputs": [
        {
          "output_type": "execute_result",
          "data": {
            "text/plain": [
              "tensor([[        inf, 1.5973e+167,         inf],\n",
              "        [ 3.1043e+26,  2.4875e+73,         inf],\n",
              "        [1.4781e+197,  6.5660e+07,         inf]], dtype=torch.float64)"
            ]
          },
          "metadata": {},
          "execution_count": 13
        }
      ]
    },
    {
      "cell_type": "code",
      "source": [
        "#sqrt\n",
        "torch.sqrt(s)"
      ],
      "metadata": {
        "colab": {
          "base_uri": "https://localhost:8080/"
        },
        "id": "n3FHtgMuxFtz",
        "outputId": "6b659e72-e6b6-44f4-efba-2cd5d3381fb7"
      },
      "execution_count": null,
      "outputs": [
        {
          "output_type": "execute_result",
          "data": {
            "text/plain": [
              "tensor([[28.4429, 19.6214, 27.0185],\n",
              "        [ 7.8102, 13.0000, 27.5500],\n",
              "        [21.3073,  4.2426, 27.6948]], dtype=torch.float64)"
            ]
          },
          "metadata": {},
          "execution_count": 14
        }
      ]
    },
    {
      "cell_type": "code",
      "source": [
        "#Sigmoid\n",
        "torch.sigmoid(s) #Sigmoid of every element"
      ],
      "metadata": {
        "colab": {
          "base_uri": "https://localhost:8080/"
        },
        "id": "PhIER5yzxNOq",
        "outputId": "c32aef01-85e6-4313-cb74-ecfcda3c36be"
      },
      "execution_count": null,
      "outputs": [
        {
          "output_type": "execute_result",
          "data": {
            "text/plain": [
              "tensor([[1.0000, 1.0000, 1.0000],\n",
              "        [1.0000, 1.0000, 1.0000],\n",
              "        [1.0000, 1.0000, 1.0000]], dtype=torch.float64)"
            ]
          },
          "metadata": {},
          "execution_count": 15
        }
      ]
    },
    {
      "cell_type": "code",
      "source": [
        "#Softmax, While applying softmax, we have to specify on which dimension we want to apply softmax\n",
        "torch.softmax(s, dim = 0) #Softmax across columns\n",
        "\n",
        "torch.softmax(s, dim = 1) #Softmax across rows"
      ],
      "metadata": {
        "colab": {
          "base_uri": "https://localhost:8080/"
        },
        "id": "YaQO-9WRxWWS",
        "outputId": "be02a80b-10e2-4881-bda7-c5fbc35deacb"
      },
      "execution_count": null,
      "outputs": [
        {
          "output_type": "execute_result",
          "data": {
            "text/plain": [
              "tensor([[ 1.0000e+00, 7.2300e-185,  4.9061e-35],\n",
              "        [7.2854e-304, 5.8379e-257,  1.0000e+00],\n",
              "        [1.1637e-136,  0.0000e+00,  1.0000e+00]], dtype=torch.float64)"
            ]
          },
          "metadata": {},
          "execution_count": 18
        }
      ]
    },
    {
      "cell_type": "code",
      "source": [
        "#ReLu\n",
        "torch.relu(s)"
      ],
      "metadata": {
        "colab": {
          "base_uri": "https://localhost:8080/"
        },
        "id": "1lSqh_ygx76j",
        "outputId": "1931c859-ddc8-4fc4-ac8a-75959aa37521"
      },
      "execution_count": null,
      "outputs": [
        {
          "output_type": "execute_result",
          "data": {
            "text/plain": [
              "tensor([[809., 385., 730.],\n",
              "        [ 61., 169., 759.],\n",
              "        [454.,  18., 767.]], dtype=torch.float64)"
            ]
          },
          "metadata": {},
          "execution_count": 19
        }
      ]
    },
    {
      "cell_type": "markdown",
      "source": [
        "#Inplace Operations"
      ],
      "metadata": {
        "id": "wNS9LIRCybt4"
      }
    },
    {
      "cell_type": "markdown",
      "source": [
        "#Inplace operations are used to reduce storage\n"
      ],
      "metadata": {
        "id": "3yjYcr8kyHl3"
      }
    },
    {
      "cell_type": "code",
      "source": [
        "torch.manual_seed(9000)\n",
        "m = torch.randint(size = (3,3), low = 10, high = 1000, dtype = torch.float64)\n",
        "\n",
        "n = torch.randint(size = (3,3), low = 10, high = 1000, dtype = torch.float64)\n",
        "\n",
        "print(m)\n",
        "print(n)"
      ],
      "metadata": {
        "id": "8DtuRMn2zLaD",
        "colab": {
          "base_uri": "https://localhost:8080/"
        },
        "outputId": "9c83a9d7-763b-4a63-a655-4968fd02b037"
      },
      "execution_count": 2,
      "outputs": [
        {
          "output_type": "stream",
          "name": "stdout",
          "text": [
            "tensor([[752., 621.,  61.],\n",
            "        [163., 833., 403.],\n",
            "        [ 73., 242., 459.]], dtype=torch.float64)\n",
            "tensor([[733., 395., 819.],\n",
            "        [347., 190., 458.],\n",
            "        [219.,  55., 397.]], dtype=torch.float64)\n"
          ]
        }
      ]
    },
    {
      "cell_type": "code",
      "source": [
        "m.add_(n) #Adding n to m, equivalent to m = m + n"
      ],
      "metadata": {
        "id": "oWUy7xOAzRMV",
        "colab": {
          "base_uri": "https://localhost:8080/"
        },
        "outputId": "321e4619-83d2-43d0-e650-48afe77489e4"
      },
      "execution_count": 3,
      "outputs": [
        {
          "output_type": "execute_result",
          "data": {
            "text/plain": [
              "tensor([[1485., 1016.,  880.],\n",
              "        [ 510., 1023.,  861.],\n",
              "        [ 292.,  297.,  856.]], dtype=torch.float64)"
            ]
          },
          "metadata": {},
          "execution_count": 3
        }
      ]
    },
    {
      "cell_type": "code",
      "source": [
        "m.relu_() #Relu on every element"
      ],
      "metadata": {
        "colab": {
          "base_uri": "https://localhost:8080/"
        },
        "id": "r6qKMs0qgWWr",
        "outputId": "9d650533-71b0-46c4-a732-a0c3d87ea186"
      },
      "execution_count": 5,
      "outputs": [
        {
          "output_type": "execute_result",
          "data": {
            "text/plain": [
              "tensor([[1485., 1016.,  880.],\n",
              "        [ 510., 1023.,  861.],\n",
              "        [ 292.,  297.,  856.]], dtype=torch.float64)"
            ]
          },
          "metadata": {},
          "execution_count": 5
        }
      ]
    },
    {
      "cell_type": "markdown",
      "source": [
        "#_ represents, we are perfroming inplace operations"
      ],
      "metadata": {
        "id": "fvRQxkoNhijH"
      }
    },
    {
      "cell_type": "markdown",
      "source": [
        "#Copying a tensor"
      ],
      "metadata": {
        "id": "tjON9wSAhqcD"
      }
    },
    {
      "cell_type": "code",
      "source": [
        "c = torch.rand(size = (2,3))\n",
        "c"
      ],
      "metadata": {
        "colab": {
          "base_uri": "https://localhost:8080/"
        },
        "id": "G-Uv65VvhP4b",
        "outputId": "a531ad4d-c409-4e79-c077-bf4d4dfdbf8f"
      },
      "execution_count": 12,
      "outputs": [
        {
          "output_type": "execute_result",
          "data": {
            "text/plain": [
              "tensor([[0.3116, 0.7261, 0.3698],\n",
              "        [0.6494, 0.0225, 0.8767]])"
            ]
          },
          "metadata": {},
          "execution_count": 12
        }
      ]
    },
    {
      "cell_type": "code",
      "source": [
        "#Easiest way to copy a tensor is using an assignment operator\n",
        "d = c\n",
        "d"
      ],
      "metadata": {
        "colab": {
          "base_uri": "https://localhost:8080/"
        },
        "id": "ju6kFD-ZhWvx",
        "outputId": "ab737eda-f88f-4cda-e328-7decef3b1695"
      },
      "execution_count": 14,
      "outputs": [
        {
          "output_type": "execute_result",
          "data": {
            "text/plain": [
              "tensor([[0.3116, 0.7261, 0.3698],\n",
              "        [0.6494, 0.0225, 0.8767]])"
            ]
          },
          "metadata": {},
          "execution_count": 14
        }
      ]
    },
    {
      "cell_type": "code",
      "source": [
        "#Now, say we are doing changes to c\n",
        "c[1][2] = 0 #Making 2nd element in 1st row as 0\n",
        "c"
      ],
      "metadata": {
        "colab": {
          "base_uri": "https://localhost:8080/"
        },
        "id": "9j5lWhLVjdou",
        "outputId": "ff8034d7-c7e8-464f-e57e-a3b1f119c504"
      },
      "execution_count": 16,
      "outputs": [
        {
          "output_type": "execute_result",
          "data": {
            "text/plain": [
              "tensor([[0.3116, 0.7261, 0.3698],\n",
              "        [0.6494, 0.0225, 0.0000]])"
            ]
          },
          "metadata": {},
          "execution_count": 16
        }
      ]
    },
    {
      "cell_type": "code",
      "source": [
        "d#The [1][2] in d has also become 0, which is undesirable in some situations"
      ],
      "metadata": {
        "colab": {
          "base_uri": "https://localhost:8080/"
        },
        "id": "dkUS9cm6jwu1",
        "outputId": "3eee3d5e-12b9-4493-bc13-ac44211b2b4e"
      },
      "execution_count": 17,
      "outputs": [
        {
          "output_type": "execute_result",
          "data": {
            "text/plain": [
              "tensor([[0.3116, 0.7261, 0.3698],\n",
              "        [0.6494, 0.0225, 0.0000]])"
            ]
          },
          "metadata": {},
          "execution_count": 17
        }
      ]
    },
    {
      "cell_type": "code",
      "source": [
        "d[0][0] = 1\n",
        "d"
      ],
      "metadata": {
        "colab": {
          "base_uri": "https://localhost:8080/"
        },
        "id": "ldquuVwXj7A1",
        "outputId": "cee601e9-2941-4ab3-fd77-911a23895810"
      },
      "execution_count": 19,
      "outputs": [
        {
          "output_type": "execute_result",
          "data": {
            "text/plain": [
              "tensor([[1.0000, 0.7261, 0.3698],\n",
              "        [0.6494, 0.0225, 0.0000]])"
            ]
          },
          "metadata": {},
          "execution_count": 19
        }
      ]
    },
    {
      "cell_type": "code",
      "source": [
        "c #We have changed 1st element of d, the same change has been applied to c, which is undesirable"
      ],
      "metadata": {
        "colab": {
          "base_uri": "https://localhost:8080/"
        },
        "id": "DG-iRA-zkCQ4",
        "outputId": "e268b5c2-6330-4005-c75b-a7bf47f6b11e"
      },
      "execution_count": 20,
      "outputs": [
        {
          "output_type": "execute_result",
          "data": {
            "text/plain": [
              "tensor([[1.0000, 0.7261, 0.3698],\n",
              "        [0.6494, 0.0225, 0.0000]])"
            ]
          },
          "metadata": {},
          "execution_count": 20
        }
      ]
    },
    {
      "cell_type": "markdown",
      "source": [
        "*We are using passing by reference method, when using an assignment operator. We are creating a tensor in a memory location, we are giving the memory location to 2 different variables c and d here, so any variable can make changes in the address given to them*"
      ],
      "metadata": {
        "id": "rYd3aSlDk0PA"
      }
    },
    {
      "cell_type": "code",
      "source": [
        "id(c)"
      ],
      "metadata": {
        "colab": {
          "base_uri": "https://localhost:8080/"
        },
        "id": "Ay_HSAT8lTzp",
        "outputId": "c4314958-2c93-4d22-9d73-4aa575e4435f"
      },
      "execution_count": 21,
      "outputs": [
        {
          "output_type": "execute_result",
          "data": {
            "text/plain": [
              "135057393864672"
            ]
          },
          "metadata": {},
          "execution_count": 21
        }
      ]
    },
    {
      "cell_type": "code",
      "source": [
        "id(d) #Same as c"
      ],
      "metadata": {
        "colab": {
          "base_uri": "https://localhost:8080/"
        },
        "id": "Hh-8o52IlY2v",
        "outputId": "e8b4dbb7-afae-43ae-8d6f-e09f5b5df41a"
      },
      "execution_count": 22,
      "outputs": [
        {
          "output_type": "execute_result",
          "data": {
            "text/plain": [
              "135057393864672"
            ]
          },
          "metadata": {},
          "execution_count": 22
        }
      ]
    },
    {
      "cell_type": "code",
      "source": [
        "#To mitigate this problem we use CLONE function\n",
        "p = torch.tensor([\n",
        "    [1,2,3],\n",
        "    [4,5,6],\n",
        "    [7,8,9]\n",
        "], dtype = torch.float64)\n",
        "\n",
        "p"
      ],
      "metadata": {
        "colab": {
          "base_uri": "https://localhost:8080/"
        },
        "id": "3CdlNBBbldL7",
        "outputId": "86d51c21-1c48-4ea9-9cd7-28934ef42c7a"
      },
      "execution_count": 23,
      "outputs": [
        {
          "output_type": "execute_result",
          "data": {
            "text/plain": [
              "tensor([[1., 2., 3.],\n",
              "        [4., 5., 6.],\n",
              "        [7., 8., 9.]], dtype=torch.float64)"
            ]
          },
          "metadata": {},
          "execution_count": 23
        }
      ]
    },
    {
      "cell_type": "code",
      "source": [
        "q = p.clone()\n",
        "q"
      ],
      "metadata": {
        "colab": {
          "base_uri": "https://localhost:8080/"
        },
        "id": "JLrpIiaEm_Bk",
        "outputId": "a4f1d74f-606c-4b68-d2ae-28c705324b32"
      },
      "execution_count": 25,
      "outputs": [
        {
          "output_type": "execute_result",
          "data": {
            "text/plain": [
              "tensor([[1., 2., 3.],\n",
              "        [4., 5., 6.],\n",
              "        [7., 8., 9.]], dtype=torch.float64)"
            ]
          },
          "metadata": {},
          "execution_count": 25
        }
      ]
    },
    {
      "cell_type": "code",
      "source": [
        "p[0][0] = 100\n",
        "p"
      ],
      "metadata": {
        "colab": {
          "base_uri": "https://localhost:8080/"
        },
        "id": "gEE5vHRUnGxI",
        "outputId": "11073ad6-d3a4-4612-ce88-69ca5b194fa9"
      },
      "execution_count": 27,
      "outputs": [
        {
          "output_type": "execute_result",
          "data": {
            "text/plain": [
              "tensor([[100.,   2.,   3.],\n",
              "        [  4.,   5.,   6.],\n",
              "        [  7.,   8.,   9.]], dtype=torch.float64)"
            ]
          },
          "metadata": {},
          "execution_count": 27
        }
      ]
    },
    {
      "cell_type": "code",
      "source": [
        "q # The 1st value of q has not been changed, even though we have changed in p"
      ],
      "metadata": {
        "colab": {
          "base_uri": "https://localhost:8080/"
        },
        "id": "Sc_l4nq8nMbG",
        "outputId": "475dc6ac-f3bb-4f47-90f4-cb0f9c4d7532"
      },
      "execution_count": 28,
      "outputs": [
        {
          "output_type": "execute_result",
          "data": {
            "text/plain": [
              "tensor([[1., 2., 3.],\n",
              "        [4., 5., 6.],\n",
              "        [7., 8., 9.]], dtype=torch.float64)"
            ]
          },
          "metadata": {},
          "execution_count": 28
        }
      ]
    },
    {
      "cell_type": "code",
      "source": [
        "id(p)"
      ],
      "metadata": {
        "colab": {
          "base_uri": "https://localhost:8080/"
        },
        "id": "Jmap6rqMnYVy",
        "outputId": "c79db3c6-ef31-4388-959d-5a4ec398fcdc"
      },
      "execution_count": 29,
      "outputs": [
        {
          "output_type": "execute_result",
          "data": {
            "text/plain": [
              "135060350878240"
            ]
          },
          "metadata": {},
          "execution_count": 29
        }
      ]
    },
    {
      "cell_type": "code",
      "source": [
        "id(q) #The adress of p and q are different. It is similar to creating a new tensor at different location"
      ],
      "metadata": {
        "colab": {
          "base_uri": "https://localhost:8080/"
        },
        "id": "OEXAy651nah-",
        "outputId": "3421eddd-fba7-41d3-cb31-eb48fc7a722e"
      },
      "execution_count": 30,
      "outputs": [
        {
          "output_type": "execute_result",
          "data": {
            "text/plain": [
              "135057187311024"
            ]
          },
          "metadata": {},
          "execution_count": 30
        }
      ]
    },
    {
      "cell_type": "markdown",
      "source": [
        "#Tensors on GPU"
      ],
      "metadata": {
        "id": "lN7xgO29n1IT"
      }
    },
    {
      "cell_type": "code",
      "source": [
        "import torch\n",
        "print(torch.__version__)"
      ],
      "metadata": {
        "colab": {
          "base_uri": "https://localhost:8080/"
        },
        "id": "k7GVntJDnpDb",
        "outputId": "e2ed3ced-4f6e-4cb8-f1c4-598aacaa27d3"
      },
      "execution_count": 1,
      "outputs": [
        {
          "output_type": "stream",
          "name": "stdout",
          "text": [
            "2.5.1+cu121\n"
          ]
        }
      ]
    },
    {
      "cell_type": "code",
      "source": [
        "print(torch.cuda.is_available()) #Checking whether the GPU is avaiable or not"
      ],
      "metadata": {
        "colab": {
          "base_uri": "https://localhost:8080/"
        },
        "id": "Vx1Ja2AEn_Fp",
        "outputId": "f6779cee-b075-49d0-e774-1c4bd69962c6"
      },
      "execution_count": 2,
      "outputs": [
        {
          "output_type": "stream",
          "name": "stdout",
          "text": [
            "True\n"
          ]
        }
      ]
    },
    {
      "cell_type": "code",
      "source": [
        "#Setting GPU as the device to use\n",
        "device = torch.device(\"cuda\")"
      ],
      "metadata": {
        "id": "Ko3N9Y4ooN7p"
      },
      "execution_count": 3,
      "outputs": []
    },
    {
      "cell_type": "markdown",
      "source": [
        "*Till now we have created the tensors on CPU, now we will be creating them on GPU/VRAM*"
      ],
      "metadata": {
        "id": "vR8UMTx0ojXh"
      }
    },
    {
      "cell_type": "code",
      "source": [
        "#Creating tensors on GPU\n",
        "torch.randint(size=(2,3), low = 10, high = 100, device = device) #We have to specify device name, when using GPU"
      ],
      "metadata": {
        "colab": {
          "base_uri": "https://localhost:8080/"
        },
        "id": "_yiQHEJsocN0",
        "outputId": "dd507e69-ff2e-4676-daf6-7a890f830975"
      },
      "execution_count": 6,
      "outputs": [
        {
          "output_type": "execute_result",
          "data": {
            "text/plain": [
              "tensor([[32, 37, 96],\n",
              "        [22, 60, 18]], device='cuda:0')"
            ]
          },
          "metadata": {},
          "execution_count": 6
        }
      ]
    },
    {
      "cell_type": "code",
      "source": [
        "#2nd method is to move existing tensors which are on CPU to GPU\n",
        "k = torch.randint(size = (2,3), low = 10, high = 100) #We are creating the tensor on CPU, as we have not specified the device\n",
        "k"
      ],
      "metadata": {
        "colab": {
          "base_uri": "https://localhost:8080/"
        },
        "id": "pOdYKPQZpV0w",
        "outputId": "8fd0ef53-d334-459f-c0b0-884e1fee9a19"
      },
      "execution_count": 8,
      "outputs": [
        {
          "output_type": "execute_result",
          "data": {
            "text/plain": [
              "tensor([[81, 13, 54],\n",
              "        [63, 98, 51]])"
            ]
          },
          "metadata": {},
          "execution_count": 8
        }
      ]
    },
    {
      "cell_type": "code",
      "source": [
        "#Moving tensor \"k\" to GPU\n",
        "i = k.to(device)"
      ],
      "metadata": {
        "id": "Sbm_XHCjqL42"
      },
      "execution_count": 11,
      "outputs": []
    },
    {
      "cell_type": "code",
      "source": [
        "#Comparing cpu VS gpu\n",
        "import time\n",
        "\n",
        "size = 10000 #Ten Thousand\n",
        "\n",
        "matrix_cpu1 = torch.randn(size, size)\n",
        "matrix_cpu2 = torch.randn(size, size)\n",
        "\n",
        "tik = time.time() #Start\n",
        "result_cpu = torch.matmul(matrix_cpu1, matrix_cpu2)\n",
        "tok = time.time() #End\n",
        "\n",
        "print(\"Time taken by CPU :\", tok-tik)"
      ],
      "metadata": {
        "colab": {
          "base_uri": "https://localhost:8080/"
        },
        "id": "UDpwFqu2q01w",
        "outputId": "247cacd3-910b-482b-edce-b3a46aecc82e"
      },
      "execution_count": 12,
      "outputs": [
        {
          "output_type": "stream",
          "name": "stdout",
          "text": [
            "Time taken by CPU : 15.6508150100708\n"
          ]
        }
      ]
    },
    {
      "cell_type": "code",
      "source": [
        "#Perfoming on GPU\n",
        "matrix_gpu1 = matrix_cpu1.to(device)\n",
        "matrix_gpu2 = matrix_cpu2.to(device)\n",
        "\n",
        "tik = time.time()\n",
        "result_gpu = torch.matmul(matrix_gpu1, matrix_gpu2)\n",
        "tok = time.time()\n",
        "\n",
        "print(\"Time taken by GPU:\", tok - tik)"
      ],
      "metadata": {
        "colab": {
          "base_uri": "https://localhost:8080/"
        },
        "id": "mAkO_lNosXfP",
        "outputId": "6fb86d4e-c94a-48b0-9eb1-6c26e095b4e0"
      },
      "execution_count": 13,
      "outputs": [
        {
          "output_type": "stream",
          "name": "stdout",
          "text": [
            "Time taken by GPU: 0.11988449096679688\n"
          ]
        }
      ]
    },
    {
      "cell_type": "code",
      "source": [
        "print(\"Speed up achevied by GPU:\", 15.6508150100708 / 0.11988449096679688)"
      ],
      "metadata": {
        "colab": {
          "base_uri": "https://localhost:8080/"
        },
        "id": "7k1wyfmCtdH-",
        "outputId": "f64a2540-426b-463f-a5cd-76b3944d1f68"
      },
      "execution_count": 14,
      "outputs": [
        {
          "output_type": "stream",
          "name": "stdout",
          "text": [
            "Speed up achevied by GPU: 130.54912177427053\n"
          ]
        }
      ]
    },
    {
      "cell_type": "markdown",
      "source": [
        "#Reshaping tensors"
      ],
      "metadata": {
        "id": "XgcqjsEUt3bN"
      }
    },
    {
      "cell_type": "code",
      "source": [
        "h = torch.ones(4,4)\n",
        "h"
      ],
      "metadata": {
        "colab": {
          "base_uri": "https://localhost:8080/"
        },
        "id": "YMP36EketnGH",
        "outputId": "867124f4-6597-4fe3-b5dc-3c5c0ce22dd3"
      },
      "execution_count": 19,
      "outputs": [
        {
          "output_type": "execute_result",
          "data": {
            "text/plain": [
              "tensor([[1., 1., 1., 1.],\n",
              "        [1., 1., 1., 1.],\n",
              "        [1., 1., 1., 1.],\n",
              "        [1., 1., 1., 1.]])"
            ]
          },
          "metadata": {},
          "execution_count": 19
        }
      ]
    },
    {
      "cell_type": "code",
      "source": [
        "h.reshape(2,2,2,2) #2 blocks, each consisting 2 tensors, each tensor is of size 2x2"
      ],
      "metadata": {
        "colab": {
          "base_uri": "https://localhost:8080/"
        },
        "id": "-UcrUHiVw2Eb",
        "outputId": "cbec7a86-d802-433a-a531-28d1e2f6633f"
      },
      "execution_count": 20,
      "outputs": [
        {
          "output_type": "execute_result",
          "data": {
            "text/plain": [
              "tensor([[[[1., 1.],\n",
              "          [1., 1.]],\n",
              "\n",
              "         [[1., 1.],\n",
              "          [1., 1.]]],\n",
              "\n",
              "\n",
              "        [[[1., 1.],\n",
              "          [1., 1.]],\n",
              "\n",
              "         [[1., 1.],\n",
              "          [1., 1.]]]])"
            ]
          },
          "metadata": {},
          "execution_count": 20
        }
      ]
    },
    {
      "cell_type": "markdown",
      "source": [
        "#Rele for reshaping: Product of original dimensions should be equal to product of reshaped.\n",
        "*Here original size is 4x4, product is 16,\n",
        "reshaped is 2x2x2x2, product is 16....Matched !!*"
      ],
      "metadata": {
        "id": "LweIbaGGxhFg"
      }
    },
    {
      "cell_type": "code",
      "source": [
        "#flatten\n",
        "torch.flatten(h)"
      ],
      "metadata": {
        "colab": {
          "base_uri": "https://localhost:8080/"
        },
        "id": "-7kN5mx_xXaa",
        "outputId": "cb6c59a1-bbf9-4b17-b78d-7cccdbef0ae2"
      },
      "execution_count": 21,
      "outputs": [
        {
          "output_type": "execute_result",
          "data": {
            "text/plain": [
              "tensor([1., 1., 1., 1., 1., 1., 1., 1., 1., 1., 1., 1., 1., 1., 1., 1.])"
            ]
          },
          "metadata": {},
          "execution_count": 21
        }
      ]
    },
    {
      "cell_type": "code",
      "source": [
        "j = torch.randint(size = (2,3,4), low = 10, high = 100, dtype = torch.float32)\n",
        "j"
      ],
      "metadata": {
        "colab": {
          "base_uri": "https://localhost:8080/"
        },
        "id": "0H5LGGLNy7YG",
        "outputId": "808fad40-d52b-44b9-edf6-850c61e215e2"
      },
      "execution_count": 25,
      "outputs": [
        {
          "output_type": "execute_result",
          "data": {
            "text/plain": [
              "tensor([[[28., 81., 97., 38.],\n",
              "         [73., 98., 74., 23.],\n",
              "         [43., 24., 34., 10.]],\n",
              "\n",
              "        [[82., 74., 65., 57.],\n",
              "         [70., 71., 19., 85.],\n",
              "         [93., 22., 19., 93.]]])"
            ]
          },
          "metadata": {},
          "execution_count": 25
        }
      ]
    },
    {
      "cell_type": "code",
      "source": [
        "torch.permute(j, dims=(2,1,0)).shape\n",
        "\n",
        "#(2,3,4) shape became (4,3,2) shape"
      ],
      "metadata": {
        "colab": {
          "base_uri": "https://localhost:8080/"
        },
        "id": "yPP_4X8Lzg2L",
        "outputId": "1587a801-86d0-41de-9643-bfa72047441e"
      },
      "execution_count": 27,
      "outputs": [
        {
          "output_type": "execute_result",
          "data": {
            "text/plain": [
              "torch.Size([4, 3, 2])"
            ]
          },
          "metadata": {},
          "execution_count": 27
        }
      ]
    },
    {
      "cell_type": "code",
      "source": [
        "#Squeze and Unsqueeze\n",
        "#Unsqueeze adds an extra dimension\n",
        "c = torch.rand(226,226,3) #Typical dimension of an image while using a CNN\n",
        "\n",
        "torch.unsqueeze(c, 1).shape #Adds an extra dimension at Position 1\n",
        "torch.unsqueeze(c, 0).shape #Adds an extra dimension at position 0..We have to specify the position\n",
        "torch.unsqueeze(c, 2).shape #Adds an extra dimension at position 2\n",
        "torch.unsqueeze(c, 3).shape #Adds an extra dimension at position 3\n",
        "\n",
        "#Unsqueeze is useful we want to perform batch processing"
      ],
      "metadata": {
        "colab": {
          "base_uri": "https://localhost:8080/"
        },
        "id": "oMUto7Vh0Rjs",
        "outputId": "e128f68c-52b0-4b08-fb2a-feee764bc6c7"
      },
      "execution_count": 35,
      "outputs": [
        {
          "output_type": "execute_result",
          "data": {
            "text/plain": [
              "torch.Size([226, 226, 3, 1])"
            ]
          },
          "metadata": {},
          "execution_count": 35
        }
      ]
    },
    {
      "cell_type": "code",
      "source": [
        "#Squeeze\n",
        "#When we want to squeeze the tensor into lower dimensions, we use Squueze function\n",
        "c = torch.squeeze(c).shape"
      ],
      "metadata": {
        "id": "CFV50tTT24PL"
      },
      "execution_count": 41,
      "outputs": []
    },
    {
      "cell_type": "code",
      "source": [
        "x = torch.rand(1,20)\n",
        "x"
      ],
      "metadata": {
        "colab": {
          "base_uri": "https://localhost:8080/"
        },
        "id": "NgTNIg4K7UWD",
        "outputId": "73d6650c-88fc-4e10-95d8-83862081155b"
      },
      "execution_count": 51,
      "outputs": [
        {
          "output_type": "execute_result",
          "data": {
            "text/plain": [
              "tensor([[0.5673, 0.3689, 0.0748, 0.8244, 0.9635, 0.4867, 0.7644, 0.9947, 0.1281,\n",
              "         0.8149, 0.8489, 0.5453, 0.4170, 0.9597, 0.4995, 0.7887, 0.0743, 0.5815,\n",
              "         0.5637, 0.3016]])"
            ]
          },
          "metadata": {},
          "execution_count": 51
        }
      ]
    },
    {
      "cell_type": "code",
      "source": [
        "torch.squeeze(x).shape"
      ],
      "metadata": {
        "colab": {
          "base_uri": "https://localhost:8080/"
        },
        "id": "LHipmxKA7ngc",
        "outputId": "aaf65f87-14a2-44b2-b4d3-711f1f8667b8"
      },
      "execution_count": 53,
      "outputs": [
        {
          "output_type": "execute_result",
          "data": {
            "text/plain": [
              "torch.Size([20])"
            ]
          },
          "metadata": {},
          "execution_count": 53
        }
      ]
    },
    {
      "cell_type": "markdown",
      "source": [
        "#NumPy and PyTorch"
      ],
      "metadata": {
        "id": "NxXGFsUY8Ch9"
      }
    },
    {
      "cell_type": "code",
      "source": [
        "import numpy as np"
      ],
      "metadata": {
        "id": "gNOIBlan7-oK"
      },
      "execution_count": 54,
      "outputs": []
    },
    {
      "cell_type": "code",
      "source": [
        "a = torch.tensor([1,2,3])\n",
        "a"
      ],
      "metadata": {
        "colab": {
          "base_uri": "https://localhost:8080/"
        },
        "id": "djVvy8yP8ICR",
        "outputId": "d3a7bd76-15d6-42d7-e5f2-6e8f6a223edd"
      },
      "execution_count": 56,
      "outputs": [
        {
          "output_type": "execute_result",
          "data": {
            "text/plain": [
              "tensor([1, 2, 3])"
            ]
          },
          "metadata": {},
          "execution_count": 56
        }
      ]
    },
    {
      "cell_type": "code",
      "source": [
        "#Our task is to convert the tensor into NumPy array\n",
        "b = a.numpy()"
      ],
      "metadata": {
        "id": "6431XG6s8OiF"
      },
      "execution_count": 57,
      "outputs": []
    },
    {
      "cell_type": "code",
      "source": [
        "type(b)"
      ],
      "metadata": {
        "colab": {
          "base_uri": "https://localhost:8080/"
        },
        "id": "Gjlqp85L8apU",
        "outputId": "61d380de-dc94-44d7-ccaf-fb96c2130c7e"
      },
      "execution_count": 58,
      "outputs": [
        {
          "output_type": "execute_result",
          "data": {
            "text/plain": [
              "numpy.ndarray"
            ]
          },
          "metadata": {},
          "execution_count": 58
        }
      ]
    },
    {
      "cell_type": "code",
      "source": [
        "c = np.array([1,2,3,4,5])\n",
        "c"
      ],
      "metadata": {
        "colab": {
          "base_uri": "https://localhost:8080/"
        },
        "id": "fCwLOIMJ8dRb",
        "outputId": "64dfd83e-4fb1-4083-839c-0cfcffd16c87"
      },
      "execution_count": 59,
      "outputs": [
        {
          "output_type": "execute_result",
          "data": {
            "text/plain": [
              "array([1, 2, 3, 4, 5])"
            ]
          },
          "metadata": {},
          "execution_count": 59
        }
      ]
    },
    {
      "cell_type": "code",
      "source": [
        "torch.from_numpy(c)"
      ],
      "metadata": {
        "colab": {
          "base_uri": "https://localhost:8080/"
        },
        "id": "1vUnv3kG8nVh",
        "outputId": "0c4c4d1d-0563-4d77-c62c-08ccd2c1ac62"
      },
      "execution_count": 60,
      "outputs": [
        {
          "output_type": "execute_result",
          "data": {
            "text/plain": [
              "tensor([1, 2, 3, 4, 5])"
            ]
          },
          "metadata": {},
          "execution_count": 60
        }
      ]
    },
    {
      "cell_type": "markdown",
      "source": [
        "*numpy() and from_numpy() are 2 functions to convert tensor into numpy array and numpy array into tensor respectively*"
      ],
      "metadata": {
        "id": "aJSrApMY8wOf"
      }
    },
    {
      "cell_type": "code",
      "source": [],
      "metadata": {
        "id": "wamPHaD09C2-"
      },
      "execution_count": null,
      "outputs": []
    }
  ]
}