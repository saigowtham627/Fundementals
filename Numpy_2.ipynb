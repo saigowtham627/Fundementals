{
  "cells": [
    {
      "cell_type": "markdown",
      "metadata": {
        "id": "view-in-github",
        "colab_type": "text"
      },
      "source": [
        "<a href=\"https://colab.research.google.com/github/saigowtham627/Fundementals/blob/main/Numpy_2.ipynb\" target=\"_parent\"><img src=\"https://colab.research.google.com/assets/colab-badge.svg\" alt=\"Open In Colab\"/></a>"
      ]
    },
    {
      "cell_type": "markdown",
      "metadata": {
        "id": "3iiXhThamx8k"
      },
      "source": [
        "**Numpy vs Python Lists**"
      ]
    },
    {
      "cell_type": "code",
      "source": [
        "import numpy as np"
      ],
      "metadata": {
        "id": "q2Dc1N05oxZA"
      },
      "execution_count": null,
      "outputs": []
    },
    {
      "cell_type": "code",
      "execution_count": null,
      "metadata": {
        "colab": {
          "base_uri": "https://localhost:8080/"
        },
        "id": "yU3ZZUJ5g4N4",
        "outputId": "adb49c5c-9174-46e2-9560-4ebc78f54089"
      },
      "outputs": [
        {
          "output_type": "stream",
          "name": "stdout",
          "text": [
            "Total time taken: 1.840576171875\n"
          ]
        }
      ],
      "source": [
        "import time\n",
        "\n",
        "#Speed\n",
        "#Creating 2 lists a and b\n",
        "a = [i for i in range(0,10000000)] #Numbers from 0 to 1 crore\n",
        "b = [i for i in range(10000000,20000000)]\n",
        "\n",
        "c = [] #Creating an empty list, to store the sum of elements in the list\n",
        "\n",
        "start = time.time() #Capturing time at the start of operation\n",
        "\n",
        "for i in range(len(a)):\n",
        "  c.append(a[i]+b[i])\n",
        "\n",
        "stop = time.time() #Measuring time at end of operation\n",
        "\n",
        "print(\"Total time taken:\",stop-start)"
      ]
    },
    {
      "cell_type": "code",
      "source": [
        "s = [1,2,3,]\n",
        "t = [9,0,2]\n",
        "\n",
        "print(s+t) #This performs list addition, but not element wise addition"
      ],
      "metadata": {
        "colab": {
          "base_uri": "https://localhost:8080/"
        },
        "id": "laDMwrShnlZE",
        "outputId": "4567391d-723f-42f4-a6dc-1586a5137589"
      },
      "execution_count": null,
      "outputs": [
        {
          "output_type": "stream",
          "name": "stdout",
          "text": [
            "[1, 2, 3, 9, 0, 2]\n"
          ]
        }
      ]
    },
    {
      "cell_type": "code",
      "source": [
        "#Checking the speed by using Numpy array\n",
        "a = np.arange(0,10000000)\n",
        "b = np.arange(10000000,20000000)\n",
        "\n",
        "start = time.time()\n",
        "c = a + b #In numpy array we dont have to perform the loop, here automatic addition happens\n",
        "stop = time.time()\n",
        "\n",
        "print(\"Time taken:\",stop-start)\n"
      ],
      "metadata": {
        "colab": {
          "base_uri": "https://localhost:8080/"
        },
        "id": "86CDURF1oovN",
        "outputId": "1aa0d1f0-fe5d-4178-912c-d10f16ba2a7d"
      },
      "execution_count": null,
      "outputs": [
        {
          "output_type": "stream",
          "name": "stdout",
          "text": [
            "Time taken: 0.020111560821533203\n"
          ]
        }
      ]
    },
    {
      "cell_type": "code",
      "source": [
        "#Calculating the speed up\n",
        "1.840576171875 / 0.020111560821533203 #91 times spped up"
      ],
      "metadata": {
        "colab": {
          "base_uri": "https://localhost:8080/"
        },
        "id": "JemMKqjqpalG",
        "outputId": "4c9e393b-9d3b-439d-b146-85602c4f4cb2"
      },
      "execution_count": null,
      "outputs": [
        {
          "output_type": "execute_result",
          "data": {
            "text/plain": [
              "91.51831566967779"
            ]
          },
          "metadata": {},
          "execution_count": 13
        }
      ]
    },
    {
      "cell_type": "markdown",
      "source": [
        "**Reason for the speed up**\n",
        "\n",
        "Numpy uses C type array which is :\n",
        ">A static array, its size does not change\n",
        "\n",
        ">It is a NOT a referential array, We store the actual value instead of its address\n",
        "\n",
        "Problem with the Python Lists:\n",
        "\n",
        ">It is dynamic in nature, its size changes everytime after a new element adds in it and this creates an overhead\n",
        "\n",
        ">Its is a referential array, here we store the address of the result."
      ],
      "metadata": {
        "id": "K3Jwlr1Fpr-m"
      }
    },
    {
      "cell_type": "code",
      "source": [
        "#Memory\n",
        "import sys\n",
        "\n",
        "a = [i for i in range(0,10000000)] #Python list\n",
        "\n",
        "#By using sys we can measure the size of any variable/data type\n",
        "\n",
        "sys.getsizeof(a) #In BYTES\n"
      ],
      "metadata": {
        "colab": {
          "base_uri": "https://localhost:8080/"
        },
        "id": "_xqY_1FOrADZ",
        "outputId": "cfba6e7c-2eb2-4d2d-da94-c2ff775ff406"
      },
      "execution_count": null,
      "outputs": [
        {
          "output_type": "execute_result",
          "data": {
            "text/plain": [
              "89095160"
            ]
          },
          "metadata": {},
          "execution_count": 16
        }
      ]
    },
    {
      "cell_type": "code",
      "source": [
        "#Using numpy array\n",
        "b = np.arange(0,10000000, dtype=np.int32) #By specifying the integer type, we can control the space occupied\n",
        "\n",
        "sys.getsizeof(b)\n",
        "\n",
        "b[-1] #Minimum of int32 should be there to store the numbers upto 1 crore\n"
      ],
      "metadata": {
        "colab": {
          "base_uri": "https://localhost:8080/"
        },
        "id": "jnzCDnaUsXSb",
        "outputId": "680b7abc-ec3f-4fa9-8043-72d0bc923283"
      },
      "execution_count": null,
      "outputs": [
        {
          "output_type": "execute_result",
          "data": {
            "text/plain": [
              "9999999"
            ]
          },
          "metadata": {},
          "execution_count": 29
        }
      ]
    },
    {
      "cell_type": "markdown",
      "source": [
        "**One advantage of python list, over numpy array is, List can store non homogenous data types**"
      ],
      "metadata": {
        "id": "hRd9Tko5uF2F"
      }
    },
    {
      "cell_type": "markdown",
      "source": [
        "#Advanced Indexing"
      ],
      "metadata": {
        "id": "Uyns0U4ByAR6"
      }
    },
    {
      "cell_type": "code",
      "source": [
        "a = np.arange(12).reshape(4,3)\n",
        "a"
      ],
      "metadata": {
        "colab": {
          "base_uri": "https://localhost:8080/"
        },
        "id": "KKK82tQts8oZ",
        "outputId": "7ba2cab4-96b9-4a78-fc87-5a96dd3c7d9b"
      },
      "execution_count": null,
      "outputs": [
        {
          "output_type": "execute_result",
          "data": {
            "text/plain": [
              "array([[ 0,  1,  2],\n",
              "       [ 3,  4,  5],\n",
              "       [ 6,  7,  8],\n",
              "       [ 9, 10, 11]])"
            ]
          },
          "metadata": {},
          "execution_count": 36
        }
      ]
    },
    {
      "cell_type": "code",
      "source": [
        "#fetching 5\n",
        "a[1,1]"
      ],
      "metadata": {
        "colab": {
          "base_uri": "https://localhost:8080/"
        },
        "id": "GuUN4SIgyORO",
        "outputId": "c6206da1-36dc-4dc4-8545-8d3fb5da3d2d"
      },
      "execution_count": null,
      "outputs": [
        {
          "output_type": "execute_result",
          "data": {
            "text/plain": [
              "5"
            ]
          },
          "metadata": {},
          "execution_count": 32
        }
      ]
    },
    {
      "cell_type": "code",
      "source": [
        "#Fetching 5,6,9,10\n",
        "a[1:3,1:3]"
      ],
      "metadata": {
        "colab": {
          "base_uri": "https://localhost:8080/"
        },
        "id": "Bl4vtADHyTyL",
        "outputId": "5dcb3495-6344-409f-d2fc-3536e3663c51"
      },
      "execution_count": null,
      "outputs": [
        {
          "output_type": "execute_result",
          "data": {
            "text/plain": [
              "array([[ 5,  6],\n",
              "       [ 9, 10]])"
            ]
          },
          "metadata": {},
          "execution_count": 34
        }
      ]
    },
    {
      "cell_type": "code",
      "source": [
        "#Fancy Indexing\n",
        "#EX:Fetch rows of 1,3 and 4(We dont have any pattern here)\n",
        "#When we are not able to form any patternns, we can do Fancy Indexing\n",
        "a[[0,2,3]]"
      ],
      "metadata": {
        "colab": {
          "base_uri": "https://localhost:8080/"
        },
        "id": "m56_ezj3yivD",
        "outputId": "41034597-6baa-485f-d2c3-46a5017651ac"
      },
      "execution_count": null,
      "outputs": [
        {
          "output_type": "execute_result",
          "data": {
            "text/plain": [
              "array([[ 0,  1,  2],\n",
              "       [ 6,  7,  8],\n",
              "       [ 9, 10, 11]])"
            ]
          },
          "metadata": {},
          "execution_count": 37
        }
      ]
    },
    {
      "cell_type": "code",
      "source": [
        "b = np.arange(24).reshape(6,4)\n",
        "b"
      ],
      "metadata": {
        "colab": {
          "base_uri": "https://localhost:8080/"
        },
        "id": "LZN4_dKSyjZR",
        "outputId": "f35cc486-6219-46b1-ba81-92a9da1865e2"
      },
      "execution_count": null,
      "outputs": [
        {
          "output_type": "execute_result",
          "data": {
            "text/plain": [
              "array([[ 0,  1,  2,  3],\n",
              "       [ 4,  5,  6,  7],\n",
              "       [ 8,  9, 10, 11],\n",
              "       [12, 13, 14, 15],\n",
              "       [16, 17, 18, 19],\n",
              "       [20, 21, 22, 23]])"
            ]
          },
          "metadata": {},
          "execution_count": 39
        }
      ]
    },
    {
      "cell_type": "code",
      "source": [
        "#fetch 1st, 3rd,4th and 6th rows\n",
        "b[[0,2,3,5],:]"
      ],
      "metadata": {
        "colab": {
          "base_uri": "https://localhost:8080/"
        },
        "id": "aNFr9wckyjcB",
        "outputId": "ca14e34f-ccc1-4b64-a44d-ca01decae02d"
      },
      "execution_count": null,
      "outputs": [
        {
          "output_type": "execute_result",
          "data": {
            "text/plain": [
              "array([[ 0,  1,  2,  3],\n",
              "       [ 8,  9, 10, 11],\n",
              "       [12, 13, 14, 15],\n",
              "       [20, 21, 22, 23]])"
            ]
          },
          "metadata": {},
          "execution_count": 41
        }
      ]
    },
    {
      "cell_type": "code",
      "source": [
        "#Fetch 0th,2nd and 3rd column\n",
        "b[:,[0,2,3]]"
      ],
      "metadata": {
        "colab": {
          "base_uri": "https://localhost:8080/"
        },
        "id": "QPUr0DrRyjei",
        "outputId": "620ee894-8a06-4359-ad3b-665af6d91172"
      },
      "execution_count": null,
      "outputs": [
        {
          "output_type": "execute_result",
          "data": {
            "text/plain": [
              "array([[ 0,  2,  3],\n",
              "       [ 4,  6,  7],\n",
              "       [ 8, 10, 11],\n",
              "       [12, 14, 15],\n",
              "       [16, 18, 19],\n",
              "       [20, 22, 23]])"
            ]
          },
          "metadata": {},
          "execution_count": 43
        }
      ]
    },
    {
      "cell_type": "code",
      "source": [
        "#Boolean Indexing\n",
        "c = np.random.randint(1,100,24).reshape(6,4) #We need 24 numbers from 1 to 100.\n",
        "print(c)"
      ],
      "metadata": {
        "colab": {
          "base_uri": "https://localhost:8080/"
        },
        "id": "6y9nkceNz2hr",
        "outputId": "9431f6fb-0c34-43d7-a401-9dbe2f77f2fc"
      },
      "execution_count": null,
      "outputs": [
        {
          "output_type": "stream",
          "name": "stdout",
          "text": [
            "[[ 6 69 45 99]\n",
            " [92 93 23 71]\n",
            " [ 1 34 26 13]\n",
            " [25 37 45 24]\n",
            " [11 44 28 87]\n",
            " [79 70 73 27]]\n"
          ]
        }
      ]
    },
    {
      "cell_type": "code",
      "source": [
        "#Find all numbers greater than 50\n",
        "c > 50 #Generates a boolean array\n",
        "\n",
        "\"\"\"And the best part is that, we can use the mask produced and apepnd it on the array\n",
        "  and generate those numbers only\"\"\"\n",
        "\n",
        "c[c>50]"
      ],
      "metadata": {
        "colab": {
          "base_uri": "https://localhost:8080/"
        },
        "id": "8gJ9MrfOyjhK",
        "outputId": "8fe528b9-7420-499a-f04a-051024ba0995"
      },
      "execution_count": null,
      "outputs": [
        {
          "output_type": "execute_result",
          "data": {
            "text/plain": [
              "array([69, 99, 92, 93, 71, 87, 79, 70, 73])"
            ]
          },
          "metadata": {},
          "execution_count": 53
        }
      ]
    },
    {
      "cell_type": "code",
      "source": [
        "#Find out even numbers\n",
        "c[c%2==0]"
      ],
      "metadata": {
        "colab": {
          "base_uri": "https://localhost:8080/"
        },
        "id": "6jTNnu_0yjj4",
        "outputId": "48962f31-a278-4569-86f6-51159e750e8d"
      },
      "execution_count": null,
      "outputs": [
        {
          "output_type": "execute_result",
          "data": {
            "text/plain": [
              "array([ 6, 92, 34, 26, 24, 44, 28, 70])"
            ]
          },
          "metadata": {},
          "execution_count": 54
        }
      ]
    },
    {
      "cell_type": "code",
      "source": [
        "#Find all the numbers which are greater than 50 and are also even\n",
        "#First write the logic, Generate the mask and then place it on the array\n",
        "\n",
        "#If 2 or more values are used, each of them must be placed in ()\n",
        "\n",
        "\"\"\"AND is logical \"AND\" but here we have to use Bitwise operators so we have to use &\"\"\"\n",
        "\n",
        "c[(c > 50) & (c%2==0)] #We must use symbol and &, but not and as a word\n",
        "\n"
      ],
      "metadata": {
        "colab": {
          "base_uri": "https://localhost:8080/"
        },
        "id": "8j8jEblkyjmm",
        "outputId": "c5c5ab11-f92a-49d8-bb7b-61d951b3beec"
      },
      "execution_count": null,
      "outputs": [
        {
          "output_type": "execute_result",
          "data": {
            "text/plain": [
              "array([92, 70])"
            ]
          },
          "metadata": {},
          "execution_count": 63
        }
      ]
    },
    {
      "cell_type": "code",
      "source": [
        "#Find the numbers which are divisible by 7\n",
        "c[c%7!=0]\n",
        "\n",
        "\"\"\"OR\"\"\"\n",
        "\n",
        "c[~(c%7==0)]"
      ],
      "metadata": {
        "colab": {
          "base_uri": "https://localhost:8080/"
        },
        "id": "QPfZghkWyjpM",
        "outputId": "2b2da4fc-f6d1-47ac-8911-b99cff99f148"
      },
      "execution_count": null,
      "outputs": [
        {
          "output_type": "execute_result",
          "data": {
            "text/plain": [
              "array([ 6, 69, 45, 99, 92, 93, 23, 71,  1, 34, 26, 13, 25, 37, 45, 24, 11,\n",
              "       44, 87, 79, 73, 27])"
            ]
          },
          "metadata": {},
          "execution_count": 68
        }
      ]
    },
    {
      "cell_type": "markdown",
      "source": [
        "#Broadcasting"
      ],
      "metadata": {
        "id": "Ri1MLur65lbW"
      }
    },
    {
      "cell_type": "markdown",
      "source": [
        "**The term broadcasting describes how Numpy treats arrays with different shapes during arthematic operations**\n",
        "\n",
        "**The smaller array is \"BROADCASTED\" across the larger array so that they have compatible shapes**"
      ],
      "metadata": {
        "id": "xOIAXXgZBaG5"
      }
    },
    {
      "cell_type": "code",
      "source": [
        "a = np.arange(0,6).reshape(2,3)\n",
        "b = np.arange(6,12).reshape(2,3)\n",
        "\n",
        "print(a)\n",
        "print(\"xxxxxxxxxx\")\n",
        "print(b)\n",
        "print(\"xxxxxxxxxx\")\n",
        "print(a+b)\n",
        "#Element wise addition operation between 2 arrays"
      ],
      "metadata": {
        "colab": {
          "base_uri": "https://localhost:8080/"
        },
        "id": "PPlM-Gz7yjrY",
        "outputId": "6d14a2b2-a27c-4f2e-ffaa-ad67c11d3f37"
      },
      "execution_count": null,
      "outputs": [
        {
          "output_type": "stream",
          "name": "stdout",
          "text": [
            "[[0 1 2]\n",
            " [3 4 5]]\n",
            "xxxxxxxxxx\n",
            "[[ 6  7  8]\n",
            " [ 9 10 11]]\n",
            "xxxxxxxxxx\n",
            "[[ 6  8 10]\n",
            " [12 14 16]]\n"
          ]
        }
      ]
    },
    {
      "cell_type": "code",
      "source": [
        "a = np.arange(0,6).reshape(2,3)\n",
        "b = np.arange(3).reshape(1,3)\n",
        "\n",
        "print(a)\n",
        "print(\"xxxxxxxxxx\")\n",
        "print(b)\n",
        "print(\"xxxxxxxxxx\")\n",
        "print(a+b)\n",
        "\n",
        "#[0 1 2] being a row vector is added to each row of the matrix b"
      ],
      "metadata": {
        "colab": {
          "base_uri": "https://localhost:8080/"
        },
        "id": "3TltR8otyju0",
        "outputId": "7df65420-43e1-4cdd-85cf-7e417c983c05"
      },
      "execution_count": null,
      "outputs": [
        {
          "output_type": "stream",
          "name": "stdout",
          "text": [
            "[[0 1 2]\n",
            " [3 4 5]]\n",
            "xxxxxxxxxx\n",
            "[[0 1 2]]\n",
            "xxxxxxxxxx\n",
            "[[0 2 4]\n",
            " [3 5 7]]\n"
          ]
        }
      ]
    },
    {
      "cell_type": "markdown",
      "source": [
        "#Broadcasting rules\n",
        "\n",
        "**Rule 1:Make the array to have the same number of dimensions.**\n",
        "\n",
        ">If the NUMBER OF DIMENSIONS of 2 arrays are different, add new dimensions with size 1 to the head of the array with the smaller dimension.\n",
        "\n",
        "Ex: Let there be 2 vectors of size (2,3) and (3). Now we should add 1 to the head of (3), which becomes (1,3)\n",
        "\n",
        "**Rule 2: Make each dimension of the 2 arrays the same size**\n",
        ">If the sizes of each dimension of the 2 arrays do not match, dimensions with size 1 are streched to the size of the other array.\n",
        "\n",
        ">If there is a dimension whose size is not 1 in either of the 2 arrays, it cannot be broadcasted, and an error is raised.\n"
      ],
      "metadata": {
        "id": "_8iFH4yWDdUi"
      }
    },
    {
      "cell_type": "code",
      "source": [
        "a = np.arange(0,12).reshape(4,3)\n",
        "b = np.arange(3)\n",
        "\n",
        "print(a)\n",
        "print(\"xxxxxxxxxx\")\n",
        "print(b)\n",
        "print(\"xxxxxxxxxx\")\n",
        "print(a+b)"
      ],
      "metadata": {
        "colab": {
          "base_uri": "https://localhost:8080/"
        },
        "id": "-j_O12mQDELq",
        "outputId": "c80c2eb8-b96a-4a11-a499-58a446d7ac9b"
      },
      "execution_count": null,
      "outputs": [
        {
          "output_type": "stream",
          "name": "stdout",
          "text": [
            "[[ 0  1  2]\n",
            " [ 3  4  5]\n",
            " [ 6  7  8]\n",
            " [ 9 10 11]]\n",
            "xxxxxxxxxx\n",
            "[0 1 2]\n",
            "xxxxxxxxxx\n",
            "[[ 0  2  4]\n",
            " [ 3  5  7]\n",
            " [ 6  8 10]\n",
            " [ 9 11 13]]\n"
          ]
        }
      ]
    },
    {
      "cell_type": "code",
      "source": [
        "a = np.arange(0,12).reshape(3,4)\n",
        "b = np.arange(3)\n",
        "\n",
        "print(a)\n",
        "print(\"xxxxxxxxxx\")\n",
        "print(b)\n",
        "print(\"xxxxxxxxxx\")\n",
        "print(a+b)"
      ],
      "metadata": {
        "colab": {
          "base_uri": "https://localhost:8080/",
          "height": 280
        },
        "id": "bqyp7i-FJUXD",
        "outputId": "4de16f68-54fd-4c5c-d5f5-a0b8258bd42d"
      },
      "execution_count": null,
      "outputs": [
        {
          "output_type": "stream",
          "name": "stdout",
          "text": [
            "[[ 0  1  2  3]\n",
            " [ 4  5  6  7]\n",
            " [ 8  9 10 11]]\n",
            "xxxxxxxxxx\n",
            "[0 1 2]\n",
            "xxxxxxxxxx\n"
          ]
        },
        {
          "output_type": "error",
          "ename": "ValueError",
          "evalue": "operands could not be broadcast together with shapes (3,4) (3,) ",
          "traceback": [
            "\u001b[0;31m---------------------------------------------------------------------------\u001b[0m",
            "\u001b[0;31mValueError\u001b[0m                                Traceback (most recent call last)",
            "\u001b[0;32m<ipython-input-78-3ebe9d2744bc>\u001b[0m in \u001b[0;36m<cell line: 8>\u001b[0;34m()\u001b[0m\n\u001b[1;32m      6\u001b[0m \u001b[0mprint\u001b[0m\u001b[0;34m(\u001b[0m\u001b[0mb\u001b[0m\u001b[0;34m)\u001b[0m\u001b[0;34m\u001b[0m\u001b[0;34m\u001b[0m\u001b[0m\n\u001b[1;32m      7\u001b[0m \u001b[0mprint\u001b[0m\u001b[0;34m(\u001b[0m\u001b[0;34m\"xxxxxxxxxx\"\u001b[0m\u001b[0;34m)\u001b[0m\u001b[0;34m\u001b[0m\u001b[0;34m\u001b[0m\u001b[0m\n\u001b[0;32m----> 8\u001b[0;31m \u001b[0mprint\u001b[0m\u001b[0;34m(\u001b[0m\u001b[0ma\u001b[0m\u001b[0;34m+\u001b[0m\u001b[0mb\u001b[0m\u001b[0;34m)\u001b[0m\u001b[0;34m\u001b[0m\u001b[0;34m\u001b[0m\u001b[0m\n\u001b[0m",
            "\u001b[0;31mValueError\u001b[0m: operands could not be broadcast together with shapes (3,4) (3,) "
          ]
        }
      ]
    },
    {
      "cell_type": "code",
      "source": [
        "a = np.arange(3).reshape(1,3)\n",
        "b = np.arange(3).reshape(3,1)\n",
        "\n",
        "print(a)\n",
        "print(\"xxxxxxxxxx\")\n",
        "print(b)\n",
        "print(\"xxxxxxxxxx\")\n",
        "print(a+b)"
      ],
      "metadata": {
        "colab": {
          "base_uri": "https://localhost:8080/"
        },
        "id": "SO2fFbr2JZJV",
        "outputId": "14f4ac9d-bfdf-4fb9-c2ca-5c32e65456e1"
      },
      "execution_count": null,
      "outputs": [
        {
          "output_type": "stream",
          "name": "stdout",
          "text": [
            "[[0 1 2]]\n",
            "xxxxxxxxxx\n",
            "[[0]\n",
            " [1]\n",
            " [2]]\n",
            "xxxxxxxxxx\n",
            "[[0 1 2]\n",
            " [1 2 3]\n",
            " [2 3 4]]\n"
          ]
        }
      ]
    },
    {
      "cell_type": "code",
      "source": [
        "a = np.arange(3).reshape(1,3)\n",
        "b = np.arange(4).reshape(4,1)\n",
        "\n",
        "print(a)\n",
        "print(\"xxxxxxxxxx\")\n",
        "print(b)\n",
        "print(\"xxxxxxxxxx\")\n",
        "print(a+b)"
      ],
      "metadata": {
        "colab": {
          "base_uri": "https://localhost:8080/"
        },
        "id": "scEiKNFVKZ5F",
        "outputId": "f5391a46-4ae3-4cca-bd41-26b352821a55"
      },
      "execution_count": null,
      "outputs": [
        {
          "output_type": "stream",
          "name": "stdout",
          "text": [
            "[[0 1 2]]\n",
            "xxxxxxxxxx\n",
            "[[0]\n",
            " [1]\n",
            " [2]\n",
            " [3]]\n",
            "xxxxxxxxxx\n",
            "[[0 1 2]\n",
            " [1 2 3]\n",
            " [2 3 4]\n",
            " [3 4 5]]\n"
          ]
        }
      ]
    },
    {
      "cell_type": "code",
      "source": [
        "a = np.array([1])\n",
        "#Shape ->(1,1)\n",
        "b = np.arange(4).reshape(2,2)\n",
        "#Shape ->(2,2)\n",
        "\n",
        "print(a)\n",
        "print(\"xxxxxxxxxx\")\n",
        "print(b)\n",
        "print(\"xxxxxxxxxx\")\n",
        "print(a+b)"
      ],
      "metadata": {
        "colab": {
          "base_uri": "https://localhost:8080/"
        },
        "id": "z8uY3w3jLYNf",
        "outputId": "273daa7c-70b9-4d0d-9246-e8678f0ae914"
      },
      "execution_count": null,
      "outputs": [
        {
          "output_type": "stream",
          "name": "stdout",
          "text": [
            "[1]\n",
            "xxxxxxxxxx\n",
            "[[0 1]\n",
            " [2 3]]\n",
            "xxxxxxxxxx\n",
            "[[1 2]\n",
            " [3 4]]\n"
          ]
        }
      ]
    },
    {
      "cell_type": "code",
      "source": [
        "a = np.arange(12).reshape(3,4)\n",
        "b = np.arange(12).reshape(4,3)\n",
        "\n",
        "print(a)\n",
        "print(\"xxxxxxxxxx\")\n",
        "print(b)\n",
        "print(\"xxxxxxxxxx\")\n",
        "print(a+b)"
      ],
      "metadata": {
        "colab": {
          "base_uri": "https://localhost:8080/",
          "height": 332
        },
        "id": "9S_HigcDMYA2",
        "outputId": "1f5b5c15-6627-4c98-98db-a9e49f7b5e6b"
      },
      "execution_count": null,
      "outputs": [
        {
          "output_type": "stream",
          "name": "stdout",
          "text": [
            "[[ 0  1  2  3]\n",
            " [ 4  5  6  7]\n",
            " [ 8  9 10 11]]\n",
            "xxxxxxxxxx\n",
            "[[ 0  1  2]\n",
            " [ 3  4  5]\n",
            " [ 6  7  8]\n",
            " [ 9 10 11]]\n",
            "xxxxxxxxxx\n"
          ]
        },
        {
          "output_type": "error",
          "ename": "ValueError",
          "evalue": "operands could not be broadcast together with shapes (3,4) (4,3) ",
          "traceback": [
            "\u001b[0;31m---------------------------------------------------------------------------\u001b[0m",
            "\u001b[0;31mValueError\u001b[0m                                Traceback (most recent call last)",
            "\u001b[0;32m<ipython-input-85-16d83906af0d>\u001b[0m in \u001b[0;36m<cell line: 8>\u001b[0;34m()\u001b[0m\n\u001b[1;32m      6\u001b[0m \u001b[0mprint\u001b[0m\u001b[0;34m(\u001b[0m\u001b[0mb\u001b[0m\u001b[0;34m)\u001b[0m\u001b[0;34m\u001b[0m\u001b[0;34m\u001b[0m\u001b[0m\n\u001b[1;32m      7\u001b[0m \u001b[0mprint\u001b[0m\u001b[0;34m(\u001b[0m\u001b[0;34m\"xxxxxxxxxx\"\u001b[0m\u001b[0;34m)\u001b[0m\u001b[0;34m\u001b[0m\u001b[0;34m\u001b[0m\u001b[0m\n\u001b[0;32m----> 8\u001b[0;31m \u001b[0mprint\u001b[0m\u001b[0;34m(\u001b[0m\u001b[0ma\u001b[0m\u001b[0;34m+\u001b[0m\u001b[0mb\u001b[0m\u001b[0;34m)\u001b[0m\u001b[0;34m\u001b[0m\u001b[0;34m\u001b[0m\u001b[0m\n\u001b[0m",
            "\u001b[0;31mValueError\u001b[0m: operands could not be broadcast together with shapes (3,4) (4,3) "
          ]
        }
      ]
    },
    {
      "cell_type": "code",
      "source": [
        "a = np.arange(16).reshape(4,4)\n",
        "b = np.arange(4).reshape(2,2)\n",
        "\n",
        "print(a)\n",
        "print(\"xxxxxxxxxx\")\n",
        "print(b)\n",
        "print(\"xxxxxxxxxx\")\n",
        "print(a+b)"
      ],
      "metadata": {
        "colab": {
          "base_uri": "https://localhost:8080/",
          "height": 315
        },
        "id": "F1XcmAmLN99-",
        "outputId": "c2eea0aa-6d7f-4f17-afb8-dc3836ccd68f"
      },
      "execution_count": null,
      "outputs": [
        {
          "output_type": "stream",
          "name": "stdout",
          "text": [
            "[[ 0  1  2  3]\n",
            " [ 4  5  6  7]\n",
            " [ 8  9 10 11]\n",
            " [12 13 14 15]]\n",
            "xxxxxxxxxx\n",
            "[[0 1]\n",
            " [2 3]]\n",
            "xxxxxxxxxx\n"
          ]
        },
        {
          "output_type": "error",
          "ename": "ValueError",
          "evalue": "operands could not be broadcast together with shapes (4,4) (2,2) ",
          "traceback": [
            "\u001b[0;31m---------------------------------------------------------------------------\u001b[0m",
            "\u001b[0;31mValueError\u001b[0m                                Traceback (most recent call last)",
            "\u001b[0;32m<ipython-input-86-aa3442ab1362>\u001b[0m in \u001b[0;36m<cell line: 8>\u001b[0;34m()\u001b[0m\n\u001b[1;32m      6\u001b[0m \u001b[0mprint\u001b[0m\u001b[0;34m(\u001b[0m\u001b[0mb\u001b[0m\u001b[0;34m)\u001b[0m\u001b[0;34m\u001b[0m\u001b[0;34m\u001b[0m\u001b[0m\n\u001b[1;32m      7\u001b[0m \u001b[0mprint\u001b[0m\u001b[0;34m(\u001b[0m\u001b[0;34m\"xxxxxxxxxx\"\u001b[0m\u001b[0;34m)\u001b[0m\u001b[0;34m\u001b[0m\u001b[0;34m\u001b[0m\u001b[0m\n\u001b[0;32m----> 8\u001b[0;31m \u001b[0mprint\u001b[0m\u001b[0;34m(\u001b[0m\u001b[0ma\u001b[0m\u001b[0;34m+\u001b[0m\u001b[0mb\u001b[0m\u001b[0;34m)\u001b[0m\u001b[0;34m\u001b[0m\u001b[0;34m\u001b[0m\u001b[0m\n\u001b[0m",
            "\u001b[0;31mValueError\u001b[0m: operands could not be broadcast together with shapes (4,4) (2,2) "
          ]
        }
      ]
    },
    {
      "cell_type": "markdown",
      "source": [
        "#Working with mathematical formulas"
      ],
      "metadata": {
        "id": "MiMWKH3nOj1C"
      }
    },
    {
      "cell_type": "code",
      "source": [
        "a = np.arange(1,10)\n",
        "a"
      ],
      "metadata": {
        "colab": {
          "base_uri": "https://localhost:8080/"
        },
        "id": "gSlhyRJYOPcE",
        "outputId": "9752a1bd-dd71-43ff-c372-e9fd7b2dcd39"
      },
      "execution_count": null,
      "outputs": [
        {
          "output_type": "execute_result",
          "data": {
            "text/plain": [
              "array([1, 2, 3, 4, 5, 6, 7, 8, 9])"
            ]
          },
          "metadata": {},
          "execution_count": 92
        }
      ]
    },
    {
      "cell_type": "code",
      "source": [
        "np.sum(a)"
      ],
      "metadata": {
        "colab": {
          "base_uri": "https://localhost:8080/"
        },
        "id": "liyRc-qdPFso",
        "outputId": "c9a00133-c40f-4cfd-aaf1-41e65fe444fd"
      },
      "execution_count": null,
      "outputs": [
        {
          "output_type": "execute_result",
          "data": {
            "text/plain": [
              "45"
            ]
          },
          "metadata": {},
          "execution_count": 93
        }
      ]
    },
    {
      "cell_type": "code",
      "source": [
        "np.product(a)"
      ],
      "metadata": {
        "colab": {
          "base_uri": "https://localhost:8080/"
        },
        "id": "eY_nYnkVPIUC",
        "outputId": "a45606b7-df43-4e07-8fdb-4212ebb13534"
      },
      "execution_count": null,
      "outputs": [
        {
          "output_type": "execute_result",
          "data": {
            "text/plain": [
              "362880"
            ]
          },
          "metadata": {},
          "execution_count": 94
        }
      ]
    },
    {
      "cell_type": "code",
      "source": [
        "np.sin(a)"
      ],
      "metadata": {
        "colab": {
          "base_uri": "https://localhost:8080/"
        },
        "id": "ctrzAp0LPVNg",
        "outputId": "70d4ab60-c729-4bf9-89be-5ae502d8ebe7"
      },
      "execution_count": null,
      "outputs": [
        {
          "output_type": "execute_result",
          "data": {
            "text/plain": [
              "array([ 0.84147098,  0.90929743,  0.14112001, -0.7568025 , -0.95892427,\n",
              "       -0.2794155 ,  0.6569866 ,  0.98935825,  0.41211849])"
            ]
          },
          "metadata": {},
          "execution_count": 95
        }
      ]
    },
    {
      "cell_type": "code",
      "source": [
        "np.tanh(a)"
      ],
      "metadata": {
        "colab": {
          "base_uri": "https://localhost:8080/"
        },
        "id": "-QtV-k87PXXq",
        "outputId": "ba59077a-c070-4d15-d2b5-a6ee4678f494"
      },
      "execution_count": null,
      "outputs": [
        {
          "output_type": "execute_result",
          "data": {
            "text/plain": [
              "array([0.76159416, 0.96402758, 0.99505475, 0.9993293 , 0.9999092 ,\n",
              "       0.99998771, 0.99999834, 0.99999977, 0.99999997])"
            ]
          },
          "metadata": {},
          "execution_count": 96
        }
      ]
    },
    {
      "cell_type": "code",
      "source": [
        "#If the functions are not available in built-in numpy , we can define them and use them\n",
        "\n",
        "def sigmoid(array): #We have to pass an array\n",
        "  return 1/(1+np.exp(-(array)))\n",
        "\n",
        "a = np.arange(10)\n",
        "\n",
        "sigmoid(a)"
      ],
      "metadata": {
        "colab": {
          "base_uri": "https://localhost:8080/"
        },
        "id": "ggOAgBNKPawR",
        "outputId": "e30c9e88-7a3f-4788-99d9-46bd05d31bcc"
      },
      "execution_count": null,
      "outputs": [
        {
          "output_type": "execute_result",
          "data": {
            "text/plain": [
              "array([0.5       , 0.73105858, 0.88079708, 0.95257413, 0.98201379,\n",
              "       0.99330715, 0.99752738, 0.99908895, 0.99966465, 0.99987661])"
            ]
          },
          "metadata": {},
          "execution_count": 98
        }
      ]
    },
    {
      "cell_type": "code",
      "source": [
        "#Mean Square error\n",
        "#We need 2 arrays namely actual and Predicted\n",
        "\n",
        "actual_ = np.random.randint(1,50,25)\n",
        "predicted_ = np.random.randint(1,50,25)\n",
        "\n",
        "def mse(actual,predicted):\n",
        "  print(int((1/len(actual))*(np.sum((actual-predicted)**2))))\n",
        "\n",
        "mse(actual = actual_,predicted = predicted_)"
      ],
      "metadata": {
        "colab": {
          "base_uri": "https://localhost:8080/"
        },
        "id": "pNGzoHhYQq-S",
        "outputId": "c72f8979-d1e3-47fb-f78a-ed1a83c6de2d"
      },
      "execution_count": null,
      "outputs": [
        {
          "output_type": "stream",
          "name": "stdout",
          "text": [
            "339\n"
          ]
        }
      ]
    },
    {
      "cell_type": "code",
      "source": [
        "#Binary Cross Entropy\n",
        "actual_ = np.random.randint(0,2,25)\n",
        "predicted_ = np.random.randint(0,2,25)\n"
      ],
      "metadata": {
        "colab": {
          "base_uri": "https://localhost:8080/"
        },
        "id": "JgAuSjBsUqeV",
        "outputId": "9b3eeed6-41d5-450a-afea-0a3b8d743467"
      },
      "execution_count": null,
      "outputs": [
        {
          "output_type": "stream",
          "name": "stdout",
          "text": [
            "0\n"
          ]
        }
      ]
    },
    {
      "cell_type": "markdown",
      "source": [
        "#Working with missing values"
      ],
      "metadata": {
        "id": "Dbm02m5VV8l1"
      }
    },
    {
      "cell_type": "code",
      "source": [
        "a = np.array([1,2,3,4,np.nan,5,6])\n",
        "a"
      ],
      "metadata": {
        "colab": {
          "base_uri": "https://localhost:8080/"
        },
        "id": "nT0FMRKrV1yz",
        "outputId": "670ce4ba-43ae-429e-c4b4-ecb543e97869"
      },
      "execution_count": null,
      "outputs": [
        {
          "output_type": "execute_result",
          "data": {
            "text/plain": [
              "array([ 1.,  2.,  3.,  4., nan,  5.,  6.])"
            ]
          },
          "metadata": {},
          "execution_count": 155
        }
      ]
    },
    {
      "cell_type": "code",
      "source": [
        "#Get only the integer values\n",
        "np.isnan(a) #Generates a bool mask"
      ],
      "metadata": {
        "colab": {
          "base_uri": "https://localhost:8080/"
        },
        "id": "oXRWcECAX15J",
        "outputId": "0b6f6b77-80c5-4d5e-f794-ebd014a3d9c0"
      },
      "execution_count": null,
      "outputs": [
        {
          "output_type": "execute_result",
          "data": {
            "text/plain": [
              "array([False, False, False, False,  True, False, False])"
            ]
          },
          "metadata": {},
          "execution_count": 156
        }
      ]
    },
    {
      "cell_type": "code",
      "source": [
        "a[np.isnan(a)] #Gives nan values"
      ],
      "metadata": {
        "colab": {
          "base_uri": "https://localhost:8080/"
        },
        "id": "3DPYIUzxYTdW",
        "outputId": "b3c62ab2-5eac-46ea-a78d-abd8b9e64b7c"
      },
      "execution_count": null,
      "outputs": [
        {
          "output_type": "execute_result",
          "data": {
            "text/plain": [
              "array([nan])"
            ]
          },
          "metadata": {},
          "execution_count": 157
        }
      ]
    },
    {
      "cell_type": "code",
      "source": [
        "a[~(np.isnan(a))] #Gives all the not-null values"
      ],
      "metadata": {
        "colab": {
          "base_uri": "https://localhost:8080/"
        },
        "id": "tldhzbjsYZIu",
        "outputId": "b8c07326-9bde-4a9b-dd11-df27f4583a3b"
      },
      "execution_count": null,
      "outputs": [
        {
          "output_type": "execute_result",
          "data": {
            "text/plain": [
              "array([1., 2., 3., 4., 5., 6.])"
            ]
          },
          "metadata": {},
          "execution_count": 158
        }
      ]
    },
    {
      "cell_type": "markdown",
      "source": [
        "#Plotting graphs"
      ],
      "metadata": {
        "id": "8imeeVyZYuYQ"
      }
    },
    {
      "cell_type": "code",
      "source": [
        "import matplotlib.pyplot as plt"
      ],
      "metadata": {
        "id": "ul4S7OWGZWR_"
      },
      "execution_count": null,
      "outputs": []
    },
    {
      "cell_type": "code",
      "source": [
        "#x=y\n",
        "#Straight line through Origin\n",
        "#Generate values of x\n",
        "x = np.linspace(-10,10,100)\n",
        "y = x\n",
        "\n",
        "plt.plot(x,y) #x and y must be of same size"
      ],
      "metadata": {
        "colab": {
          "base_uri": "https://localhost:8080/",
          "height": 447
        },
        "id": "usENQRk9YktD",
        "outputId": "5993193a-5958-40cc-e2ea-e7e4e511b4b0"
      },
      "execution_count": null,
      "outputs": [
        {
          "output_type": "execute_result",
          "data": {
            "text/plain": [
              "[<matplotlib.lines.Line2D at 0x7e1984f94070>]"
            ]
          },
          "metadata": {},
          "execution_count": 162
        },
        {
          "output_type": "display_data",
          "data": {
            "text/plain": [
              "<Figure size 640x480 with 1 Axes>"
            ],
            "image/png": "[encoded data removed]"
          },
          "metadata": {}
        }
      ]
    },
    {
      "cell_type": "code",
      "source": [
        "def sigmoid(array): #We have to pass an array\n",
        "  return 1/(1+np.exp(-(array)))\n",
        "\n",
        "a = np.linspace(-10,10,100000)\n",
        "\n",
        "b = sigmoid(a)\n",
        "\n",
        "plt.plot(a,b)"
      ],
      "metadata": {
        "colab": {
          "base_uri": "https://localhost:8080/",
          "height": 447
        },
        "id": "e1Z3nvMiZlCZ",
        "outputId": "792387aa-3c46-4b51-f90a-97d07a013cec"
      },
      "execution_count": null,
      "outputs": [
        {
          "output_type": "execute_result",
          "data": {
            "text/plain": [
              "[<matplotlib.lines.Line2D at 0x7e1992c645b0>]"
            ]
          },
          "metadata": {},
          "execution_count": 170
        },
        {
          "output_type": "display_data",
          "data": {
            "text/plain": [
              "<Figure size 640x480 with 1 Axes>"
            ],
            "image/png": "[encoded data removed]"
          },
          "metadata": {}
        }
      ]
    },
    {
      "cell_type": "code",
      "source": [
        "#y = x^2, Parabola\n",
        "\n",
        "x = np.linspace(-10,10,500)\n",
        "y = x**2\n",
        "# print(x)\n",
        "# print(y)\n",
        "\n",
        "plt.plot(x,y)"
      ],
      "metadata": {
        "colab": {
          "base_uri": "https://localhost:8080/",
          "height": 447
        },
        "id": "PsAsUsk0aC5q",
        "outputId": "32e35987-3f6f-4a32-bf5e-683e97f94373"
      },
      "execution_count": null,
      "outputs": [
        {
          "output_type": "execute_result",
          "data": {
            "text/plain": [
              "[<matplotlib.lines.Line2D at 0x7e196be96680>]"
            ]
          },
          "metadata": {},
          "execution_count": 184
        },
        {
          "output_type": "display_data",
          "data": {
            "text/plain": [
              "<Figure size 640x480 with 1 Axes>"
            ],
            "image/png": "[encoded data removed]"
          },
          "metadata": {}
        }
      ]
    },
    {
      "cell_type": "code",
      "source": [
        "#y = sin(x)\n",
        "\n",
        "x = np.linspace(-100,100,10000)\n",
        "y = x*np.log(x)\n",
        "\n",
        "plt.plot(x,y)"
      ],
      "metadata": {
        "colab": {
          "base_uri": "https://localhost:8080/",
          "height": 502
        },
        "id": "gZ_LpXpXa178",
        "outputId": "8f3cf6c5-3adc-41cb-c32c-d3f48d603540"
      },
      "execution_count": null,
      "outputs": [
        {
          "output_type": "stream",
          "name": "stderr",
          "text": [
            "<ipython-input-202-942175a9c084>:4: RuntimeWarning: invalid value encountered in log\n",
            "  y = x*np.log(x)\n"
          ]
        },
        {
          "output_type": "execute_result",
          "data": {
            "text/plain": [
              "[<matplotlib.lines.Line2D at 0x7e194a4a84f0>]"
            ]
          },
          "metadata": {},
          "execution_count": 202
        },
        {
          "output_type": "display_data",
          "data": {
            "text/plain": [
              "<Figure size 640x480 with 1 Axes>"
            ],
            "image/png": "[encoded data removed]"
          },
          "metadata": {}
        }
      ]
    },
    {
      "cell_type": "code",
      "source": [],
      "metadata": {
        "id": "LEB0Y3ScbfP0"
      },
      "execution_count": null,
      "outputs": []
    }
  ],
  "metadata": {
    "colab": {
      "provenance": [],
      "authorship_tag": "ABX9TyMtoun1MwjPrH4+MlRjHA1B",
      "include_colab_link": true
    },
    "kernelspec": {
      "display_name": "Python 3",
      "name": "python3"
    },
    "language_info": {
      "name": "python"
    }
  },
  "nbformat": 4,
  "nbformat_minor": 0
}