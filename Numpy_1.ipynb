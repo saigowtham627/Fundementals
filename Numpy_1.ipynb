{
  "nbformat": 4,
  "nbformat_minor": 0,
  "metadata": {
    "colab": {
      "provenance": [],
      "authorship_tag": "ABX9TyN00bD+PHA59YY8N0Oq7CRL",
      "include_colab_link": true
    },
    "kernelspec": {
      "name": "python3",
      "display_name": "Python 3"
    },
    "language_info": {
      "name": "python"
    }
  },
  "cells": [
    {
      "cell_type": "markdown",
      "metadata": {
        "id": "view-in-github",
        "colab_type": "text"
      },
      "source": [
        "<a href=\"https://colab.research.google.com/github/saigowtham627/Fundementals/blob/main/Numpy_1.ipynb\" target=\"_parent\"><img src=\"https://colab.research.google.com/assets/colab-badge.svg\" alt=\"Open In Colab\"/></a>"
      ]
    },
    {
      "cell_type": "markdown",
      "source": [
        "*Numpy is the fundemental package for scientific computing using Python*\n",
        "\n",
        "*It is a python library that provides multi dimensional array object, various derived objects(Such as masked arrays and matrices), and an assortment of routines for fast operation on arrays, including mathematical, logical, shape manipulation, sorting, selecting, I/O, discrete fourier transforms, basic linear algebra, basic statical operations, random simulation and much more*\n",
        "\n",
        "*When coming to processing GB's of data, WKT python is slower than C lang. The data types of Python like List and Array are slow, So people has built Numpy library in C language and Python acts as a wrapper around it. This way Numpy is fast*\n",
        "\n",
        "\n",
        "**Numpy Arrays vs Python Sequences(Arrays, List)**\n",
        "\n",
        "*Numpy array have a fixed size creation, unlike Python lists(which can grow dynamically). Changing the size of the ndarray will create a new array and delete the original one*\n",
        "\n",
        "*Lists can store multiple data types, where as Numpy array can only store elements of same data type, and thus will be same size in Memory*\n",
        "\n",
        "*Numpy arrays facilitate advanced mathematical and other types of operations on large numbers of data. Typically, such operations are executed more efficinetly and with less code than is possible using Python's built in sequence*\n",
        "\n"
      ],
      "metadata": {
        "id": "GaWJt7811ZyI"
      }
    },
    {
      "cell_type": "code",
      "execution_count": null,
      "metadata": {
        "colab": {
          "base_uri": "https://localhost:8080/"
        },
        "id": "FobXew5E09IF",
        "outputId": "7c51e322-7b6a-42ae-ecde-668bb141c7db"
      },
      "outputs": [
        {
          "output_type": "stream",
          "name": "stdout",
          "text": [
            "[1 2 3]\n",
            "<class 'numpy.ndarray'>\n"
          ]
        }
      ],
      "source": [
        "import numpy as np\n",
        "#numpy arrays can be created using function called np.array\n",
        "a = np.array([1,2,3]) #np.array function needs a list to be provided\n",
        "print(a)\n",
        "\n",
        "#To know the type of array we use \"type\"\n",
        "print(type(a))"
      ]
    },
    {
      "cell_type": "code",
      "source": [
        "#For creating a 2-D numpy array, we have to pass a 2-D list\n",
        "b = np.array([[1, 2, 3],\n",
        "          [4, 5, 7]]) #Both the lists must be of same type\n",
        "\n",
        "print(b)\n",
        "\n",
        "print(type(b))"
      ],
      "metadata": {
        "colab": {
          "base_uri": "https://localhost:8080/"
        },
        "id": "oS2GCxny89ph",
        "outputId": "9e846885-0901-47f2-cf6d-ff38fbf9596a"
      },
      "execution_count": null,
      "outputs": [
        {
          "output_type": "stream",
          "name": "stdout",
          "text": [
            "[[1 2 3]\n",
            " [4 5 7]]\n",
            "<class 'numpy.ndarray'>\n"
          ]
        }
      ]
    },
    {
      "cell_type": "code",
      "source": [
        "#Creating a 3-d array with dimensions 1x3x3, which is 1 block, 3 rows and 3 columns\n",
        "c = np.array([[[1, 2, 3],\n",
        "           [4, 5, 6],\n",
        "           [9, 8, 7]]])\n",
        "\n",
        "print(c)\n",
        "\n",
        "print(type(c))"
      ],
      "metadata": {
        "colab": {
          "base_uri": "https://localhost:8080/"
        },
        "id": "2BN3c0Yk90wv",
        "outputId": "c6bdbf9b-b320-40f7-f627-212e276291bd"
      },
      "execution_count": null,
      "outputs": [
        {
          "output_type": "stream",
          "name": "stdout",
          "text": [
            "[[[1 2 3]\n",
            "  [4 5 6]\n",
            "  [9 8 7]]]\n",
            "<class 'numpy.ndarray'>\n"
          ]
        }
      ]
    },
    {
      "cell_type": "code",
      "source": [
        "#Creating an numpy array with dimension of 2x2x3\n",
        "d = np.array([[[1, 2, 3], [4, 5, 6]], #Block 1\n",
        "          [[7, 8, 9], [10, 11, 12]]])\n",
        "\n",
        "#Numbers of list will be always enclosed in Yellow Braces\n",
        "#The first [] (Purple colour) is denotes the start and end,\n",
        "#The second [](Blue colour) is the Block Differentiator\n",
        "#The third [](Yellow colour) is the list\n",
        "print(d)\n",
        "print(type(d))"
      ],
      "metadata": {
        "colab": {
          "base_uri": "https://localhost:8080/"
        },
        "id": "uP0Y1dWsAjhf",
        "outputId": "fb474a94-6318-4282-cb1f-7a546019ca79"
      },
      "execution_count": null,
      "outputs": [
        {
          "output_type": "stream",
          "name": "stdout",
          "text": [
            "[[[ 1  2  3]\n",
            "  [ 4  5  6]]\n",
            "\n",
            " [[ 7  8  9]\n",
            "  [10 11 12]]]\n",
            "<class 'numpy.ndarray'>\n"
          ]
        }
      ]
    },
    {
      "cell_type": "code",
      "source": [
        "#Create a numpy array with dimensions 3x3x3.\n",
        "#3 blocks, 3 rows and 3 columns\n",
        "\n",
        "e = np.array([[[1, 2, 3],\n",
        "           [4, 5, 6],\n",
        "           [7, 8, 9]],\n",
        "\n",
        "          [[10, 11, 12],\n",
        "           [13, 14, 15],\n",
        "           [16, 17, 18]],\n",
        "\n",
        "          [[91, 92, 93],\n",
        "           [94, 95, 96],\n",
        "           [80, 81, 82]]])\n",
        "\n",
        "print(e)\n",
        "print(type(e))"
      ],
      "metadata": {
        "colab": {
          "base_uri": "https://localhost:8080/"
        },
        "id": "AjBHf8KLCQkc",
        "outputId": "5c810efc-b525-42e8-b401-8abbbe3b48e4"
      },
      "execution_count": null,
      "outputs": [
        {
          "output_type": "stream",
          "name": "stdout",
          "text": [
            "[[[ 1  2  3]\n",
            "  [ 4  5  6]\n",
            "  [ 7  8  9]]\n",
            "\n",
            " [[10 11 12]\n",
            "  [13 14 15]\n",
            "  [16 17 18]]\n",
            "\n",
            " [[91 92 93]\n",
            "  [94 95 96]\n",
            "  [80 81 82]]]\n",
            "<class 'numpy.ndarray'>\n"
          ]
        }
      ]
    },
    {
      "cell_type": "code",
      "source": [
        "#dtype, we can also pass the data type of the array.\n",
        "np.array([1.90, 2, 3], dtype = float) #Treats the floating point number as integer"
      ],
      "metadata": {
        "colab": {
          "base_uri": "https://localhost:8080/"
        },
        "id": "9H1Jto-sFQC7",
        "outputId": "38f51dfa-73e4-4c75-faa4-fb626b6c92ed"
      },
      "execution_count": null,
      "outputs": [
        {
          "output_type": "execute_result",
          "data": {
            "text/plain": [
              "array([1.9, 2. , 3. ])"
            ]
          },
          "metadata": {},
          "execution_count": 34
        }
      ]
    },
    {
      "cell_type": "code",
      "source": [
        "#ARANGE not arrange\n",
        "f = np.arange(0, 10, 2) #0 is the start, 10 is end and 2 is the difference. End will not be counted in the list\n",
        "\n",
        "print(f)"
      ],
      "metadata": {
        "colab": {
          "base_uri": "https://localhost:8080/"
        },
        "id": "LoFpHerGHCaj",
        "outputId": "9de1a4ec-cf18-48b6-deb4-5f5d9653b718"
      },
      "execution_count": null,
      "outputs": [
        {
          "output_type": "stream",
          "name": "stdout",
          "text": [
            "[0 2 4 6 8]\n"
          ]
        }
      ]
    },
    {
      "cell_type": "code",
      "source": [
        "#Reshape, function turns a given numpy array into a desired shape\n",
        "np.arange(12).reshape(3,4) #No.of rows x No.of columns arguments passed to reshape must be equal to number of elements in the array"
      ],
      "metadata": {
        "colab": {
          "base_uri": "https://localhost:8080/"
        },
        "id": "d6-qeLscK1hA",
        "outputId": "81eeb554-4d06-468e-f01d-eb0105b60bf1"
      },
      "execution_count": null,
      "outputs": [
        {
          "output_type": "execute_result",
          "data": {
            "text/plain": [
              "array([[ 0,  1,  2,  3],\n",
              "       [ 4,  5,  6,  7],\n",
              "       [ 8,  9, 10, 11]])"
            ]
          },
          "metadata": {},
          "execution_count": 49
        }
      ]
    },
    {
      "cell_type": "code",
      "source": [
        "np.arange(12).reshape(2,3) #Throws an error because the number of elements are 12 and we can't fit them into 2 rows and 3 columns\n"
      ],
      "metadata": {
        "colab": {
          "base_uri": "https://localhost:8080/",
          "height": 141
        },
        "id": "32Sv60-uMXT7",
        "outputId": "98637c87-ba3e-4281-9d2a-987c21a5f4e6"
      },
      "execution_count": null,
      "outputs": [
        {
          "output_type": "error",
          "ename": "ValueError",
          "evalue": "cannot reshape array of size 12 into shape (2,3)",
          "traceback": [
            "\u001b[0;31m---------------------------------------------------------------------------\u001b[0m",
            "\u001b[0;31mValueError\u001b[0m                                Traceback (most recent call last)",
            "\u001b[0;32m<ipython-input-50-630f70ec2b26>\u001b[0m in \u001b[0;36m<cell line: 1>\u001b[0;34m()\u001b[0m\n\u001b[0;32m----> 1\u001b[0;31m \u001b[0mnp\u001b[0m\u001b[0;34m.\u001b[0m\u001b[0marange\u001b[0m\u001b[0;34m(\u001b[0m\u001b[0;36m12\u001b[0m\u001b[0;34m)\u001b[0m\u001b[0;34m.\u001b[0m\u001b[0mreshape\u001b[0m\u001b[0;34m(\u001b[0m\u001b[0;36m2\u001b[0m\u001b[0;34m,\u001b[0m\u001b[0;36m3\u001b[0m\u001b[0;34m)\u001b[0m\u001b[0;34m\u001b[0m\u001b[0;34m\u001b[0m\u001b[0m\n\u001b[0m",
            "\u001b[0;31mValueError\u001b[0m: cannot reshape array of size 12 into shape (2,3)"
          ]
        }
      ]
    },
    {
      "cell_type": "code",
      "source": [
        "#np.ones, Used to create numpy arrays with all ones in it.\n",
        "\"\"\"WE HAVE TO PROVIDE SHAPE OF THE ARRAY IN THE FORM OF A TUPLE\"\"\"\n",
        "\n",
        "np.ones((3,4), dtype=int)\n",
        "\n",
        "\"\"\"These are useful to initialize the weight matrix\"\"\""
      ],
      "metadata": {
        "colab": {
          "base_uri": "https://localhost:8080/"
        },
        "id": "2GyDy5fONTU_",
        "outputId": "bf1da229-74c7-4bf3-8112-227af6b1f9c8"
      },
      "execution_count": null,
      "outputs": [
        {
          "output_type": "execute_result",
          "data": {
            "text/plain": [
              "array([[1, 1, 1, 1],\n",
              "       [1, 1, 1, 1],\n",
              "       [1, 1, 1, 1]])"
            ]
          },
          "metadata": {},
          "execution_count": 60
        }
      ]
    },
    {
      "cell_type": "code",
      "source": [
        "#By using np.zeros we can initialize with zeros\n",
        "np.zeros((3,4), dtype = float)"
      ],
      "metadata": {
        "colab": {
          "base_uri": "https://localhost:8080/"
        },
        "id": "eYK1BVjTP6Ya",
        "outputId": "4563b42a-88b8-4c3c-fef9-4ca15a8bdc78"
      },
      "execution_count": null,
      "outputs": [
        {
          "output_type": "execute_result",
          "data": {
            "text/plain": [
              "array([[0., 0., 0., 0.],\n",
              "       [0., 0., 0., 0.],\n",
              "       [0., 0., 0., 0.]])"
            ]
          },
          "metadata": {},
          "execution_count": 64
        }
      ]
    },
    {
      "cell_type": "code",
      "source": [
        "#Same like Zeros and Ones, we can also initialize with np.random\n",
        "h = np.random.rand(3,4)\n",
        "print(h)\n",
        "\"\"\"Unlike in Zeros and Ones, we dont need to pass the dimension as tuple when we are using rand function\"\"\""
      ],
      "metadata": {
        "colab": {
          "base_uri": "https://localhost:8080/",
          "height": 105
        },
        "id": "W6CVmwP9QbUX",
        "outputId": "17a0dd23-9eb6-446f-b30c-71428de7c818"
      },
      "execution_count": null,
      "outputs": [
        {
          "output_type": "stream",
          "name": "stdout",
          "text": [
            "[[0.58771677 0.70157962 0.39590986 0.9207092 ]\n",
            " [0.80178339 0.5940395  0.57616664 0.04915651]\n",
            " [0.42423334 0.83927229 0.23689626 0.55320937]]\n"
          ]
        },
        {
          "output_type": "execute_result",
          "data": {
            "text/plain": [
              "'Unlike in Zeros and Ones, we dont need to pass the dimension as tuple when we are using rand function'"
            ],
            "application/vnd.google.colaboratory.intrinsic+json": {
              "type": "string"
            }
          },
          "metadata": {},
          "execution_count": 81
        }
      ]
    },
    {
      "cell_type": "code",
      "source": [
        "g = np.random.random((3,4)) #Random is a class in which random is the method\n",
        "print(g)\n",
        "\"\"\"But when we are using random.random we have to pass the tuple itself\"\"\""
      ],
      "metadata": {
        "colab": {
          "base_uri": "https://localhost:8080/",
          "height": 88
        },
        "id": "CqytyZGcREkY",
        "outputId": "e95887a2-6b2e-405a-d501-2151bb3733f4"
      },
      "execution_count": null,
      "outputs": [
        {
          "output_type": "stream",
          "name": "stdout",
          "text": [
            "[[0.72664699 0.69295033 0.30030998 0.21082705]\n",
            " [0.543575   0.13802339 0.06346965 0.28742048]\n",
            " [0.80857367 0.74101044 0.30374264 0.18976624]]\n"
          ]
        },
        {
          "output_type": "execute_result",
          "data": {
            "text/plain": [
              "'But when we are using random.random we have to pass the tuple itself'"
            ],
            "application/vnd.google.colaboratory.intrinsic+json": {
              "type": "string"
            }
          },
          "metadata": {},
          "execution_count": 77
        }
      ]
    },
    {
      "cell_type": "code",
      "source": [
        "\"\"\"LinSpace is used to generate points from equal distances, Basically the difference every 2 consecutive points will be the Same\"\"\"\n",
        "\n",
        "np.linspace(-10, 10) #Here we didn't specify the number of points to be generated so by defaultly it generates 50 points\n",
        "\n",
        "np.linspace(-10, 10, 5) #Gives 5 equally spaced points from -10 to 10"
      ],
      "metadata": {
        "colab": {
          "base_uri": "https://localhost:8080/"
        },
        "id": "t_ClozoISLO1",
        "outputId": "8adc8218-2415-4bab-9847-e0249d8a6d13"
      },
      "execution_count": null,
      "outputs": [
        {
          "output_type": "execute_result",
          "data": {
            "text/plain": [
              "array([-10.,  -5.,   0.,   5.,  10.])"
            ]
          },
          "metadata": {},
          "execution_count": 11
        }
      ]
    },
    {
      "cell_type": "code",
      "source": [
        "#np.identity is used to create Identity matrix.\n",
        "np.identity(10)  #Since Identity matrix is a square matrix only one argument is sufficient."
      ],
      "metadata": {
        "colab": {
          "base_uri": "https://localhost:8080/"
        },
        "id": "qZjag1raRaLb",
        "outputId": "49cd1974-98dc-4fc6-8565-06966a31cd18"
      },
      "execution_count": null,
      "outputs": [
        {
          "output_type": "execute_result",
          "data": {
            "text/plain": [
              "array([[1., 0., 0., 0., 0., 0., 0., 0., 0., 0.],\n",
              "       [0., 1., 0., 0., 0., 0., 0., 0., 0., 0.],\n",
              "       [0., 0., 1., 0., 0., 0., 0., 0., 0., 0.],\n",
              "       [0., 0., 0., 1., 0., 0., 0., 0., 0., 0.],\n",
              "       [0., 0., 0., 0., 1., 0., 0., 0., 0., 0.],\n",
              "       [0., 0., 0., 0., 0., 1., 0., 0., 0., 0.],\n",
              "       [0., 0., 0., 0., 0., 0., 1., 0., 0., 0.],\n",
              "       [0., 0., 0., 0., 0., 0., 0., 1., 0., 0.],\n",
              "       [0., 0., 0., 0., 0., 0., 0., 0., 1., 0.],\n",
              "       [0., 0., 0., 0., 0., 0., 0., 0., 0., 1.]])"
            ]
          },
          "metadata": {},
          "execution_count": 14
        }
      ]
    },
    {
      "cell_type": "markdown",
      "source": [
        "#Array Attributes"
      ],
      "metadata": {
        "id": "_vqu896vmAbX"
      }
    },
    {
      "cell_type": "code",
      "source": [
        "a1 = np.arange(10) #Vector\n",
        "a2 = np.arange(12, dtype = int).reshape(3,4) #Matrix\n",
        "a3 = np.arange(8).reshape(2,2,2) #Tensor\n",
        "\n",
        "a3"
      ],
      "metadata": {
        "id": "kq7kY0GmSK0o",
        "colab": {
          "base_uri": "https://localhost:8080/"
        },
        "outputId": "25033d40-1d4b-417d-9888-1d8d8721b267"
      },
      "execution_count": null,
      "outputs": [
        {
          "output_type": "execute_result",
          "data": {
            "text/plain": [
              "array([[[0, 1],\n",
              "        [2, 3]],\n",
              "\n",
              "       [[4, 5],\n",
              "        [6, 7]]])"
            ]
          },
          "metadata": {},
          "execution_count": 8
        }
      ]
    },
    {
      "cell_type": "code",
      "source": [
        "\"\"\"ndim is used to know the dimension of the array, but not the shape\"\"\"\n",
        "\n",
        "a1.ndim #Gives 1, since vector proceeds in 1 direction only\n",
        "a2.ndim #Gives 2, since matrix has 2 dimensions rows and columns\n",
        "a3.ndim #Gives 3, since tensor has 3 dimensions, they are Blocks, Rows and Columns"
      ],
      "metadata": {
        "colab": {
          "base_uri": "https://localhost:8080/"
        },
        "id": "VFLefWWnl-Ns",
        "outputId": "157c95a8-d641-4d32-beaa-389aee99a869"
      },
      "execution_count": null,
      "outputs": [
        {
          "output_type": "execute_result",
          "data": {
            "text/plain": [
              "3"
            ]
          },
          "metadata": {},
          "execution_count": 11
        }
      ]
    },
    {
      "cell_type": "code",
      "source": [
        "#Shape, is used to know the shape of the array\n",
        "a1.shape #Remember that shape is not a method, where as reshape is a method\n",
        "a2.shape\n",
        "a3.shape"
      ],
      "metadata": {
        "colab": {
          "base_uri": "https://localhost:8080/"
        },
        "id": "IM3KlV0qnvhP",
        "outputId": "0a9e0041-7185-437a-c79a-8e0585f8fc27"
      },
      "execution_count": null,
      "outputs": [
        {
          "output_type": "execute_result",
          "data": {
            "text/plain": [
              "(2, 2, 2)"
            ]
          },
          "metadata": {},
          "execution_count": 17
        }
      ]
    },
    {
      "cell_type": "code",
      "source": [
        "#Size , gives the number of items in the array\n",
        "a1.size\n",
        "a2.size\n",
        "a3.size"
      ],
      "metadata": {
        "colab": {
          "base_uri": "https://localhost:8080/"
        },
        "id": "hnLdrsgHoeIt",
        "outputId": "b994b0f6-786c-423a-f24b-5f6a4f8432ca"
      },
      "execution_count": null,
      "outputs": [
        {
          "output_type": "execute_result",
          "data": {
            "text/plain": [
              "8"
            ]
          },
          "metadata": {},
          "execution_count": 20
        }
      ]
    },
    {
      "cell_type": "code",
      "source": [
        "\"\"\"In Colab we have 2 types of integers, int32 and int64, by default the integers will be of type int64 and size of each integer 64 will be 8 bytes\"\"\"\n",
        "\n",
        "a1.itemsize #Gives the size of each item/element in the array"
      ],
      "metadata": {
        "colab": {
          "base_uri": "https://localhost:8080/"
        },
        "id": "gi4F9zAoorNZ",
        "outputId": "7c9f1572-3793-46dd-a7a9-d321e3ec82c2"
      },
      "execution_count": null,
      "outputs": [
        {
          "output_type": "execute_result",
          "data": {
            "text/plain": [
              "8"
            ]
          },
          "metadata": {},
          "execution_count": 21
        }
      ]
    },
    {
      "cell_type": "code",
      "source": [
        "a1.dtype #Gives the data type of the array"
      ],
      "metadata": {
        "colab": {
          "base_uri": "https://localhost:8080/"
        },
        "id": "4j-fgkHOp0rn",
        "outputId": "21ff3dd4-3c7c-47fc-c719-9caf0fc06e8e"
      },
      "execution_count": null,
      "outputs": [
        {
          "output_type": "execute_result",
          "data": {
            "text/plain": [
              "dtype('int64')"
            ]
          },
          "metadata": {},
          "execution_count": 27
        }
      ]
    },
    {
      "cell_type": "markdown",
      "source": [
        "#Changing data types"
      ],
      "metadata": {
        "id": "FgPXCv9Yq7lq"
      }
    },
    {
      "cell_type": "code",
      "source": [
        "#astype is used to change the datatype of the column\n",
        "a3.astype(np.int64) #Changes the datatype of the array to int64\n",
        "\n",
        "\"\"\"By transforming the data into lower data types we can save memory\"\"\""
      ],
      "metadata": {
        "id": "riDo0Lsxp5uA",
        "colab": {
          "base_uri": "https://localhost:8080/",
          "height": 36
        },
        "outputId": "39125ebe-723c-4fc2-e21d-42aaacaf6f63"
      },
      "execution_count": null,
      "outputs": [
        {
          "output_type": "execute_result",
          "data": {
            "text/plain": [
              "'By transforming the data into lower data types we can save memory'"
            ],
            "application/vnd.google.colaboratory.intrinsic+json": {
              "type": "string"
            }
          },
          "metadata": {},
          "execution_count": 32
        }
      ]
    },
    {
      "cell_type": "markdown",
      "source": [
        "#Array Operations"
      ],
      "metadata": {
        "id": "Os3epcrwKl8_"
      }
    },
    {
      "cell_type": "code",
      "source": [
        "#Uisng Numpy we can perform any type of mathematical opearation\n",
        "a1 = np.arange(12).reshape(3,4) #Generates 12(3*4) numbers in range of 0(inclusive) to 12(exclusive) and places them in 3x4 matrix\n",
        "a2 = np.arange(12,24).reshape(3,4) #Generates 12 numbers in range of 12(inclusive) to 24(exclusive) and places them in a 3x4 matrix\n",
        "\n",
        "print(a1)\n",
        "print(\"xxxxxxxxxx\")\n",
        "print(a2)"
      ],
      "metadata": {
        "colab": {
          "base_uri": "https://localhost:8080/"
        },
        "id": "49IKHPzfIW-y",
        "outputId": "6ac19400-70ef-4a35-fb90-aeaf1c9bca9c"
      },
      "execution_count": null,
      "outputs": [
        {
          "output_type": "stream",
          "name": "stdout",
          "text": [
            "[[ 0  1  2  3]\n",
            " [ 4  5  6  7]\n",
            " [ 8  9 10 11]]\n",
            "xxxxxxxxxx\n",
            "[[12 13 14 15]\n",
            " [16 17 18 19]\n",
            " [20 21 22 23]]\n"
          ]
        }
      ]
    },
    {
      "cell_type": "markdown",
      "source": [
        "*We can perform both scalar and vector operations on arrays*\n",
        "\n",
        "*Scalar operations include Arthematical and Relational*"
      ],
      "metadata": {
        "id": "Gtn0hFD5Mjwu"
      }
    },
    {
      "cell_type": "code",
      "source": [
        "print(a1 + 100) #Adds 100 to every element of the array.\n",
        "print(\"--------------------------\")\n",
        "print(a1 - 1) #Subtracts 1 from every element of the array.\n",
        "print(\"--------------------------\")\n",
        "print(a1 * 100) #Multiplies each element of array with 100\n",
        "print(\"--------------------------\")\n",
        "print(a1 / 50) #Divides each element of the array with 50\n",
        "print(\"--------------------------\")\n",
        "print(a1 // 3) #Performs floor division with each element in the array\n",
        "print(\"--------------------------\")\n",
        "print(a1 % 5) #Performs modulo operation with each element in the array"
      ],
      "metadata": {
        "colab": {
          "base_uri": "https://localhost:8080/"
        },
        "id": "Y9-GDEs0MK6f",
        "outputId": "7c458b89-cdc0-4bfd-b7ad-a0368ee8eaf2"
      },
      "execution_count": null,
      "outputs": [
        {
          "output_type": "stream",
          "name": "stdout",
          "text": [
            "[[100 101 102 103]\n",
            " [104 105 106 107]\n",
            " [108 109 110 111]]\n",
            "--------------------------\n",
            "[[-1  0  1  2]\n",
            " [ 3  4  5  6]\n",
            " [ 7  8  9 10]]\n",
            "--------------------------\n",
            "[[   0  100  200  300]\n",
            " [ 400  500  600  700]\n",
            " [ 800  900 1000 1100]]\n",
            "--------------------------\n",
            "[[0.   0.02 0.04 0.06]\n",
            " [0.08 0.1  0.12 0.14]\n",
            " [0.16 0.18 0.2  0.22]]\n",
            "--------------------------\n",
            "[[0 0 0 1]\n",
            " [1 1 2 2]\n",
            " [2 3 3 3]]\n",
            "--------------------------\n",
            "[[0 1 2 3]\n",
            " [4 0 1 2]\n",
            " [3 4 0 1]]\n"
          ]
        }
      ]
    },
    {
      "cell_type": "code",
      "source": [
        "#Relational\n",
        "a1 < 5"
      ],
      "metadata": {
        "colab": {
          "base_uri": "https://localhost:8080/"
        },
        "id": "OHOMI43LOhx4",
        "outputId": "d1022e70-4929-4269-f479-2998846a5914"
      },
      "execution_count": null,
      "outputs": [
        {
          "output_type": "execute_result",
          "data": {
            "text/plain": [
              "array([[ True,  True,  True,  True],\n",
              "       [ True, False, False, False],\n",
              "       [False, False, False, False]])"
            ]
          },
          "metadata": {},
          "execution_count": 56
        }
      ]
    },
    {
      "cell_type": "code",
      "source": [
        "\"\"\"Vector Operations\"\"\" \"\"\"Operations between 2 vectors\"\"\"\n",
        "#Arthematic\n",
        "\n",
        "a1 + a2\n",
        "a1 - a2\n",
        "a1 * a2\n",
        "a1 / a2\n",
        "a2 // a1\n",
        "a2 % a1\n",
        "a1 ** a2"
      ],
      "metadata": {
        "colab": {
          "base_uri": "https://localhost:8080/"
        },
        "id": "EIc72_wVPnm6",
        "outputId": "ca0d2bdb-544c-4594-9351-30db9a25706f"
      },
      "execution_count": null,
      "outputs": [
        {
          "output_type": "stream",
          "name": "stderr",
          "text": [
            "<ipython-input-64-31a5e6df1805>:8: RuntimeWarning: divide by zero encountered in floor_divide\n",
            "  a2 // a1\n",
            "<ipython-input-64-31a5e6df1805>:9: RuntimeWarning: divide by zero encountered in remainder\n",
            "  a2 % a1\n"
          ]
        },
        {
          "output_type": "execute_result",
          "data": {
            "text/plain": [
              "array([[                   0,                    1,                16384,\n",
              "                    14348907],\n",
              "       [          4294967296,         762939453125,      101559956668416,\n",
              "           11398895185373143],\n",
              "       [ 1152921504606846976, -1261475310744950487,  1864712049423024128,\n",
              "         6839173302027254275]])"
            ]
          },
          "metadata": {},
          "execution_count": 64
        }
      ]
    },
    {
      "cell_type": "code",
      "source": [
        "b1 = np.random.rand(3,4) #Produces random numbers between 0 and 1 in a 3x4 matrix\n",
        "b1 = np.round(b1 * 100)\n",
        "b1"
      ],
      "metadata": {
        "colab": {
          "base_uri": "https://localhost:8080/"
        },
        "id": "MRLbfW6GTdBe",
        "outputId": "b97c3ca8-1a09-4a3a-e804-256a8700a556"
      },
      "execution_count": null,
      "outputs": [
        {
          "output_type": "execute_result",
          "data": {
            "text/plain": [
              "array([[96., 41., 91., 29.],\n",
              "       [65.,  1., 28., 44.],\n",
              "       [47., 22., 59., 98.]])"
            ]
          },
          "metadata": {},
          "execution_count": 68
        }
      ]
    },
    {
      "cell_type": "code",
      "source": [
        "#Maximum of array\n",
        "np.max(b1)"
      ],
      "metadata": {
        "colab": {
          "base_uri": "https://localhost:8080/"
        },
        "id": "KdoRDu8uUgK4",
        "outputId": "4cf827f9-f214-4e6c-dae7-713c609b7c7c"
      },
      "execution_count": null,
      "outputs": [
        {
          "output_type": "execute_result",
          "data": {
            "text/plain": [
              "98.0"
            ]
          },
          "metadata": {},
          "execution_count": 69
        }
      ]
    },
    {
      "cell_type": "code",
      "source": [
        "#Minimum of array\n",
        "np.min(b1)"
      ],
      "metadata": {
        "colab": {
          "base_uri": "https://localhost:8080/"
        },
        "id": "EVdpd6P2VWDR",
        "outputId": "48e58cd0-ae4b-415a-def6-d7db0c72270d"
      },
      "execution_count": null,
      "outputs": [
        {
          "output_type": "execute_result",
          "data": {
            "text/plain": [
              "1.0"
            ]
          },
          "metadata": {},
          "execution_count": 70
        }
      ]
    },
    {
      "cell_type": "code",
      "source": [
        "\"\"\"Sum of elments in the array\"\"\"\n",
        "np.sum(b1)"
      ],
      "metadata": {
        "colab": {
          "base_uri": "https://localhost:8080/"
        },
        "id": "m3UCJo5dVZLy",
        "outputId": "59b1c64b-8f10-4a8b-f6f1-edc389e36b32"
      },
      "execution_count": null,
      "outputs": [
        {
          "output_type": "execute_result",
          "data": {
            "text/plain": [
              "621.0"
            ]
          },
          "metadata": {},
          "execution_count": 71
        }
      ]
    },
    {
      "cell_type": "code",
      "source": [
        "np.product(b1)"
      ],
      "metadata": {
        "colab": {
          "base_uri": "https://localhost:8080/"
        },
        "id": "sGnCD3c5Vg_W",
        "outputId": "b3aa0fec-f8de-47a2-cf02-d28346305b5c"
      },
      "execution_count": null,
      "outputs": [
        {
          "output_type": "execute_result",
          "data": {
            "text/plain": [
              "4.972985243558492e+18"
            ]
          },
          "metadata": {},
          "execution_count": 72
        }
      ]
    },
    {
      "cell_type": "code",
      "source": [
        "\"\"\"Axis = 0 means we are referring to a Column\"\"\"\n",
        "\"\"\"Axis = 1 means we are referring to a Row (Remember like ROWAN)\"\"\"\n",
        "\n",
        "np.max(b1, axis = 1) #Returns maximum of each row\n",
        "np.min(b1, axis = 1) #Returns minimum of each row\n",
        "\n",
        "np.min(b1, axis = 0) #Returns minimum of each column\n",
        "np.max(b1, axis = 0) #Returns maximum of each column"
      ],
      "metadata": {
        "colab": {
          "base_uri": "https://localhost:8080/"
        },
        "id": "RmREU2YfVjgQ",
        "outputId": "1d81d066-2c4e-4831-b626-72e451bfa80a"
      },
      "execution_count": null,
      "outputs": [
        {
          "output_type": "execute_result",
          "data": {
            "text/plain": [
              "array([96., 41., 91., 98.])"
            ]
          },
          "metadata": {},
          "execution_count": 77
        }
      ]
    },
    {
      "cell_type": "code",
      "source": [
        "#Log and Exp functions\n",
        "np.log(a1)\n",
        "\n",
        "np.exp(a1)  #e power each element of the array"
      ],
      "metadata": {
        "colab": {
          "base_uri": "https://localhost:8080/"
        },
        "id": "Pp_2bvnqk89k",
        "outputId": "eb8d79c7-09b1-4eae-c2bc-34196ffcb75c"
      },
      "execution_count": null,
      "outputs": [
        {
          "output_type": "stream",
          "name": "stderr",
          "text": [
            "<ipython-input-129-409141012ea4>:2: RuntimeWarning: divide by zero encountered in log\n",
            "  np.log(a1)\n"
          ]
        },
        {
          "output_type": "execute_result",
          "data": {
            "text/plain": [
              "array([[1.00000000e+00, 2.71828183e+00, 7.38905610e+00, 2.00855369e+01],\n",
              "       [5.45981500e+01, 1.48413159e+02, 4.03428793e+02, 1.09663316e+03],\n",
              "       [2.98095799e+03, 8.10308393e+03, 2.20264658e+04, 5.98741417e+04]])"
            ]
          },
          "metadata": {},
          "execution_count": 129
        }
      ]
    },
    {
      "cell_type": "code",
      "source": [
        "np.sum(b1, axis=1) #Returns the sum of elements of each row\n",
        "np.sum(b1, axis=0) #Returns the sum of elements of each column\n",
        "\n",
        "np.prod(b1, axis=1) #Returns product of elements of each row\n",
        "np.prod(b1, axis=0) #Returns the product of elements of each column"
      ],
      "metadata": {
        "colab": {
          "base_uri": "https://localhost:8080/"
        },
        "id": "BwOOfIYrWRZI",
        "outputId": "c663cf81-b3f4-43c6-8f99-7895d37ca136"
      },
      "execution_count": null,
      "outputs": [
        {
          "output_type": "execute_result",
          "data": {
            "text/plain": [
              "array([293280.,    902., 150332., 125048.])"
            ]
          },
          "metadata": {},
          "execution_count": 84
        }
      ]
    },
    {
      "cell_type": "code",
      "source": [
        "\"\"\"Statistical functions\"\"\"\n",
        "\n",
        "np.mean(b1) #Mean of all elements of the array\n",
        "np.mean(b1, axis=0) #Mean of elements of each column of the array\n",
        "np.mean(b1, axis=1) #Mean of elements of each row of the array\n",
        "\n",
        "np.median(b1) #Median of all elements of the array\n",
        "np.median(b1, axis=0) #Median of all elements of each column of the array\n",
        "np.median(b1, axis=1) #Median of all elements of each row of the array\n",
        "\n",
        "\"\"\"3*median = 2*mean + mode\"\"\"\n",
        "np.std(b1) #Standard deviation of all the elements of the array\n",
        "np.std(b1, axis=0)\n",
        "np.std(b1, axis=1)\n",
        "\n",
        "np.var(b1) #Variance is referred as Var but not variance\n",
        "np.var(b1, axis=1) #Varinace of elements of each row in the array\n",
        "np.var(b1, axis=0) #variance of elements of each column in the array\n"
      ],
      "metadata": {
        "colab": {
          "base_uri": "https://localhost:8080/"
        },
        "id": "Xs0f3bFwczbU",
        "outputId": "f610041e-ce8f-46d2-8c31-9ff6b78fe1e1"
      },
      "execution_count": null,
      "outputs": [
        {
          "output_type": "execute_result",
          "data": {
            "text/plain": [
              "array([876.6875, 546.25  , 752.25  ])"
            ]
          },
          "metadata": {},
          "execution_count": 99
        }
      ]
    },
    {
      "cell_type": "code",
      "source": [
        "#Trignometric Functions\n",
        "np.sin(b1) * np.cos(b1) * np.tan(b1)"
      ],
      "metadata": {
        "colab": {
          "base_uri": "https://localhost:8080/"
        },
        "id": "rCXfGhe4fs8s",
        "outputId": "d334aa0a-0e0f-4738-890d-420ec8356fbf"
      },
      "execution_count": null,
      "outputs": [
        {
          "output_type": "execute_result",
          "data": {
            "text/plain": [
              "array([[9.67444853e-01, 2.51611511e-02, 1.12333526e-02, 4.40409932e-01],\n",
              "       [6.83645665e-01, 7.08073418e-01, 7.33899461e-02, 3.13358152e-04],\n",
              "       [1.52703167e-02, 7.83456762e-05, 4.05435290e-01, 3.28766771e-01]])"
            ]
          },
          "metadata": {},
          "execution_count": 106
        }
      ]
    },
    {
      "cell_type": "code",
      "source": [
        "\"\"\"Dot product\"\"\" #Most useful\n",
        "#Let (a, b) and (c,d) are the dimensions of the arrays to be performed dot product .\n",
        "#Dot product can only be performed only of b==c i.e; No of rows of one array is equal to no of columns of another column.\n",
        "d1 = np.arange(24).reshape(4,6)\n",
        "d2 = np.arange(24).reshape(6,4)\n",
        "\n",
        "np.dot(d1,d2) #4x4 matrix is expected\n"
      ],
      "metadata": {
        "colab": {
          "base_uri": "https://localhost:8080/"
        },
        "id": "kvOD0ZDggTP9",
        "outputId": "869729c1-102d-411c-f9ef-7ba7f2682bff"
      },
      "execution_count": null,
      "outputs": [
        {
          "output_type": "execute_result",
          "data": {
            "text/plain": [
              "array([[ 220,  235,  250,  265],\n",
              "       [ 580,  631,  682,  733],\n",
              "       [ 940, 1027, 1114, 1201],\n",
              "       [1300, 1423, 1546, 1669]])"
            ]
          },
          "metadata": {},
          "execution_count": 122
        }
      ]
    },
    {
      "cell_type": "code",
      "source": [
        "#Round, Floor and Ceil\n",
        "np.round(np.random.rand(3,4) * 3)\n",
        "\n",
        "np.floor(np.random.rand(3,4) * 3)\n",
        "\n",
        "np.ceil(np.random.rand(3,4) * 3)\n"
      ],
      "metadata": {
        "colab": {
          "base_uri": "https://localhost:8080/"
        },
        "id": "CHy-KF2Il8NT",
        "outputId": "91ffb909-23a2-4807-8d80-dcbf603a3dbe"
      },
      "execution_count": null,
      "outputs": [
        {
          "output_type": "execute_result",
          "data": {
            "text/plain": [
              "array([[3., 2., 3., 1.],\n",
              "       [2., 3., 3., 1.],\n",
              "       [2., 2., 3., 3.]])"
            ]
          },
          "metadata": {},
          "execution_count": 136
        }
      ]
    },
    {
      "cell_type": "markdown",
      "source": [
        "#Index and Slicing"
      ],
      "metadata": {
        "id": "7oGplXBxm02c"
      }
    },
    {
      "cell_type": "code",
      "source": [
        "t1 = np.arange(10)\n",
        "t2 = np.arange(16).reshape(4,4)\n",
        "t3 = np.arange(27).reshape(3,3,3)"
      ],
      "metadata": {
        "id": "cXDOB7jJmf3O"
      },
      "execution_count": null,
      "outputs": []
    },
    {
      "cell_type": "code",
      "source": [
        "t1[9] #Fetches the element at 9th index"
      ],
      "metadata": {
        "colab": {
          "base_uri": "https://localhost:8080/"
        },
        "id": "KfY0n07c01mi",
        "outputId": "23346039-7f21-40d2-863d-2ffd331dfacd"
      },
      "execution_count": null,
      "outputs": [
        {
          "output_type": "execute_result",
          "data": {
            "text/plain": [
              "9"
            ]
          },
          "metadata": {},
          "execution_count": 164
        }
      ]
    },
    {
      "cell_type": "code",
      "source": [
        "t2[2,2] #Fetches the element whose position is [2,2]"
      ],
      "metadata": {
        "colab": {
          "base_uri": "https://localhost:8080/"
        },
        "id": "HueRQf1e0_zF",
        "outputId": "0f3442bd-4724-435a-e347-a4daa6aff134"
      },
      "execution_count": null,
      "outputs": [
        {
          "output_type": "execute_result",
          "data": {
            "text/plain": [
              "10"
            ]
          },
          "metadata": {},
          "execution_count": 151
        }
      ]
    },
    {
      "cell_type": "code",
      "source": [
        "t3"
      ],
      "metadata": {
        "colab": {
          "base_uri": "https://localhost:8080/"
        },
        "id": "kTLK1joZ1XLB",
        "outputId": "da273780-55cb-4874-b973-e92d3d60941e"
      },
      "execution_count": null,
      "outputs": [
        {
          "output_type": "execute_result",
          "data": {
            "text/plain": [
              "array([[[ 0,  1,  2],\n",
              "        [ 3,  4,  5],\n",
              "        [ 6,  7,  8]],\n",
              "\n",
              "       [[ 9, 10, 11],\n",
              "        [12, 13, 14],\n",
              "        [15, 16, 17]],\n",
              "\n",
              "       [[18, 19, 20],\n",
              "        [21, 22, 23],\n",
              "        [24, 25, 26]]])"
            ]
          },
          "metadata": {},
          "execution_count": 152
        }
      ]
    },
    {
      "cell_type": "code",
      "source": [
        "#Fetch the value of 17\n",
        "t3[1,2,2] #As indexing in Python starts from zero. 1 corresponds to 2nd block, 2 corresponds to 3rd row and other 2 corresponds to 3rd column"
      ],
      "metadata": {
        "colab": {
          "base_uri": "https://localhost:8080/"
        },
        "id": "mAYF9DD-1k8S",
        "outputId": "91018226-b1ec-4107-8162-cb0890ab658a"
      },
      "execution_count": null,
      "outputs": [
        {
          "output_type": "execute_result",
          "data": {
            "text/plain": [
              "17"
            ]
          },
          "metadata": {},
          "execution_count": 154
        }
      ]
    },
    {
      "cell_type": "code",
      "source": [
        "# Indexing helps us to fetch one element at a time, but slicing enables us to\n",
        "# fetch multiple/Series of elements at a time\n",
        "\n",
        "t1[5:8:2]"
      ],
      "metadata": {
        "colab": {
          "base_uri": "https://localhost:8080/"
        },
        "id": "M3UdH28l2J1O",
        "outputId": "368918fb-c845-483d-89ea-9ef547c088be"
      },
      "execution_count": null,
      "outputs": [
        {
          "output_type": "execute_result",
          "data": {
            "text/plain": [
              "array([5, 7])"
            ]
          },
          "metadata": {},
          "execution_count": 168
        }
      ]
    },
    {
      "cell_type": "code",
      "source": [
        "t2"
      ],
      "metadata": {
        "colab": {
          "base_uri": "https://localhost:8080/"
        },
        "id": "dgws76TT4zUK",
        "outputId": "bf9c74d1-db05-446a-859f-32daf3089292"
      },
      "execution_count": null,
      "outputs": [
        {
          "output_type": "execute_result",
          "data": {
            "text/plain": [
              "array([[ 0,  1,  2,  3],\n",
              "       [ 4,  5,  6,  7],\n",
              "       [ 8,  9, 10, 11],\n",
              "       [12, 13, 14, 15]])"
            ]
          },
          "metadata": {},
          "execution_count": 4
        }
      ]
    },
    {
      "cell_type": "code",
      "source": [
        "#Fetch 1row from t2\n",
        "t2[0,:] #0 corresponds to 1st row and : corresponds to all columns\n",
        "\n",
        "#Fetch 2 row from t2\n",
        "t2[1,:]\n",
        "\n",
        "#Fetch 15.\n",
        "#15 is located at 3x3\n",
        "t2[2,2]\n",
        "\n",
        "#Fetch all the elements from 3rd column\n",
        "t2[:,2] #3rd column from all rows"
      ],
      "metadata": {
        "colab": {
          "base_uri": "https://localhost:8080/"
        },
        "id": "6JOuAbHA4Zn2",
        "outputId": "4d59a5ca-2ec5-4ff7-836f-dfca67850930"
      },
      "execution_count": null,
      "outputs": [
        {
          "output_type": "execute_result",
          "data": {
            "text/plain": [
              "array([14])"
            ]
          },
          "metadata": {},
          "execution_count": 7
        }
      ]
    },
    {
      "cell_type": "code",
      "source": [
        "#Fetch 5, 6, 9 and 10 from t2\n",
        "#We need 1 and 2 rows and 1 and 2 columns\n",
        "t2[1:3,1:3] #3 will not be counted 1 and 2 are the only values taken"
      ],
      "metadata": {
        "id": "JIlifnXE726I",
        "colab": {
          "base_uri": "https://localhost:8080/"
        },
        "outputId": "5a9a6af7-568c-445a-c0c9-9223a81a1c27"
      },
      "execution_count": null,
      "outputs": [
        {
          "output_type": "execute_result",
          "data": {
            "text/plain": [
              "array([[ 5,  6],\n",
              "       [ 9, 10]])"
            ]
          },
          "metadata": {},
          "execution_count": 9
        }
      ]
    },
    {
      "cell_type": "code",
      "source": [
        "#Need all the elements placed at corners which are 0, 3, 12 and 15\n",
        "t2[::3,::3] #We need 0 and 3rd row and 0 and 3rd column\n",
        "\n",
        "#We need all the rows but with a jump of 3\n",
        "#We need all columns but with a jump of 3"
      ],
      "metadata": {
        "colab": {
          "base_uri": "https://localhost:8080/"
        },
        "id": "Z0R9kcMU1iRB",
        "outputId": "7d521755-3f87-48f3-a6dd-ac2108bd3e53"
      },
      "execution_count": null,
      "outputs": [
        {
          "output_type": "execute_result",
          "data": {
            "text/plain": [
              "array([[ 0,  3],\n",
              "       [12, 15]])"
            ]
          },
          "metadata": {},
          "execution_count": 12
        }
      ]
    },
    {
      "cell_type": "code",
      "source": [
        "#Fetch 1, 3, 9 and 11\n",
        "t2[0::2,1::2] #0th row and 2nd row and 1st column and 3rd column"
      ],
      "metadata": {
        "colab": {
          "base_uri": "https://localhost:8080/"
        },
        "id": "PP_zLaom3Y00",
        "outputId": "3e012988-2cd3-453c-9470-7dc90f50a1a9"
      },
      "execution_count": null,
      "outputs": [
        {
          "output_type": "execute_result",
          "data": {
            "text/plain": [
              "array([[ 1,  3],\n",
              "       [ 9, 11]])"
            ]
          },
          "metadata": {},
          "execution_count": 14
        }
      ]
    },
    {
      "cell_type": "code",
      "source": [
        "#Need 4 and 7\n",
        "#Need only 1 st row, but 0 and 3rd column\n",
        "t2[1,::3] #Equivalent to t2[1,0::3] i.e; Starting from 0th column we need 3rd column"
      ],
      "metadata": {
        "colab": {
          "base_uri": "https://localhost:8080/"
        },
        "id": "DTxWQEE_6uhr",
        "outputId": "6ce2ce99-9149-4787-fa1a-27d0b06d0ff4"
      },
      "execution_count": null,
      "outputs": [
        {
          "output_type": "execute_result",
          "data": {
            "text/plain": [
              "array([4, 7])"
            ]
          },
          "metadata": {},
          "execution_count": 15
        }
      ]
    },
    {
      "cell_type": "code",
      "source": [
        "#Fetch 1,2,3,5,6 and 7\n",
        "#Need 0th row and 1st row\n",
        "#Need 1, 2 and 3 columns\n",
        "t2[0:2,1:]"
      ],
      "metadata": {
        "colab": {
          "base_uri": "https://localhost:8080/"
        },
        "id": "Sg5P7XkA73il",
        "outputId": "c62e25fe-f429-4e9f-ffc9-c448994ab81e"
      },
      "execution_count": null,
      "outputs": [
        {
          "output_type": "execute_result",
          "data": {
            "text/plain": [
              "array([[1, 2, 3],\n",
              "       [5, 6, 7]])"
            ]
          },
          "metadata": {},
          "execution_count": 17
        }
      ]
    },
    {
      "cell_type": "code",
      "source": [
        "t3"
      ],
      "metadata": {
        "colab": {
          "base_uri": "https://localhost:8080/"
        },
        "id": "oTZpYNlK-Y_y",
        "outputId": "80900e0b-d542-4d0c-c7da-413141d4febc"
      },
      "execution_count": null,
      "outputs": [
        {
          "output_type": "execute_result",
          "data": {
            "text/plain": [
              "array([[[ 0,  1,  2],\n",
              "        [ 3,  4,  5],\n",
              "        [ 6,  7,  8]],\n",
              "\n",
              "       [[ 9, 10, 11],\n",
              "        [12, 13, 14],\n",
              "        [15, 16, 17]],\n",
              "\n",
              "       [[18, 19, 20],\n",
              "        [21, 22, 23],\n",
              "        [24, 25, 26]]])"
            ]
          },
          "metadata": {},
          "execution_count": 18
        }
      ]
    },
    {
      "cell_type": "code",
      "source": [
        "#t3 consists of 3 2d arrays.\n",
        "#Fetch the 2nd 2-D array\n",
        "t3[1] #Passing the index of the 2nd block"
      ],
      "metadata": {
        "colab": {
          "base_uri": "https://localhost:8080/"
        },
        "id": "t48hWeS_-sEg",
        "outputId": "f165d3a6-0d48-431c-c145-22c710b1a4e6"
      },
      "execution_count": null,
      "outputs": [
        {
          "output_type": "execute_result",
          "data": {
            "text/plain": [
              "array([[ 9, 10, 11],\n",
              "       [12, 13, 14],\n",
              "       [15, 16, 17]])"
            ]
          },
          "metadata": {},
          "execution_count": 19
        }
      ]
    },
    {
      "cell_type": "code",
      "source": [
        "#Fetch 1st and 3rd block\n",
        "t3[0::2]"
      ],
      "metadata": {
        "colab": {
          "base_uri": "https://localhost:8080/"
        },
        "id": "j1sZQJTA_f_x",
        "outputId": "63a36729-f46b-47e4-9864-4863988a3118"
      },
      "execution_count": null,
      "outputs": [
        {
          "output_type": "execute_result",
          "data": {
            "text/plain": [
              "array([[[ 0,  1,  2],\n",
              "        [ 3,  4,  5],\n",
              "        [ 6,  7,  8]],\n",
              "\n",
              "       [[18, 19, 20],\n",
              "        [21, 22, 23],\n",
              "        [24, 25, 26]]])"
            ]
          },
          "metadata": {},
          "execution_count": 22
        }
      ]
    },
    {
      "cell_type": "code",
      "source": [
        "#Fetch 1st row in 1st block\n",
        "#First go to that block and fetch the required elements\n",
        "t3[0,1,:]"
      ],
      "metadata": {
        "colab": {
          "base_uri": "https://localhost:8080/"
        },
        "id": "bf8zcwQWAa4S",
        "outputId": "fae7e049-fb11-471c-bcee-f55b3c8f76d1"
      },
      "execution_count": null,
      "outputs": [
        {
          "output_type": "execute_result",
          "data": {
            "text/plain": [
              "array([3, 4, 5])"
            ]
          },
          "metadata": {},
          "execution_count": 24
        }
      ]
    },
    {
      "cell_type": "code",
      "source": [
        "#Fetch middle column of the 2nd numpy array\n",
        "t3[1,:,1]"
      ],
      "metadata": {
        "colab": {
          "base_uri": "https://localhost:8080/"
        },
        "id": "tMXS1-4rDNhp",
        "outputId": "7f5330b3-7960-4674-a0a0-c702d183ddb6"
      },
      "execution_count": null,
      "outputs": [
        {
          "output_type": "execute_result",
          "data": {
            "text/plain": [
              "array([10, 13, 16])"
            ]
          },
          "metadata": {},
          "execution_count": 25
        }
      ]
    },
    {
      "cell_type": "code",
      "source": [
        "#Return 22,23,25 and 26 from 3rd block\n",
        "t3[2,1:,1:]"
      ],
      "metadata": {
        "id": "GH7XrzEuDmVE",
        "colab": {
          "base_uri": "https://localhost:8080/"
        },
        "outputId": "e94d2491-74dd-4b54-d5a8-81858ce4295b"
      },
      "execution_count": null,
      "outputs": [
        {
          "output_type": "execute_result",
          "data": {
            "text/plain": [
              "array([[22, 23],\n",
              "       [25, 26]])"
            ]
          },
          "metadata": {},
          "execution_count": 27
        }
      ]
    },
    {
      "cell_type": "code",
      "source": [
        "#Fetch 0,2,18 and 20\n",
        "t3[0::2,0,0::2]"
      ],
      "metadata": {
        "colab": {
          "base_uri": "https://localhost:8080/"
        },
        "id": "SazgPG3TQYdU",
        "outputId": "cc1440b5-a37e-4720-e901-dda119d9a882"
      },
      "execution_count": null,
      "outputs": [
        {
          "output_type": "execute_result",
          "data": {
            "text/plain": [
              "array([[ 0,  2],\n",
              "       [18, 20]])"
            ]
          },
          "metadata": {},
          "execution_count": 28
        }
      ]
    },
    {
      "cell_type": "markdown",
      "source": [
        "#Iterating through Arrays"
      ],
      "metadata": {
        "id": "5ITHqgiOWVLU"
      }
    },
    {
      "cell_type": "code",
      "source": [
        "num = [100,99,98,95,100,90,49]\n",
        "\n",
        "for i in num:\n",
        "  print(i) #Prints the numbers but not the indices"
      ],
      "metadata": {
        "colab": {
          "base_uri": "https://localhost:8080/"
        },
        "id": "IEcNUlTfT_cy",
        "outputId": "2cb5b634-3a80-4a1a-e7d7-94de748f5902"
      },
      "execution_count": null,
      "outputs": [
        {
          "output_type": "stream",
          "name": "stdout",
          "text": [
            "100\n",
            "99\n",
            "98\n",
            "95\n",
            "100\n",
            "90\n",
            "49\n"
          ]
        }
      ]
    },
    {
      "cell_type": "code",
      "source": [
        "t1\n",
        "for i in t1:\n",
        "  print(i)"
      ],
      "metadata": {
        "colab": {
          "base_uri": "https://localhost:8080/"
        },
        "id": "K-dgEuWZXCrG",
        "outputId": "56411879-93d3-418e-ca5d-e3cb00f21ff1"
      },
      "execution_count": null,
      "outputs": [
        {
          "output_type": "stream",
          "name": "stdout",
          "text": [
            "0\n",
            "1\n",
            "2\n",
            "3\n",
            "4\n",
            "5\n",
            "6\n",
            "7\n",
            "8\n",
            "9\n"
          ]
        }
      ]
    },
    {
      "cell_type": "code",
      "source": [
        "#When we iterate over a loop of a 2-D array, everytime a row(1-D) gets printed\n",
        "\n",
        "t2\n",
        "\n",
        "for i in t2:\n",
        "  print(i)"
      ],
      "metadata": {
        "colab": {
          "base_uri": "https://localhost:8080/"
        },
        "id": "0JanZ3A4XGLF",
        "outputId": "9fcc606b-635c-4a9e-b7f2-cb3d47aa7a35"
      },
      "execution_count": null,
      "outputs": [
        {
          "output_type": "stream",
          "name": "stdout",
          "text": [
            "[0 1 2 3]\n",
            "[4 5 6 7]\n",
            "[ 8  9 10 11]\n",
            "[12 13 14 15]\n"
          ]
        }
      ]
    },
    {
      "cell_type": "code",
      "source": [
        "t3\n",
        "for i in t3:\n",
        "  print(i)"
      ],
      "metadata": {
        "colab": {
          "base_uri": "https://localhost:8080/"
        },
        "id": "WeRnNG_TYI1O",
        "outputId": "a391dba3-b3a1-4133-dae8-0c7cb6184438"
      },
      "execution_count": null,
      "outputs": [
        {
          "output_type": "stream",
          "name": "stdout",
          "text": [
            "[[0 1 2]\n",
            " [3 4 5]\n",
            " [6 7 8]]\n",
            "[[ 9 10 11]\n",
            " [12 13 14]\n",
            " [15 16 17]]\n",
            "[[18 19 20]\n",
            " [21 22 23]\n",
            " [24 25 26]]\n"
          ]
        }
      ]
    },
    {
      "cell_type": "code",
      "source": [
        "#For printing each item in the array\n",
        "for i in np.nditer(t2):\n",
        "  print(i)\n",
        "\n",
        "#nditer converts any array of arbitary size into 1-D array and iterates through it\n",
        "#here t2 is 2-d array, nditer converted it into 1-D array and iterated through it\n"
      ],
      "metadata": {
        "colab": {
          "base_uri": "https://localhost:8080/"
        },
        "id": "9CvdCbnhY9Sk",
        "outputId": "5d3125c1-6c7c-4c44-899a-7a1be9de9405"
      },
      "execution_count": null,
      "outputs": [
        {
          "output_type": "stream",
          "name": "stdout",
          "text": [
            "0\n",
            "1\n",
            "2\n",
            "3\n",
            "4\n",
            "5\n",
            "6\n",
            "7\n",
            "8\n",
            "9\n",
            "10\n",
            "11\n",
            "12\n",
            "13\n",
            "14\n",
            "15\n"
          ]
        }
      ]
    },
    {
      "cell_type": "code",
      "source": [
        "for i in np.nditer(t3):\n",
        "  print(i)"
      ],
      "metadata": {
        "colab": {
          "base_uri": "https://localhost:8080/"
        },
        "id": "_DE-JeNeZzww",
        "outputId": "de25142e-b42a-43a8-bcc0-941e3e6f6b15"
      },
      "execution_count": null,
      "outputs": [
        {
          "output_type": "stream",
          "name": "stdout",
          "text": [
            "0\n",
            "1\n",
            "2\n",
            "3\n",
            "4\n",
            "5\n",
            "6\n",
            "7\n",
            "8\n",
            "9\n",
            "10\n",
            "11\n",
            "12\n",
            "13\n",
            "14\n",
            "15\n",
            "16\n",
            "17\n",
            "18\n",
            "19\n",
            "20\n",
            "21\n",
            "22\n",
            "23\n",
            "24\n",
            "25\n",
            "26\n"
          ]
        }
      ]
    },
    {
      "cell_type": "markdown",
      "source": [
        "#Reshaping"
      ],
      "metadata": {
        "id": "4e68-9xLaKkf"
      }
    },
    {
      "cell_type": "code",
      "source": [
        "np.reshape(t2,(2,8))"
      ],
      "metadata": {
        "colab": {
          "base_uri": "https://localhost:8080/"
        },
        "id": "Y7s9FJTqZ8ig",
        "outputId": "67e2f17f-c91b-4bfe-e66d-24f77d387e19"
      },
      "execution_count": null,
      "outputs": [
        {
          "output_type": "execute_result",
          "data": {
            "text/plain": [
              "array([[ 0,  1,  2,  3,  4,  5,  6,  7],\n",
              "       [ 8,  9, 10, 11, 12, 13, 14, 15]])"
            ]
          },
          "metadata": {},
          "execution_count": 39
        }
      ]
    },
    {
      "cell_type": "code",
      "source": [
        "np.transpose(t3)"
      ],
      "metadata": {
        "colab": {
          "base_uri": "https://localhost:8080/"
        },
        "id": "g9Wi9lIrajnz",
        "outputId": "3a3ac129-4f3a-4ea5-a1b1-777b1dc2322f"
      },
      "execution_count": null,
      "outputs": [
        {
          "output_type": "execute_result",
          "data": {
            "text/plain": [
              "array([[[ 0,  9, 18],\n",
              "        [ 3, 12, 21],\n",
              "        [ 6, 15, 24]],\n",
              "\n",
              "       [[ 1, 10, 19],\n",
              "        [ 4, 13, 22],\n",
              "        [ 7, 16, 25]],\n",
              "\n",
              "       [[ 2, 11, 20],\n",
              "        [ 5, 14, 23],\n",
              "        [ 8, 17, 26]]])"
            ]
          },
          "metadata": {},
          "execution_count": 40
        }
      ]
    },
    {
      "cell_type": "code",
      "source": [
        "t3.T #Shorthand for transpose operation"
      ],
      "metadata": {
        "colab": {
          "base_uri": "https://localhost:8080/"
        },
        "id": "eSFakC4Oasp0",
        "outputId": "d7bfde15-2991-4d09-a189-c98fd7894db7"
      },
      "execution_count": null,
      "outputs": [
        {
          "output_type": "execute_result",
          "data": {
            "text/plain": [
              "array([[[ 0,  9, 18],\n",
              "        [ 3, 12, 21],\n",
              "        [ 6, 15, 24]],\n",
              "\n",
              "       [[ 1, 10, 19],\n",
              "        [ 4, 13, 22],\n",
              "        [ 7, 16, 25]],\n",
              "\n",
              "       [[ 2, 11, 20],\n",
              "        [ 5, 14, 23],\n",
              "        [ 8, 17, 26]]])"
            ]
          },
          "metadata": {},
          "execution_count": 42
        }
      ]
    },
    {
      "cell_type": "code",
      "source": [
        "#Ravel, converts array of any size into 1-D array\n",
        "t3.ravel()"
      ],
      "metadata": {
        "colab": {
          "base_uri": "https://localhost:8080/"
        },
        "id": "0QjbNTD7a_mQ",
        "outputId": "98411e57-fd11-4519-cfab-4dc316bf6238"
      },
      "execution_count": null,
      "outputs": [
        {
          "output_type": "execute_result",
          "data": {
            "text/plain": [
              "array([ 0,  1,  2,  3,  4,  5,  6,  7,  8,  9, 10, 11, 12, 13, 14, 15, 16,\n",
              "       17, 18, 19, 20, 21, 22, 23, 24, 25, 26])"
            ]
          },
          "metadata": {},
          "execution_count": 43
        }
      ]
    },
    {
      "cell_type": "code",
      "source": [
        "for i in t3.ravel():\n",
        "  print(i)"
      ],
      "metadata": {
        "colab": {
          "base_uri": "https://localhost:8080/"
        },
        "id": "G8_ou-oFbjBo",
        "outputId": "51fc352a-591f-455e-8094-c90852d3a061"
      },
      "execution_count": null,
      "outputs": [
        {
          "output_type": "stream",
          "name": "stdout",
          "text": [
            "0\n",
            "1\n",
            "2\n",
            "3\n",
            "4\n",
            "5\n",
            "6\n",
            "7\n",
            "8\n",
            "9\n",
            "10\n",
            "11\n",
            "12\n",
            "13\n",
            "14\n",
            "15\n",
            "16\n",
            "17\n",
            "18\n",
            "19\n",
            "20\n",
            "21\n",
            "22\n",
            "23\n",
            "24\n",
            "25\n",
            "26\n"
          ]
        }
      ]
    },
    {
      "cell_type": "markdown",
      "source": [
        "#Stacking"
      ],
      "metadata": {
        "id": "fF9oIJxrbrhb"
      }
    },
    {
      "cell_type": "code",
      "source": [
        "p1 = np.arange(12).reshape(4,3)\n",
        "p2 = np.arange(12,24).reshape(4,3)\n",
        "\n",
        "print(p1)\n",
        "print(p2)"
      ],
      "metadata": {
        "colab": {
          "base_uri": "https://localhost:8080/"
        },
        "id": "qxZnxYTabqdk",
        "outputId": "4ebba512-e94a-4ceb-f197-47e0deeb14ae"
      },
      "execution_count": null,
      "outputs": [
        {
          "output_type": "stream",
          "name": "stdout",
          "text": [
            "[[ 0  1  2]\n",
            " [ 3  4  5]\n",
            " [ 6  7  8]\n",
            " [ 9 10 11]]\n",
            "[[12 13 14]\n",
            " [15 16 17]\n",
            " [18 19 20]\n",
            " [21 22 23]]\n"
          ]
        }
      ]
    },
    {
      "cell_type": "code",
      "source": [
        "\"\"\"We have to pass the input as a tuple\"\"\"\n",
        "np.hstack((p1,p2)) #Horizontal stacking, side by side"
      ],
      "metadata": {
        "colab": {
          "base_uri": "https://localhost:8080/"
        },
        "id": "1k2ZuCsGe9Lr",
        "outputId": "68703c25-ca4c-4002-e717-938530f47e31"
      },
      "execution_count": null,
      "outputs": [
        {
          "output_type": "execute_result",
          "data": {
            "text/plain": [
              "array([[ 0,  1,  2, 12, 13, 14],\n",
              "       [ 3,  4,  5, 15, 16, 17],\n",
              "       [ 6,  7,  8, 18, 19, 20],\n",
              "       [ 9, 10, 11, 21, 22, 23]])"
            ]
          },
          "metadata": {},
          "execution_count": 48
        }
      ]
    },
    {
      "cell_type": "code",
      "source": [
        "np.vstack((p1,p2)) #One on One stacking"
      ],
      "metadata": {
        "colab": {
          "base_uri": "https://localhost:8080/"
        },
        "id": "9q-T0tZffIvN",
        "outputId": "9e70d26c-69d4-4f60-f125-ad80f1fdd3a4"
      },
      "execution_count": null,
      "outputs": [
        {
          "output_type": "execute_result",
          "data": {
            "text/plain": [
              "array([[ 0,  1,  2],\n",
              "       [ 3,  4,  5],\n",
              "       [ 6,  7,  8],\n",
              "       [ 9, 10, 11],\n",
              "       [12, 13, 14],\n",
              "       [15, 16, 17],\n",
              "       [18, 19, 20],\n",
              "       [21, 22, 23]])"
            ]
          },
          "metadata": {},
          "execution_count": 51
        }
      ]
    },
    {
      "cell_type": "markdown",
      "source": [
        "**For stacking, the shape must be the same**"
      ],
      "metadata": {
        "id": "k3NJ-LWefvTI"
      }
    },
    {
      "cell_type": "markdown",
      "source": [
        "#Splitting(Opposite of stacking)"
      ],
      "metadata": {
        "id": "s52ltjVMf9Oc"
      }
    },
    {
      "cell_type": "code",
      "source": [
        "t2"
      ],
      "metadata": {
        "colab": {
          "base_uri": "https://localhost:8080/"
        },
        "id": "zuCuq4Qqfixz",
        "outputId": "2e188553-6929-40a3-a19e-d58c354c2b30"
      },
      "execution_count": null,
      "outputs": [
        {
          "output_type": "execute_result",
          "data": {
            "text/plain": [
              "array([[ 0,  1,  2,  3],\n",
              "       [ 4,  5,  6,  7],\n",
              "       [ 8,  9, 10, 11],\n",
              "       [12, 13, 14, 15]])"
            ]
          },
          "metadata": {},
          "execution_count": 52
        }
      ]
    },
    {
      "cell_type": "code",
      "source": [
        "np.hsplit(t2,4)"
      ],
      "metadata": {
        "colab": {
          "base_uri": "https://localhost:8080/"
        },
        "id": "Is6o8GuGgP06",
        "outputId": "9116e020-6f97-432c-cee1-e5002d6b91f1"
      },
      "execution_count": null,
      "outputs": [
        {
          "output_type": "execute_result",
          "data": {
            "text/plain": [
              "[array([[ 0],\n",
              "        [ 4],\n",
              "        [ 8],\n",
              "        [12]]),\n",
              " array([[ 1],\n",
              "        [ 5],\n",
              "        [ 9],\n",
              "        [13]]),\n",
              " array([[ 2],\n",
              "        [ 6],\n",
              "        [10],\n",
              "        [14]]),\n",
              " array([[ 3],\n",
              "        [ 7],\n",
              "        [11],\n",
              "        [15]])]"
            ]
          },
          "metadata": {},
          "execution_count": 53
        }
      ]
    },
    {
      "cell_type": "code",
      "source": [
        "np.vsplit(t2,4)"
      ],
      "metadata": {
        "id": "IjllD_KJgc9z",
        "outputId": "433b47d7-cf68-47fc-9dd5-ef0f9dd13467",
        "colab": {
          "base_uri": "https://localhost:8080/"
        }
      },
      "execution_count": null,
      "outputs": [
        {
          "output_type": "execute_result",
          "data": {
            "text/plain": [
              "[array([[0, 1, 2, 3]]),\n",
              " array([[4, 5, 6, 7]]),\n",
              " array([[ 8,  9, 10, 11]]),\n",
              " array([[12, 13, 14, 15]])]"
            ]
          },
          "metadata": {},
          "execution_count": 54
        }
      ]
    }
  ]
}